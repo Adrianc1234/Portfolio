{
  "cells": [
    {
      "cell_type": "markdown",
      "metadata": {
        "id": "eg3vS3Mfk1G-"
      },
      "source": [
        "# <center> Universidad Politécnica de Yucatán </center>\n",
        "# <center> ![logoupy](https://static.wixstatic.com/media/e16f80_45021b575f1c40cf9102e482464cb4ea~mv2_d_3000_2100_s_2.png/v1/fill/w_560,h_394,al_c,q_85,usm_0.66_1.00_0.01/e16f80_45021b575f1c40cf9102e482464cb4ea~mv2_d_3000_2100_s_2.webp)\n",
        "## <center> Supervise Learning </center>\n",
        "<center><h2>Data 7A</h2></center>\n",
        "<center><h2>Team:</h2></center>\n",
        "<center><strong>\n",
        "<li>Adrian Roberto Carmona Rodriguez</li>\n",
        "<li>Alfredo Alexander Paz Martínez</li>\n",
        "<li>Pedro Alejandro Uican díaz</li>\n",
        "<li>Karla Patricia Valdez Echeverria</li>\n",
        "<li>Emmanuel Alejandro Hurtado Alejandre</li>\n",
        "</strong></center>\n"
      ]
    },
    {
      "cell_type": "markdown",
      "metadata": {
        "id": "l6cDcA1iq5lz"
      },
      "source": [
        "<h3>Introduction</h3>\n",
        "<p class=\"texto-justificado\">In this notebook we'll see how underfit and overfit looks like with an example.</br>\n",
        "\n",
        "The simplest model is a linear regression, where the outputs are a linearly weighted combination of the inputs. In this case we are going to use polynomial regression with just one input variable $x$ and one ouptut variable $y$.</p>\n"
      ]
    },
    {
      "cell_type": "code",
      "execution_count": 1,
      "metadata": {
        "id": "-2kGdTRvpTFW"
      },
      "outputs": [],
      "source": [
        "# Libraries\n",
        "from os import system\n",
        "import matplotlib.pyplot as plt\n",
        "import numpy as np\n",
        "from sklearn.linear_model import LinearRegression\n",
        "from sklearn.metrics import mean_absolute_error\n",
        "from sklearn.pipeline import Pipeline\n",
        "from sklearn.preprocessing import PolynomialFeatures"
      ]
    },
    {
      "cell_type": "markdown",
      "metadata": {
        "id": "67Z2wPAvr0dQ"
      },
      "source": [
        "<strong><h3>Model</h3></strong>\n",
        "\n",
        "The general equation for a polynomial is below.\n",
        "\n",
        "$$y = \\theta_0 + \\theta_1 x + \\theta_2 x^2 + \\theta_3 x^3 \\dots + \\theta_n x^n + \\epsilon$$\n",
        "\n",
        "Here $y$ represents the **target** and $x$ the **feature**.\n",
        "\n",
        "The $\\theta$ coefficients are the model **parameters** which are to be learned during training and $\\epsilon$ is the error present in any model (not to be confused with the error function).\n",
        "\n",
        "We can consider the degree of the polynomial as an **hyperparameter** that we need to choose.\n",
        "\n",
        "<strong><h3>Creating Data</h3></strong>\n",
        "\n",
        "Let's create some syntetic data with the function\n",
        "\n",
        "$$f(x) = \\cos\\left(\\frac{3}{2}\\pi x\\right)$$\n",
        "\n",
        "and add some random noise.\n",
        "\n",
        "<strong><h4>Resume:</h4></strong>\n",
        "\n",
        "<i>In this part we make a code to create a sample of data adding some of noise to them. The function was applied to X variable and then we got Y variable, that in this case X variable is clean data without noise, after applying the function, we got the y variable with noise.</i>"
      ]
    },
    {
      "cell_type": "markdown",
      "metadata": {
        "id": "oopHwhZ7tvRx"
      },
      "source": [
        "\n"
      ]
    },
    {
      "cell_type": "code",
      "execution_count": 2,
      "metadata": {
        "colab": {
          "base_uri": "https://localhost:8080/",
          "height": 374
        },
        "id": "Ycsks1hmq3I6",
        "outputId": "88f02537-4c9e-456f-da4c-6bd8615b3f6a"
      },
      "outputs": [
        {
          "output_type": "display_data",
          "data": {
            "image/png": "[encoded data removed]",
            "text/plain": [
              "<Figure size 864x432 with 1 Axes>"
            ]
          },
          "metadata": {
            "needs_background": "light"
          }
        }
      ],
      "source": [
        "#code to make new data\n",
        "np.random.seed(0)\n",
        "f = lambda x: np.cos(1.5 * np.pi * x)\n",
        "n_samples = 30\n",
        "x = np.sort(np.random.rand(n_samples))\n",
        "y = f(x) + np.random.randn(n_samples) * 0.1   # Here y = f(x) + some random noise\n",
        "plt.figure(figsize=(12, 6));\n",
        "plt.scatter(x, y);"
      ]
    },
    {
      "cell_type": "markdown",
      "metadata": {
        "id": "CLLPa_Qsxun4"
      },
      "source": [
        "<strong><h3>Helper functions</h3></strong>\n",
        "\n",
        "Now let's create some functions to fit a linear regression to the data with a specific degree hyperparameter and plot the results."
      ]
    },
    {
      "cell_type": "code",
      "execution_count": 3,
      "metadata": {
        "id": "OLFreUorxji9"
      },
      "outputs": [],
      "source": [
        "def make_linear_regression(x, y, degree):\n",
        "    polynomial_features = PolynomialFeatures(degree=degree,include_bias=False)\n",
        "    linear_regression = LinearRegression()\n",
        "    pipe = Pipeline([(\"polynomial_features\", polynomial_features),\n",
        "                         (\"linear_regression\", linear_regression)])\n",
        "    pipe.fit(x[:, np.newaxis], y)\n",
        "    return pipe\n",
        "\n",
        "def plot_results(f, x, y, pipe, degree):\n",
        "    x_line = np.linspace(0, 1, 30)   \n",
        "    plt.figure(figsize=(12, 6))\n",
        "    plt.scatter(x, y, label=\"Samples\", color=\"green\")\n",
        "    plt.plot(x_line, pipe.predict(x_line[:, np.newaxis]), label=\"Model\")\n",
        "    plt.plot(x_line, f(x_line), label=\"True function\")\n",
        "    plt.xlim((0, 1))\n",
        "    plt.ylim((-2, 2))\n",
        "    plt.legend()\n",
        "    plt.title(\"Degree %d\" % degree)"
      ]
    },
    {
      "cell_type": "markdown",
      "metadata": {
        "id": "3AZyHLkQzqgR"
      },
      "source": [
        "## Model training\n",
        "\n",
        "We choose a specific degree as hyperparameter and then fit the model to the data plotting the results."
      ]
    },
    {
      "cell_type": "code",
      "execution_count": 4,
      "metadata": {
        "colab": {
          "base_uri": "https://localhost:8080/",
          "height": 390
        },
        "id": "rhn7MBFYlkUh",
        "outputId": "91d5156f-83b1-4f42-ed12-a5085d2aed5b"
      },
      "outputs": [
        {
          "output_type": "display_data",
          "data": {
            "image/png": "[encoded data removed]",
            "text/plain": [
              "<Figure size 864x432 with 1 Axes>"
            ]
          },
          "metadata": {
            "needs_background": "light"
          }
        }
      ],
      "source": [
        "degree = 2\n",
        "pipe = make_linear_regression(x, y, degree)\n",
        "plot_results(f, x, y, pipe, degree)"
      ]
    },
    {
      "cell_type": "markdown",
      "metadata": {
        "id": "tYzrGl4q9PB5"
      },
      "source": [
        "### Learned parameters\n",
        "\n",
        "The coefficients of the linear regression model are the parameters learned from the data. They are the result of the \"best attempt\" of the model (given its capacity) to fit to the data provided."
      ]
    },
    {
      "cell_type": "code",
      "execution_count": 5,
      "metadata": {
        "colab": {
          "base_uri": "https://localhost:8080/"
        },
        "id": "WZVmLCPm4ofs",
        "outputId": "d9175098-3ac2-4697-9ed7-d01796e5dfcb"
      },
      "outputs": [
        {
          "output_type": "execute_result",
          "data": {
            "text/plain": [
              "(1.5411486872392535, array([-7.31956683,  5.55955392]))"
            ]
          },
          "metadata": {},
          "execution_count": 5
        }
      ],
      "source": [
        "pipe['linear_regression'].intercept_, pipe['linear_regression'].coef_"
      ]
    },
    {
      "cell_type": "code",
      "execution_count": 6,
      "metadata": {
        "colab": {
          "base_uri": "https://localhost:8080/"
        },
        "id": "tVEPuQiU9Xn9",
        "outputId": "b265d032-acb5-4dcb-ecc2-aa2e0508fd5b"
      },
      "outputs": [
        {
          "output_type": "execute_result",
          "data": {
            "text/plain": [
              "array(['x0', 'x0^2'], dtype=object)"
            ]
          },
          "metadata": {},
          "execution_count": 6
        }
      ],
      "source": [
        "pipe['polynomial_features'].get_feature_names_out()"
      ]
    },
    {
      "cell_type": "markdown",
      "metadata": {
        "id": "ofL5PLcN9nEU"
      },
      "source": [
        "$\\hat{y} = 1.54 - 7.31 x + 5.55 x^2$"
      ]
    },
    {
      "cell_type": "markdown",
      "metadata": {
        "id": "AA4q4WEJ-xmv"
      },
      "source": [
        "### Training error\n",
        "\n",
        "Now compare the true values $y$ with the predicted values $\\hat{y}$ predicted by the model using Mean Absolute Error (MAE) as error function."
      ]
    },
    {
      "cell_type": "code",
      "execution_count": 7,
      "metadata": {
        "colab": {
          "base_uri": "https://localhost:8080/"
        },
        "id": "bdLoRCS0-0Jt",
        "outputId": "d6cb7d30-ed20-4544-e4bb-f9018165280b"
      },
      "outputs": [
        {
          "output_type": "execute_result",
          "data": {
            "text/plain": [
              "0.15088109160456897"
            ]
          },
          "metadata": {},
          "execution_count": 7
        }
      ],
      "source": [
        "y_hat = pipe.predict(x[:, np.newaxis])\n",
        "train_error = mean_absolute_error(y, y_hat)\n",
        "train_error"
      ]
    },
    {
      "cell_type": "markdown",
      "metadata": {
        "id": "QlP3DTBF92wX"
      },
      "source": [
        "## Validate the model with new data\n",
        "\n",
        "Now, to validate the performance of the model with new data from the same distribution as the training data we generate a new dataset (validation set)."
      ]
    },
    {
      "cell_type": "code",
      "execution_count": 8,
      "metadata": {
        "colab": {
          "base_uri": "https://localhost:8080/",
          "height": 374
        },
        "id": "0qWMJzBg91eY",
        "outputId": "c23783ff-823e-4ec1-ed28-e52f06eb5982"
      },
      "outputs": [
        {
          "output_type": "display_data",
          "data": {
            "image/png": "[encoded data removed]",
            "text/plain": [
              "<Figure size 864x432 with 1 Axes>"
            ]
          },
          "metadata": {
            "needs_background": "light"
          }
        }
      ],
      "source": [
        "np.random.seed(904)\n",
        "\n",
        "f = lambda x: np.cos(1.5 * np.pi * x)\n",
        "n_samples = 30\n",
        "\n",
        "x_val = np.sort(np.random.rand(n_samples))\n",
        "y_val = f(x_val) + np.random.randn(n_samples) * 0.1\n",
        "\n",
        "plt.figure(figsize=(12, 6));\n",
        "plt.scatter(x_val, y_val);"
      ]
    },
    {
      "cell_type": "markdown",
      "metadata": {
        "id": "HbqCkm9p-EBG"
      },
      "source": [
        "### Predicting the validation data\n",
        "\n",
        "Lets plot how the model we have fits the new data and measure the error."
      ]
    },
    {
      "cell_type": "code",
      "execution_count": 9,
      "metadata": {
        "colab": {
          "base_uri": "https://localhost:8080/"
        },
        "id": "5ExyAZfT-IOk",
        "outputId": "b3d7b8a5-9422-4bdd-f74e-2767d51d556f"
      },
      "outputs": [
        {
          "output_type": "execute_result",
          "data": {
            "text/plain": [
              "0.17114595663617216"
            ]
          },
          "metadata": {},
          "execution_count": 9
        }
      ],
      "source": [
        "y_hat_val = pipe.predict(x_val[:, np.newaxis])\n",
        "val_error = mean_absolute_error(y_val, y_hat_val)\n",
        "val_error"
      ]
    },
    {
      "cell_type": "markdown",
      "metadata": {
        "id": "yCV22UAp_SE2"
      },
      "source": [
        "<strong><h1>Your task</h1></strong>\n",
        "<strong>----------------------------------------------------------------------------------------------------------------------<strong><br>\n",
        "Now you have seen examples of the difference between the error in training data and the error in validation data your task is to iterate on the degree hyperparameter from 1 to 25 fitting the corresponding model to the training data and use it to make predictions with the validation data.\n",
        "\n",
        "Each team must generate a different validation data changing the value of the random seed as in\n",
        "\n",
        "```np.random.seed(904)```\n",
        "\n",
        "but please use the same training data.\n",
        "\n",
        "* You need to produce a graph with the degree of the polynomial on the x axis and the error measurement on the y axis. The plot should include the training error and the test error measurements to compare its behavior.\n",
        "\n",
        "* Analyze the graph and report when you see underfit or overfit. Decide which degree you think produced the best model and explain why.\n",
        "\n",
        "* Finally, generate a new sample of 30 data points (test set), and use your selected model to make predictions on this test set. Report the error measurement on the test set and compare it with the training and validation error for the same model."
      ]
    },
    {
      "cell_type": "markdown",
      "metadata": {
        "id": "b9tMhX90ThN4"
      },
      "source": [
        "<strong><h3>Data generation Function</h3></strong>\n",
        "<i><p>\n",
        "    \n",
        "**Explanation:**\n",
        "\n",
        "We made a function which generates a new sample of data for our linear model. This function will return a set of clean data using an specific seed to get a random  sambles. In this case number 5 it will get as a default number for the seed 5, but in case that the number were different, it would return a new sample totally different using that number as a seed. In addition is important to mention that \"y\" variable will return the result of a function with noise.\n",
        "</p></i>"
      ]
    },
    {
      "cell_type": "code",
      "execution_count": 10,
      "metadata": {
        "id": "y4DL6sGhTgg1"
      },
      "outputs": [],
      "source": [
        "# Data Generation Function \n",
        "def generate_data(num):\n",
        "    \n",
        "    np.random.seed(num)\n",
        "\n",
        "     # Function\n",
        "    f = lambda x: np.cos(1.5 * np.pi * x)\n",
        "    n_samples = 30\n",
        "\n",
        "    # 30 sorted random samles \n",
        "    x = np.sort(np.random.rand(n_samples))\n",
        "    # Adding some Random Noise \n",
        "    y = f(x) + np.random.randn(n_samples) * 0.1   # Here y = f(x) + some random noise\n",
        "\n",
        "    return x,y\n",
        "\n",
        "# getting training data for the model using 5 as a seed.\n",
        "x , y = generate_data(10)\n",
        "\n",
        "# getting validation data for the model using 10 as a seed.\n",
        "x_val, y_val = generate_data(5)"
      ]
    },
    {
      "cell_type": "markdown",
      "metadata": {
        "id": "6MOrqi73Qy2H"
      },
      "source": [
        "<strong><h3>Function for returning data used by the models & Function to generate a graph of our results</h3></strong>\n",
        "<i><p>\n",
        "    \n",
        "(**Main Loop Function**)<br>\n",
        "\n",
        "In this case this function will get the data from X & Y variables with the degree that you want to use to execute the linear regression (1-25 degrees), after executing this one we already prepared a set of lists to save all information for each degree that we use, then all information and Thetas used by the model in each degree will be saved for later.\n",
        "<br>"
      ]
    },
    {
      "cell_type": "code",
      "execution_count": 11,
      "metadata": {
        "id": "ETXpbkBlQSXr"
      },
      "outputs": [],
      "source": [
        "# Function to collect all needed data\n",
        "def Main_Loop(x,y,x_val,y_val,deg):\n",
        "  \n",
        "    # Variables Retornables\n",
        "    Models_list = []\n",
        "    Train_error_list = []\n",
        "    Valid_error_list = []\n",
        "    X_line = []\n",
        "  \n",
        "    # Iterating over 1 to 25 degree\n",
        "    for degree in range(1,deg+1):\n",
        "\n",
        "        # Training Model\n",
        "        pipe = make_linear_regression(x,y,degree)\n",
        "        Models_list.append(pipe)\n",
        "\n",
        "        # Training Error\n",
        "        y_hat = pipe.predict(x[:, np.newaxis])\n",
        "        train_error = mean_absolute_error(y, y_hat)\n",
        "        Train_error_list.append(train_error)\n",
        "\n",
        "        # Validation Error\n",
        "        y_hat_val = pipe.predict(x_val[:, np.newaxis])\n",
        "        val_error = mean_absolute_error(y_val, y_hat_val)\n",
        "        Valid_error_list.append(val_error)\n",
        "\n",
        "        # Degree List\n",
        "        X_line.append(degree)\n",
        "\n",
        "    return Models_list, Train_error_list, Valid_error_list, X_line"
      ]
    },
    {
      "cell_type": "markdown",
      "metadata": {
        "id": "YqDCN__hBcjf"
      },
      "source": [
        "<br>(**Plot Results Function**)<br>\n",
        "\n",
        "In this Function we will generate a graph of the true model and the model made by our linear regression to have a really good visualization of our function's behaviour. In this case we have a parameter that will be the degree which will choose what degree you want to visualize.\n",
        "</p></i>"
      ]
    },
    {
      "cell_type": "code",
      "execution_count": 12,
      "metadata": {
        "id": "C9Vx_oXEBcjf"
      },
      "outputs": [],
      "source": [
        "# Function to Plot Models during Trainig \n",
        "def plot_results_training(f, x, y, pipe, degree):\n",
        "    x_line = np.linspace(0, 1, 30) \n",
        "    fig = plt.figure(figsize=(12, 6))\n",
        "    plt.scatter(x, y, label=\"Samples\", color=\"green\")\n",
        "    plt.plot(x_line, pipe.predict(x_line[:, np.newaxis]), label=\"Model\")\n",
        "    plt.plot(x_line, f(x_line), label=\"True function\")\n",
        "    plt.xlim((0, 1))\n",
        "    plt.ylim((-2, 2))\n",
        "    plt.legend()\n",
        "    plt.title(\"Degree %d\" % degree)\n",
        "    plt.savefig('training_degree_'+\"0\"+str(degree)+'.svg')\n",
        "    plt.close(fig)"
      ]
    },
    {
      "cell_type": "code",
      "execution_count": 13,
      "metadata": {
        "id": "FG2H7MOWBcjg"
      },
      "outputs": [],
      "source": [
        "# Function to Plot Models during Validation \n",
        "def plot_results_validation(f, x_val, y_val, pipe, degree):\n",
        "    x_line = np.linspace(0, 1, 30) \n",
        "    fig = plt.figure(figsize=(12, 6))\n",
        "    plt.scatter(x_val, y_val, label=\"Samples\", color=\"green\")\n",
        "    plt.plot(x_line, pipe.predict(x_line[:, np.newaxis]), label=\"Model\")\n",
        "    plt.plot(x_line, f(x_line), label=\"True function\")\n",
        "    plt.xlim((0, 1))\n",
        "    plt.ylim((-2, 2))\n",
        "    plt.legend()\n",
        "    plt.title(\"Degree %d\" % degree)\n",
        "    plt.savefig('validation_degree_'+\"0\"+str(degree)+'.svg')\n",
        "    plt.close(fig)"
      ]
    },
    {
      "cell_type": "markdown",
      "metadata": {
        "id": "lm-3jb58MEGg"
      },
      "source": [
        "<i><p>\n",
        "(**Main Loop Function**)<br>\n",
        "\n",
        "Here we will call the main function passing the parameters requested before, in this case X, Y and the degree that you want to use as a limit of your loop. (in this case the limit is 25)\n",
        "</p></i>"
      ]
    },
    {
      "cell_type": "code",
      "execution_count": 14,
      "metadata": {
        "id": "FEqZ9SR0QSav"
      },
      "outputs": [],
      "source": [
        "# Getting all results of our model\n",
        "Models_list, Train_error_list, Valid_error_list, X_line = Main_Loop(x,y,x_val,y_val,25)"
      ]
    },
    {
      "cell_type": "markdown",
      "metadata": {
        "id": "7fhVJto3Ml7h"
      },
      "source": [
        "<strong><h3>(get Polinomial Settings) </h3></strong>\n",
        "<i><p>\n",
        "    \n",
        "This function return the learned parameters of a Model.  \n",
        "</p></i>"
      ]
    },
    {
      "cell_type": "code",
      "execution_count": 15,
      "metadata": {
        "id": "iqT2ZAirhlIa"
      },
      "outputs": [],
      "source": [
        "# Function to get coefficients and the instersection of the polynomial\n",
        "def getPolinomialsettings(Model):\n",
        "\n",
        "  # Learned  parameters \n",
        "    print(Model['linear_regression'].intercept_, Model['linear_regression'].coef_)\n",
        "    print(Model['polynomial_features'].get_feature_names_out())"
      ]
    },
    {
      "cell_type": "markdown",
      "metadata": {
        "id": "36DIzh-xBcji"
      },
      "source": [
        "### Making all Graphs\n",
        "\n",
        "Here we use the functions plot_results_training() and plot_results_validation() to save all the graphs of all models, To the use them as a guide to chose visualy the best model. "
      ]
    },
    {
      "cell_type": "code",
      "execution_count": 16,
      "metadata": {
        "id": "G4w3lqOeBcji"
      },
      "outputs": [],
      "source": [
        "#Training Plots\n",
        "def making_Train_plots(f,x,y,Models_list):\n",
        "    for degree in range(0,26):\n",
        "        plot_results_training(f, x, y, Models_list[degree], degree+1)\n",
        "    print(\"Training graphs ready!\")"
      ]
    },
    {
      "cell_type": "code",
      "execution_count": 17,
      "metadata": {
        "id": "0DN2vG3GBcji"
      },
      "outputs": [],
      "source": [
        "#Validation Plots\n",
        "def making_Valid_plots(f,x_val,y_val,Models_list):\n",
        "    for degree in range(0,26):\n",
        "        plot_results_validation(f, x_val, y_val, Models_list[degree], degree+1)\n",
        "    print(\"Validation graphs ready!\")"
      ]
    },
    {
      "cell_type": "code",
      "execution_count": 18,
      "metadata": {
        "id": "DFeb0pUtBcjj"
      },
      "outputs": [],
      "source": [
        "#making_Train_plots(f,x,y,Models_list)"
      ]
    },
    {
      "cell_type": "code",
      "execution_count": 19,
      "metadata": {
        "id": "L5tj4wCABcjj"
      },
      "outputs": [],
      "source": [
        "#making_Valid_plots(f,x_val,y_val,Models_list)"
      ]
    },
    {
      "cell_type": "markdown",
      "metadata": {
        "id": "GDyYpE_zZ_2i"
      },
      "source": [
        "<strong><h3>Function to get the best model </h3></strong>\n",
        "<i><p>\n",
        "    \n",
        "This function was designed to check what is the best model according to the validation error list. In this case we choose minimum validation error, at the end the fuction will return a tuple with the minimum validation error and the its corresponding position in the list.\n",
        "</p></i>"
      ]
    },
    {
      "cell_type": "code",
      "execution_count": 20,
      "metadata": {
        "colab": {
          "base_uri": "https://localhost:8080/"
        },
        "id": "eWDsTK7i8uTZ",
        "outputId": "99a7cbcb-51f2-4ff9-a1ab-83f05dfdafcd"
      },
      "outputs": [
        {
          "output_type": "execute_result",
          "data": {
            "text/plain": [
              "(0.056258249299701676, 5)"
            ]
          },
          "metadata": {},
          "execution_count": 20
        }
      ],
      "source": [
        "# Get best model Function\n",
        "def getBestModel(Valid_error_list,Train_error_list):\n",
        "    lower_list = []\n",
        "    for values in range(0,25):\n",
        "    \n",
        "        #Value check for errors\n",
        "        lower_list.append((Valid_error_list[values],values)) \n",
        "\n",
        "    return min(lower_list)\n",
        "\n",
        "# we call the model and get the result\n",
        "bestModel = getBestModel(Valid_error_list,Train_error_list)\n",
        "bestModel"
      ]
    },
    {
      "cell_type": "code",
      "execution_count": 21,
      "metadata": {
        "colab": {
          "base_uri": "https://localhost:8080/"
        },
        "id": "foq5utzRYykn",
        "outputId": "5e3b5944-3066-42c6-8956-7b02517f48c7"
      },
      "outputs": [
        {
          "output_type": "stream",
          "name": "stdout",
          "text": [
            "1.0652766508680522 [-4.91974841e-02 -2.08725617e+01  6.71337192e+01 -1.44414162e+02\n",
            "  1.67233945e+02 -7.03673951e+01]\n",
            "['x0' 'x0^2' 'x0^3' 'x0^4' 'x0^5' 'x0^6']\n"
          ]
        }
      ],
      "source": [
        "# Using the selected bestModel we get the Learned Parameters  \n",
        "getPolinomialsettings(Models_list[bestModel[1]]) "
      ]
    },
    {
      "cell_type": "markdown",
      "source": [
        "$\\hat{y} = 1.065 - 4.91974841e^{-02} x - 2.08725617e^{+01} x^2 + 6.71337192e^{+01} x^3 - 1.44414162e^{+02} x^4 + 1.67233945e^{+02} x^5 - 7.03673951e^{+01} x^6 $"
      ],
      "metadata": {
        "id": "Y0tj2R8dB15J"
      }
    },
    {
      "cell_type": "markdown",
      "metadata": {
        "id": "AEd9zOdnBcjm"
      },
      "source": [
        "### Errors Plot \n",
        "In this part we show a comparison of the behaviour of the Training Error and Validation Error of each model.   "
      ]
    },
    {
      "cell_type": "code",
      "execution_count": 22,
      "metadata": {
        "id": "hgpgth47IZSY"
      },
      "outputs": [],
      "source": [
        "# Function for Error Plot\n",
        "def plotErrors(training_error_list,valid_error_list, degree_list):\n",
        "    plt.figure(figsize=(12, 8))\n",
        "    plt.xlabel('Polinomial Degree')\n",
        "    plt.ylabel('Error')\n",
        "    plt.scatter(degree_list, training_error_list, color=\"red\")\n",
        "    plt.plot(degree_list, training_error_list, label=\"Training error\")\n",
        "    plt.scatter(degree_list, valid_error_list, color=\"green\")\n",
        "    plt.plot(degree_list, valid_error_list, label=\"Validation error\")\n",
        "    plt.xlim((0, 26))\n",
        "    plt.ylim((0, 0.6))\n",
        "    plt.legend()\n",
        "    plt.title(\"Training & Validation Errors Comparison Plot\")"
      ]
    },
    {
      "cell_type": "code",
      "execution_count": 23,
      "metadata": {
        "colab": {
          "base_uri": "https://localhost:8080/",
          "height": 513
        },
        "id": "KH5ShNdzG-oy",
        "outputId": "25e61a27-edd0-429b-e0a7-1e5f465a4399"
      },
      "outputs": [
        {
          "output_type": "display_data",
          "data": {
            "image/png": "[encoded data removed]",
            "text/plain": [
              "<Figure size 864x576 with 1 Axes>"
            ]
          },
          "metadata": {
            "needs_background": "light"
          }
        }
      ],
      "source": [
        "# Show Errors Plot (without normalized data)\n",
        "plotErrors(Train_error_list,Valid_error_list,X_line)"
      ]
    },
    {
      "cell_type": "markdown",
      "metadata": {
        "id": "6uaM2in1Bcjo"
      },
      "source": [
        "Figure 1: Errors Plot without normalized data."
      ]
    },
    {
      "cell_type": "markdown",
      "metadata": {
        "id": "qPTywMoeBcjp"
      },
      "source": [
        "### Testing Step\n",
        "\n",
        "Here we will generate 30 new samples with a different seed, for making the Testing Step with the selected Polinomial Model of Degree 6. After that, we will show you the graph of this model in each of the steps (Training, Validation and Test). "
      ]
    },
    {
      "cell_type": "code",
      "execution_count": 24,
      "metadata": {
        "id": "Bs4ovEX_Bcjp"
      },
      "outputs": [],
      "source": [
        "# Getting test data using 904 as seed.\n",
        "x_test , y_test = generate_data(904)"
      ]
    },
    {
      "cell_type": "markdown",
      "metadata": {
        "id": "W-Xu-1_ScqhE"
      },
      "source": [
        "\n"
      ]
    },
    {
      "cell_type": "code",
      "execution_count": 25,
      "metadata": {
        "colab": {
          "base_uri": "https://localhost:8080/",
          "height": 427
        },
        "id": "6xUr8H3wYCqh",
        "outputId": "a588958f-51af-41a2-c891-ea9b3b498943"
      },
      "outputs": [
        {
          "output_type": "stream",
          "name": "stdout",
          "text": [
            "Training Step: Model of Degree 6\n",
            "Training Error =  0.041891058668658075\n"
          ]
        },
        {
          "output_type": "display_data",
          "data": {
            "image/png": "[encoded data removed]",
            "text/plain": [
              "<Figure size 864x432 with 1 Axes>"
            ]
          },
          "metadata": {
            "needs_background": "light"
          }
        }
      ],
      "source": [
        "# Show Best Model with Degree 6 (Training Data)\n",
        "plot_results(f, x, y, Models_list[bestModel[1]], 6)\n",
        "print(\"Training Step: Model of Degree 6\")\n",
        "print(\"Training Error = \",Train_error_list[bestModel[1]])"
      ]
    },
    {
      "cell_type": "markdown",
      "metadata": {
        "id": "ozS2uZdBBcjq"
      },
      "source": [
        "Figure 2: Best Model during Training Step."
      ]
    },
    {
      "cell_type": "code",
      "execution_count": 26,
      "metadata": {
        "colab": {
          "base_uri": "https://localhost:8080/",
          "height": 427
        },
        "id": "czWO5_42Yhqz",
        "outputId": "ee61ea68-d55f-4cc9-9c3c-e3656900af9c"
      },
      "outputs": [
        {
          "output_type": "stream",
          "name": "stdout",
          "text": [
            "Validation Step: Model of Degree 6\n",
            "Validation Error =  0.056258249299701676\n"
          ]
        },
        {
          "output_type": "display_data",
          "data": {
            "image/png": "[encoded data removed]",
            "text/plain": [
              "<Figure size 864x432 with 1 Axes>"
            ]
          },
          "metadata": {
            "needs_background": "light"
          }
        }
      ],
      "source": [
        "# Show Best Model with Degree 6 (Validation Data)\n",
        "plot_results(f, x_val, y_val, Models_list[bestModel[1]], 6)\n",
        "print(\"Validation Step: Model of Degree 6\")\n",
        "print(\"Validation Error = \",Valid_error_list[bestModel[1]])"
      ]
    },
    {
      "cell_type": "markdown",
      "metadata": {
        "id": "K4n3KNjUBcjr"
      },
      "source": [
        "Figure 3: Best Model during Validation Step."
      ]
    },
    {
      "cell_type": "code",
      "execution_count": 27,
      "metadata": {
        "colab": {
          "base_uri": "https://localhost:8080/",
          "height": 427
        },
        "id": "WVFW90OIBcjr",
        "outputId": "5412b1d7-0a16-4a2f-8b8d-45f29b8ffcf7"
      },
      "outputs": [
        {
          "output_type": "stream",
          "name": "stdout",
          "text": [
            "Test Step: Model of Degree 6\n",
            "Test Error =  0.08982760393251017\n"
          ]
        },
        {
          "output_type": "display_data",
          "data": {
            "image/png": "[encoded data removed]",
            "text/plain": [
              "<Figure size 864x432 with 1 Axes>"
            ]
          },
          "metadata": {
            "needs_background": "light"
          }
        }
      ],
      "source": [
        "# Show Best Model with Degree 6 (Testing Data)\n",
        "plot_results(f, x_test, y_test, Models_list[bestModel[1]], 6)\n",
        "y_hat_test = Models_list[bestModel[1]].predict(x_test[:, np.newaxis])\n",
        "test_error = mean_absolute_error(y_test, y_hat_test)\n",
        "print(\"Test Step: Model of Degree 6\")\n",
        "print(\"Test Error = \",test_error)"
      ]
    },
    {
      "cell_type": "markdown",
      "metadata": {
        "id": "IUgBP1G3Bcjr"
      },
      "source": [
        "Figure 4: Best Model during Test Step."
      ]
    },
    {
      "cell_type": "markdown",
      "metadata": {
        "id": "KyreWwQzcJaU"
      },
      "source": [
        "## Conclusion\n",
        "\n",
        "To determine the best model that made a the lowest validation error, we had to save those values on a list with its respectevely model on another list, and why the model? because we had to plot it later and verify the obtained result using GetBestModel() function.\n",
        "\n",
        "In the Figure 1, we can appreciate the behaviour between the Training Error and the Validation Error. We noticed that Validation Errors are bigger than Training Errors; but Validation Errors then grow exponentially.  \n",
        "\n",
        "At that moment, we had not answered the main question: What is the best model? That is, we created the GetBestModel() to answer it. Basically, the function iterate the Validation_error_list and save them with their position of the list as a tuple. Finally, we looks for the min result and we get the position of the best model.\n",
        "\n",
        "The best model was the 6-grade polynomial, that means, it has the lowest Validation Error. You can see it on the figures 2, 3, and 4.\n",
        "\n",
        "This is because from degree 1 to 3 the graphs show underfiting behaviours, so those models were not good enough. But from degree 10 to 25, the graphs show a strange behaviour that looked like overfiting; also trainig errors were lower, but this is due to the model is memorising the data and not making predictions. "
      ]
    },
    {
      "cell_type": "code",
      "execution_count": 27,
      "metadata": {
        "id": "ZgqP8orlBcjs"
      },
      "outputs": [],
      "source": [
        ""
      ]
    }
  ],
  "metadata": {
    "colab": {
      "collapsed_sections": [],
      "name": "ML_SP_U1_A1_OVERFITTING_UNDERFITTING.ipynb",
      "provenance": []
    },
    "kernelspec": {
      "display_name": "Python 3 (ipykernel)",
      "language": "python",
      "name": "python3"
    },
    "language_info": {
      "codemirror_mode": {
        "name": "ipython",
        "version": 3
      },
      "file_extension": ".py",
      "mimetype": "text/x-python",
      "name": "python",
      "nbconvert_exporter": "python",
      "pygments_lexer": "ipython3",
      "version": "3.8.11"
    }
  },
  "nbformat": 4,
  "nbformat_minor": 0
}