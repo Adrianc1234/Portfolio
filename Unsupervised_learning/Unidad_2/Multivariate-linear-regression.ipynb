{
 "cells": [
  {
   "cell_type": "markdown",
   "metadata": {},
   "source": [
    "# <center> Universidad Politécnica de Yucatán </center>\n",
    "# <center> ![logoupy](https://static.wixstatic.com/media/e16f80_45021b575f1c40cf9102e482464cb4ea~mv2_d_3000_2100_s_2.png/v1/fill/w_560,h_394,al_c,q_85,usm_0.66_1.00_0.01/e16f80_45021b575f1c40cf9102e482464cb4ea~mv2_d_3000_2100_s_2.webp)\n",
    "## <center> Supervise Learning </center>\n",
    "<center><h2>Data 7A</h2></center>\n",
    "<center><h2>Team:</h2></center>\n",
    "<center><strong>\n",
    "<li>Adrian Roberto Carmona Rodriguez</li>\n",
    "<li>Alfredo Alexander Paz Martínez</li>\n",
    "<li>Pedro Alejandro Uican díaz</li>\n",
    "<li>Karla Patricia Valdez Echeverria</li>\n",
    "<li>Emmanuel Alejandro Hurtado Alejandre</li>\n",
    "</strong></center>\n"
   ]
  },
  {
   "cell_type": "markdown",
   "metadata": {},
   "source": [
    "# Multivariate Linear Regression\n",
    "\n",
    "In this assignment, you will implement multivariate linear regression to predict the price of houses based on its characteristics.\n",
    "\n",
    "Suppose you are selling your house and you want to know what a good market price would be. One way to do this is to first collect information on recent houses sold and make a model of housing prices. The file houses.csv contains a training set of housing prices in the city of Valladolid. The first column is the size of the house (in square feet), the second column is the number of bedrooms and the third column is the price of the house. Dataset is like below:\n",
    "\n",
    "| Size of the house (in square feet) | Number of bedrooms | Price of the house |\n",
    "|------------------------------------|--------------------|--------------------|\n",
    "| 2104                               | 3                  | 399900             |\n",
    "| 1600                               | 3                  | 329900             |\n",
    "| 2400                               | 3                  | 369000             |\n",
    "\n",
    "\n",
    "You should fit a multivariate linear regression model using size and bedrooms as variables to predict the price:\n",
    "* Plot scatterplot of the two variables against price\n",
    "* Use Scikit-learn to fit the model\n",
    "* Compute the parameters with the normal equations using np.linalg.inv()\n",
    "* Compute the parameters with the pseudo-inverse using np.linalg.pinv()\n",
    "* Plot the fitted surface obtained with any of the previous methods\n",
    "\n",
    "After that, you should implement the gradient descent algorithm to train a multivariate linear regression model. Try to fit the model with gradient descent and describe the results.\n",
    "\n",
    "Note that you should standardize the values of the input variables, substracting the mean and dividing by the standard deviation.\n",
    "\n",
    "For gradient descent you should consider the following:\n",
    "\n",
    "* Define a variable for the learning rate $\\alpha$ and try with a default value of 0.01.\n",
    "* Define a maximum number of iterations with 5000 as default.\n",
    "* Initialize ${\\theta}$ with random values or zeros.\n",
    "* Plot J as a function of time (iterations).\n",
    "\n",
    "Finally you should implement stochastic and mini-batch gradient descent and compare results."
   ]
  },
  {
   "cell_type": "code",
   "execution_count": 1,
   "metadata": {},
   "outputs": [],
   "source": [
    "# Importing Modules\n",
    "import numpy as np\n",
    "import pandas as pd\n",
    "import matplotlib.pyplot as plt\n",
    "from sklearn.linear_model import SGDRegressor\n",
    "from sklearn.linear_model import LinearRegression\n",
    "from mpl_toolkits.mplot3d import Axes3D\n",
    "%matplotlib inline"
   ]
  },
  {
   "cell_type": "code",
   "execution_count": 2,
   "metadata": {},
   "outputs": [
    {
     "data": {
      "text/html": [
       "<div>\n",
       "<style scoped>\n",
       "    .dataframe tbody tr th:only-of-type {\n",
       "        vertical-align: middle;\n",
       "    }\n",
       "\n",
       "    .dataframe tbody tr th {\n",
       "        vertical-align: top;\n",
       "    }\n",
       "\n",
       "    .dataframe thead th {\n",
       "        text-align: right;\n",
       "    }\n",
       "</style>\n",
       "<table border=\"1\" class=\"dataframe\">\n",
       "  <thead>\n",
       "    <tr style=\"text-align: right;\">\n",
       "      <th></th>\n",
       "      <th>size</th>\n",
       "      <th>rooms</th>\n",
       "      <th>price</th>\n",
       "    </tr>\n",
       "  </thead>\n",
       "  <tbody>\n",
       "    <tr>\n",
       "      <th>0</th>\n",
       "      <td>2104</td>\n",
       "      <td>3</td>\n",
       "      <td>399900</td>\n",
       "    </tr>\n",
       "    <tr>\n",
       "      <th>1</th>\n",
       "      <td>1600</td>\n",
       "      <td>3</td>\n",
       "      <td>329900</td>\n",
       "    </tr>\n",
       "    <tr>\n",
       "      <th>2</th>\n",
       "      <td>2400</td>\n",
       "      <td>3</td>\n",
       "      <td>369000</td>\n",
       "    </tr>\n",
       "    <tr>\n",
       "      <th>3</th>\n",
       "      <td>1416</td>\n",
       "      <td>2</td>\n",
       "      <td>232000</td>\n",
       "    </tr>\n",
       "    <tr>\n",
       "      <th>4</th>\n",
       "      <td>3000</td>\n",
       "      <td>4</td>\n",
       "      <td>539900</td>\n",
       "    </tr>\n",
       "  </tbody>\n",
       "</table>\n",
       "</div>"
      ],
      "text/plain": [
       "   size  rooms   price\n",
       "0  2104      3  399900\n",
       "1  1600      3  329900\n",
       "2  2400      3  369000\n",
       "3  1416      2  232000\n",
       "4  3000      4  539900"
      ]
     },
     "execution_count": 2,
     "metadata": {},
     "output_type": "execute_result"
    }
   ],
   "source": [
    "# Read csv\n",
    "data = pd.read_csv(\"houses.csv\", names= [\"size\",'rooms',\"price\"])\n",
    "data.head()"
   ]
  },
  {
   "cell_type": "markdown",
   "metadata": {},
   "source": [
    "---\n",
    "### 0. Data Standarization"
   ]
  },
  {
   "cell_type": "code",
   "execution_count": 3,
   "metadata": {},
   "outputs": [],
   "source": [
    "# Method to standarize data\n",
    "def feature_stand(X):\n",
    "    \n",
    "    #Note here we need mean of indivdual column here, hence axis = 0\n",
    "    mu = np.mean(X, axis = 0)  \n",
    "    \n",
    "    # Notice the parameter ddof (Delta Degrees of Freedom)  value is 1\n",
    "    sigma = np.std(X, axis= 0, ddof = 1)  # Standard deviation\n",
    "    \n",
    "    X_stand = (X - mu)/sigma\n",
    "    \n",
    "    return X_stand, mu, sigma"
   ]
  },
  {
   "cell_type": "code",
   "execution_count": 4,
   "metadata": {},
   "outputs": [],
   "source": [
    "# Pass DataFrame to numpy array to normalize X matrix\n",
    "x_stand = data.to_numpy()\n",
    "\n",
    "# Standarize input Matrix X\n",
    "x_stand, mu, sigma = feature_stand(x_stand)\n",
    "\n",
    "# x_stand to DataFrame to get X \n",
    "df = pd.DataFrame(x_stand)\n",
    "\n",
    "# Separate data in vectorized form \n",
    "X = df.iloc[:,0:-1].to_numpy()\n",
    "\n",
    "# Get vector Y without standarization\n",
    "y_data = data.iloc[:,-1].to_numpy().reshape(-1, 1)"
   ]
  },
  {
   "cell_type": "code",
   "execution_count": 5,
   "metadata": {},
   "outputs": [
    {
     "data": {
      "text/plain": [
       "array([[ 0.13000987, -0.22367519],\n",
       "       [-0.50418984, -0.22367519],\n",
       "       [ 0.50247636, -0.22367519],\n",
       "       [-0.73572306, -1.53776691],\n",
       "       [ 1.25747602,  1.09041654]])"
      ]
     },
     "execution_count": 5,
     "metadata": {},
     "output_type": "execute_result"
    }
   ],
   "source": [
    "# Standarized Matrix X\n",
    "X[:5]"
   ]
  },
  {
   "cell_type": "code",
   "execution_count": 6,
   "metadata": {},
   "outputs": [],
   "source": [
    "# Convert to thousand dollar for convenience\n",
    "Y = y_data / 1000"
   ]
  },
  {
   "cell_type": "code",
   "execution_count": 7,
   "metadata": {},
   "outputs": [
    {
     "data": {
      "text/plain": [
       "array([[399.9],\n",
       "       [329.9],\n",
       "       [369. ],\n",
       "       [232. ],\n",
       "       [539.9]])"
      ]
     },
     "execution_count": 7,
     "metadata": {},
     "output_type": "execute_result"
    }
   ],
   "source": [
    "# Vector y\n",
    "Y[:5]"
   ]
  },
  {
   "cell_type": "code",
   "execution_count": 8,
   "metadata": {},
   "outputs": [],
   "source": [
    "# Matrix X with ones column \n",
    "X_1 = np.c_[np.ones(X.shape[0]),X]"
   ]
  },
  {
   "cell_type": "markdown",
   "metadata": {},
   "source": [
    "### Plot scatterplot of the two variables against price"
   ]
  },
  {
   "cell_type": "code",
   "execution_count": 9,
   "metadata": {},
   "outputs": [
    {
     "data": {
      "image/png": "[encoded data removed]",
      "text/plain": [
       "<Figure size 432x288 with 1 Axes>"
      ]
     },
     "metadata": {
      "needs_background": "light"
     },
     "output_type": "display_data"
    }
   ],
   "source": [
    "# Ploting Data in 3D\n",
    "fig = plt.figure()\n",
    "ax = fig.add_subplot(111, projection='3d')\n",
    "ax.scatter(X[:, 0], X[:, 1], Y)\n",
    "ax.set_title(\"Standarized Data\")\n",
    "ax.set_xlabel('Size')\n",
    "ax.set_ylabel('Bedrooms')\n",
    "ax.set_zlabel('Price')\n",
    "plt.show()"
   ]
  },
  {
   "cell_type": "markdown",
   "metadata": {},
   "source": [
    "---\n",
    "### SGDRegressor Scikit-learn"
   ]
  },
  {
   "cell_type": "code",
   "execution_count": 10,
   "metadata": {},
   "outputs": [
    {
     "name": "stdout",
     "output_type": "stream",
     "text": [
      "[340.29570649 110.09924881  -6.16418425]\n"
     ]
    }
   ],
   "source": [
    "lr = SGDRegressor(max_iter=500, eta0 = 0.01, fit_intercept = False) #tol=0.001\n",
    "lr.fit(X_1,Y.ravel())\n",
    "print(lr.coef_)"
   ]
  },
  {
   "cell_type": "markdown",
   "metadata": {},
   "source": [
    "### LinearRegression Scikit-learn"
   ]
  },
  {
   "cell_type": "code",
   "execution_count": 11,
   "metadata": {},
   "outputs": [
    {
     "name": "stdout",
     "output_type": "stream",
     "text": [
      "[[340.41265957 110.63105028  -6.64947427]]\n"
     ]
    }
   ],
   "source": [
    "lr_2 = LinearRegression(fit_intercept = False)\n",
    "lr_2.fit(X_1, Y)\n",
    "print(lr_2.coef_)"
   ]
  },
  {
   "cell_type": "markdown",
   "metadata": {},
   "source": [
    "$\\hat{y} = 340.4127 + 110.6310x_1 - 6.6495x_2$"
   ]
  },
  {
   "cell_type": "markdown",
   "metadata": {},
   "source": [
    "---\n",
    "### Closed-form MLR\n",
    "\n",
    "The closed-form solution of Multivariate Linear Regression is:\n",
    "\n",
    "$$ \\hat{\\theta} = ( {X}^T{X})^{-1} {X}^T {y}$$\n",
    "\n",
    "- This equation gives us directly the values of $\\hat{\\theta} $ that minimizes the cost function.\n",
    "- May not work if $({X}^T X)$ is not invertible (sigular), as if $m$ < $n$ or some features are rendundant."
   ]
  },
  {
   "cell_type": "code",
   "execution_count": 12,
   "metadata": {},
   "outputs": [
    {
     "name": "stdout",
     "output_type": "stream",
     "text": [
      "[[340.41265957]\n",
      " [110.63105028]\n",
      " [ -6.64947427]]\n"
     ]
    }
   ],
   "source": [
    "# MLR with Normal Equations\n",
    "theta_hat = np.linalg.inv(X_1.T@X_1)@X_1.T@Y\n",
    "print(theta_hat)"
   ]
  },
  {
   "cell_type": "markdown",
   "metadata": {},
   "source": [
    "$\\hat{y} = 340.4127 + 110.6310x_1 - 6.6495x_2$"
   ]
  },
  {
   "cell_type": "markdown",
   "metadata": {},
   "source": [
    "Another option (always defined) is to use the pseudoinverse ${X}^+$ obtained from the Singular Value Decomposition (SVD) in the following way:\n",
    "\n",
    "$$\\hat{\\theta} = {X}^+ {y}$$\n",
    "\n",
    "- Both are normal equations and SVD get very slow when the number of features is large (e.g. 100K).\n",
    "- Gradient Decent approach can be useful when we have a larn $n$ or $m$. "
   ]
  },
  {
   "cell_type": "code",
   "execution_count": 13,
   "metadata": {},
   "outputs": [
    {
     "name": "stdout",
     "output_type": "stream",
     "text": [
      "[[340.41265957]\n",
      " [110.63105028]\n",
      " [ -6.64947427]]\n"
     ]
    }
   ],
   "source": [
    "# MLR with pseudoinverse\n",
    "t_hat = np.linalg.pinv(X_1)@Y\n",
    "print(t_hat)"
   ]
  },
  {
   "cell_type": "markdown",
   "metadata": {},
   "source": [
    "$\\hat{y} = 340.4127 + 110.6310x_1 - 6.6495x_2$"
   ]
  },
  {
   "cell_type": "markdown",
   "metadata": {},
   "source": [
    "### Plot the fitted surface obtained with any of the previous methods"
   ]
  },
  {
   "cell_type": "code",
   "execution_count": 14,
   "metadata": {},
   "outputs": [
    {
     "name": "stdout",
     "output_type": "stream",
     "text": [
      "Which result do you want to plot?\n",
      "1 for np.linalg.inv()\n",
      "2 for np.linalg.pinv()\n",
      "1\n"
     ]
    },
    {
     "data": {
      "image/png": "[encoded data removed]",
      "text/plain": [
       "<Figure size 432x288 with 1 Axes>"
      ]
     },
     "metadata": {
      "needs_background": "light"
     },
     "output_type": "display_data"
    }
   ],
   "source": [
    "# Preparing data points to be plotted\n",
    "Size, Bedrooms = np.meshgrid([np.min(X[:,0]),np.max(X[:,0])],[np.min(X[:,1]),np.max(X[:,1])] )     \n",
    "\n",
    "# Menu\n",
    "choice = int(input(\"Which result do you want to plot?\\n1 for np.linalg.inv()\\n2 for np.linalg.pinv()\\n\"))\n",
    "if(choice == 1):\n",
    "    Price = theta_hat[0] + theta_hat[1] * Size + theta_hat[2] * Bedrooms\n",
    "    title = \"Closed-form with np.linalg.inv()\"\n",
    "elif(choice == 2):\n",
    "    Price = t_hat[0] + t_hat[1] * Size + t_hat[2] * Bedrooms\n",
    "    title = \"Closed-form with np.linalg.pinv()\"\n",
    "else:\n",
    "    print(\"\\nNot Valid Option!\")\n",
    "    theta = np.zeros((df.shape[1], 1))\n",
    "    title = \"Just Standarized Data\"\n",
    "    \n",
    "# Plot 3D Graph\n",
    "fig = plt.figure()\n",
    "ax = fig.add_subplot(111, projection='3d')\n",
    "ax.scatter(X[:, 0], X[:, 1], Y, c = \"green\")\n",
    "ax.set_xlabel('Size')\n",
    "ax.set_ylabel('Bedrooms')\n",
    "ax.set_zlabel('Price')\n",
    "ax.set_title(title)\n",
    "ax.plot_surface(Size,Bedrooms,Price,alpha=0.2)\n",
    "ax.view_init(10,250)\n",
    "plt.show()"
   ]
  },
  {
   "cell_type": "markdown",
   "metadata": {},
   "source": [
    "---\n",
    "### Batch Gradient Decent for MLR "
   ]
  },
  {
   "cell_type": "code",
   "execution_count": 15,
   "metadata": {},
   "outputs": [],
   "source": [
    "# Method of cost function (X without ones column)\n",
    "def cost_func (theta, X, Y) :\n",
    "    return np.average(np.square(Y - hypothesis(theta, X))) / 2\n",
    "\n",
    "# Method that returns the hypothesis per epoch\n",
    "def hypothesis (theta, X) :\n",
    "    tempX = np.ones((X.shape[0], X.shape[1] + 1))\n",
    "    tempX[:,1:] = X\n",
    "    return tempX @ theta\n",
    "\n",
    "# Method that returns the Gradient Vector \n",
    "def gradient (theta, X, Y) :\n",
    "    tempX = np.ones((X.shape[0], X.shape[1] + 1))\n",
    "    tempX[:,1:] = X\n",
    "    d_theta = - np.average((Y - hypothesis(theta, X)) * tempX, axis= 0)\n",
    "    d_theta = d_theta.reshape((d_theta.shape[0], 1))\n",
    "    return d_theta"
   ]
  },
  {
   "cell_type": "code",
   "execution_count": 16,
   "metadata": {},
   "outputs": [],
   "source": [
    "# Method for Batch Gradient Decent\n",
    "def batch_gradient_descent (theta, X, Y, learning_rate, epochs) :\n",
    "    \n",
    "    # Empty array to store cost history\n",
    "    cost = np.zeros(epochs)\n",
    "    \n",
    "    # Iterate over epochs\n",
    "    for i in range(epochs):\n",
    "        \n",
    "        # Get gradient vector\n",
    "        d_theta = gradient(theta, X, Y)\n",
    "        \n",
    "        # Update theta\n",
    "        theta = theta - learning_rate * d_theta\n",
    "        \n",
    "        # Store loss value in cost history\n",
    "        cost[i] = cost_func(theta, X, Y)\n",
    "        \n",
    "    return theta, cost"
   ]
  },
  {
   "cell_type": "code",
   "execution_count": 17,
   "metadata": {},
   "outputs": [
    {
     "data": {
      "text/plain": [
       "array([[340.41256301],\n",
       "       [110.54056655],\n",
       "       [ -6.55899055]])"
      ]
     },
     "execution_count": 17,
     "metadata": {},
     "output_type": "execute_result"
    }
   ],
   "source": [
    "# Parameters Batch\n",
    "b_theta = np.zeros((df.shape[1], 1))\n",
    "learning_rate = 0.01 \n",
    "epochs = 1500\n",
    "\n",
    "# Perform Batch Gradient Decent \n",
    "b_theta, b_cost = batch_gradient_descent(b_theta, X, Y, learning_rate, epochs)\n",
    "b_theta"
   ]
  },
  {
   "cell_type": "markdown",
   "metadata": {},
   "source": [
    "$\\hat{y} = 340.4125 + 110.5405x_1 -6.5589x_2$"
   ]
  },
  {
   "cell_type": "markdown",
   "metadata": {},
   "source": [
    "---\n",
    "### MBGD variant of MLR"
   ]
  },
  {
   "cell_type": "code",
   "execution_count": 18,
   "metadata": {},
   "outputs": [],
   "source": [
    "# Method for Mini-Batch Gradient Decent\n",
    "def minibatch_gradient_descent (theta, X, Y, alpha, epochs, batch_size):\n",
    "    \n",
    "    # Empty array to store cost history\n",
    "    cost = np.zeros(epochs)\n",
    "    \n",
    "    # Iterate over epochs\n",
    "    for i in range(epochs):\n",
    "        \n",
    "        # Iterate over each batch \n",
    "        for j in range(0, X.shape[0], batch_size):\n",
    "            \n",
    "            # Get gradient vector\n",
    "            d_theta = gradient (theta, X[j:j+batch_size,:], Y[j:j+batch_size,:])\n",
    "            \n",
    "            # Update theta\n",
    "            theta = theta - alpha * d_theta\n",
    "    \n",
    "        # Store loss value in cost history\n",
    "        cost[i] = cost_func(theta, X, Y)\n",
    "            \n",
    "    return theta, cost"
   ]
  },
  {
   "cell_type": "code",
   "execution_count": 19,
   "metadata": {},
   "outputs": [
    {
     "data": {
      "text/plain": [
       "array([[340.12313143],\n",
       "       [110.39989227],\n",
       "       [ -7.37038759]])"
      ]
     },
     "execution_count": 19,
     "metadata": {},
     "output_type": "execute_result"
    }
   ],
   "source": [
    "# Parameters Mini-batch\n",
    "mb_theta = np.zeros((df.shape[1], 1))\n",
    "mb_alpha = 0.01\n",
    "mb_epochs = 1500\n",
    "batch_size = 16\n",
    "\n",
    "mb_theta, mb_cost = minibatch_gradient_descent (mb_theta, X, Y, mb_alpha, mb_epochs, batch_size)\n",
    "mb_theta"
   ]
  },
  {
   "cell_type": "markdown",
   "metadata": {},
   "source": [
    "$\\hat{y} = 340.1231 + 110.3998x_1 -7.3703x_2$"
   ]
  },
  {
   "cell_type": "markdown",
   "metadata": {},
   "source": [
    "### SGD variant of MLR."
   ]
  },
  {
   "cell_type": "code",
   "execution_count": 20,
   "metadata": {},
   "outputs": [],
   "source": [
    "# Method for Stochastic Gradient Decent\n",
    "def stochastic_gradient_descent (theta, X, Y, alpha, epochs):\n",
    "    \n",
    "    # Empty array to store cost history\n",
    "    cost = np.zeros(epochs)\n",
    "    \n",
    "    # Iterate over epochs\n",
    "    for i in range(epochs):\n",
    "        \n",
    "        # Iterate over each row in X\n",
    "        for j in range(X.shape[0]):\n",
    "            \n",
    "            # Get gradient vector\n",
    "            d_theta = gradient (theta, X[j,:].reshape(1, X.shape[1]), Y[j,:].reshape(1, 1))\n",
    "            \n",
    "            # Update theta\n",
    "            theta = theta - alpha * d_theta\n",
    "    \n",
    "        # Store loss value in cost history\n",
    "        cost[i] = cost_func(theta, X, Y)\n",
    "        \n",
    "    return theta, cost"
   ]
  },
  {
   "cell_type": "code",
   "execution_count": 21,
   "metadata": {},
   "outputs": [
    {
     "data": {
      "text/plain": [
       "array([[339.32732765],\n",
       "       [107.61551516],\n",
       "       [ -8.0487478 ]])"
      ]
     },
     "execution_count": 21,
     "metadata": {},
     "output_type": "execute_result"
    }
   ],
   "source": [
    "# Parameters Stochastic \n",
    "s_theta = np.zeros((df.shape[1], 1))\n",
    "s_alpha = 0.01\n",
    "s_epochs = 1500\n",
    "\n",
    "s_theta, s_cost = stochastic_gradient_descent (s_theta, X, Y, s_alpha, s_epochs)\n",
    "s_theta"
   ]
  },
  {
   "cell_type": "markdown",
   "metadata": {},
   "source": [
    "$\\hat{y} = 339.3273 + 107.6155x_1 -8.0487x_2$"
   ]
  },
  {
   "cell_type": "code",
   "execution_count": 22,
   "metadata": {
    "scrolled": true
   },
   "outputs": [
    {
     "data": {
      "image/png": "[encoded data removed]",
      "text/plain": [
       "<Figure size 432x288 with 1 Axes>"
      ]
     },
     "metadata": {
      "needs_background": "light"
     },
     "output_type": "display_data"
    }
   ],
   "source": [
    "# Plot the cost (J)\n",
    "fig, ax = plt.subplots()  \n",
    "epochs = 1500\n",
    "ax.plot(np.arange(epochs), b_cost, 'r')  \n",
    "ax.plot(np.arange(epochs), s_cost, 'b')  \n",
    "ax.plot(np.arange(epochs), mb_cost, 'g')  \n",
    "ax.legend(loc='upper right', labels=['Batch Gradient Descent', 'Stochastic Gradient Descent', 'Mini-batch Gradient Descent'])\n",
    "ax.set_xlabel('Epochs')  \n",
    "ax.set_ylabel('Cost History')  \n",
    "ax.set_title('J as a function of epochs')  \n",
    "plt.xlim(-10,350)\n",
    "plt.show()"
   ]
  },
  {
   "cell_type": "code",
   "execution_count": null,
   "metadata": {},
   "outputs": [],
   "source": []
  }
 ],
 "metadata": {
  "kernelspec": {
   "display_name": "Python 3 (ipykernel)",
   "language": "python",
   "name": "python3"
  },
  "language_info": {
   "codemirror_mode": {
    "name": "ipython",
    "version": 3
   },
   "file_extension": ".py",
   "mimetype": "text/x-python",
   "name": "python",
   "nbconvert_exporter": "python",
   "pygments_lexer": "ipython3",
   "version": "3.8.11"
  }
 },
 "nbformat": 4,
 "nbformat_minor": 2
}
