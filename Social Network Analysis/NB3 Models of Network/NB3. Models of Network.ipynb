{
 "cells": [
  {
   "cell_type": "markdown",
   "metadata": {},
   "source": [
    "# NB4. Models of Networks"
   ]
  },
  {
   "cell_type": "markdown",
   "metadata": {},
   "source": [
    "## A. Models of Networks.\n",
    "\n",
    "Consider the following [Graph Generators](https://networkx.github.io/documentation/stable/reference/generators.html):\n",
    "\n",
    "**Random Network Model**: The function ```erdos_renyi_graph(n,p)``` returns a $G_n,p$ random graph with the following parameters:\n",
    "* n - The number of nodes.\n",
    "* p - Probability fo edge creation.\n",
    "\n",
    "**Small World Model ** : The function ```watts_strogatz_graph(n,k,p)``` returns a small-world graph with the following parameters:\n",
    "* n - The number of nodes.\n",
    "* k - Each node is joined with its k nearest neighbors in a ring topology.\n",
    "* p - The probability of rewiring each edge."
   ]
  },
  {
   "cell_type": "markdown",
   "metadata": {},
   "source": [
    "### Task 1\n",
    "\n",
    "Simulate different networks using the Erdos-Renyi Model considering the following parameters:\n",
    "\n",
    "(a) N = 100, p = 0.20\n",
    "\n",
    "(b) N = 100, p = 0.40\n",
    "\n",
    "(c) N = 100, p = 0.60\n",
    "\n",
    "(d) N = 100, p = 0.80\n",
    "\n",
    "For each network plot its degree distribution. Additionally, make a comparative table including:\n",
    "* Number of links.\n",
    "* Expected number of links using the equation:\n",
    "$$ \\langle L \\rangle = p \\frac{N(N-1)}{2}$$\n",
    "* Average degree.\n",
    "* Expected average degrees using the equation:\n",
    "$$\\langle k \\rangle = p(N-1)$$\n",
    "* Density.\n",
    "* Expected density using the equation:\n",
    "$$\\langle d \\rangle = p$$\n",
    "* Average Shortest Path.\n",
    "* Expected Average Shortest Path using the equation:\n",
    "$$\\langle l \\rangle \\approx \\frac{ln(N)}{ln(\\langle k \\rangle)}$$"
   ]
  },
  {
   "cell_type": "code",
   "execution_count": null,
   "metadata": {},
   "outputs": [],
   "source": []
  },
  {
   "cell_type": "markdown",
   "metadata": {},
   "source": [
    "### Task 2\n",
    "\n",
    "Consider a the simulation of different random network with a fixed value of the number of nodes but different values of link probability. Naturally, at the beginig at p = 0, the system is totally fragmented into singletons. An increasing number of pairs of nodes will get connected, and through them connected subnetworks will be formed as the link probability increases. \n",
    "\n",
    "Erdos and Renyi discovered a transition point from configurations in which all subnetworks are relatively small, to a configuration where at least one of the subnetworks contains almost all the nodes. This transition can be observe in Fig. 1. \n",
    "\n",
    "\n",
    "\n",
    "\n",
    "<img src=\"Plot1.png\" width=\"360\"> </img>\n",
    "\n",
    "<center> Fig. 2</center>\n",
    "\n",
    "\n",
    "Don't forget that the probability and the expected degree $\\langle k \\rangle$  follow the relation:\n",
    "\n",
    "$$ \\langle L \\rangle = p \\frac{N(N-1)}{2}$$\n",
    "\n",
    "Fig. 1 is an sketch of the evoluation. Reproduce a similar plot for networks with 1000 nodes. Use 25 equally spaced values of the link probability, in the interval [0, 0.005]. For each value, generate 20 different networks, compute the relative size of the giant component. "
   ]
  },
  {
   "cell_type": "code",
   "execution_count": null,
   "metadata": {},
   "outputs": [],
   "source": []
  },
  {
   "cell_type": "markdown",
   "metadata": {},
   "source": [
    "### Task 3\n",
    "In the Watts-Strogratz Model, there is range of rewiring probability values between p = 0.01 and p = 0.1 in the average shortest-path length is close to that of an equivalent random network; and at the same time, the clustering coefficient from the model is high. Nevertheless, the model cannot generate hubs. Fig. 2 presents the average path length and the clustering coefficient as a function of the rewiring probability. Observe that the x-axis is in a logarithmic scale.\n",
    "\n",
    "\n",
    "<img src=\"Plot2.png\" width=\"360\"> </img>\n",
    "\n",
    "<center> Fig. 2</center>\n",
    "\n",
    "\n",
    "Reproduce a similar plot, by calculating:\n",
    "* the average shortest path ($\\langle l \\rangle$)\n",
    "* and the average clustering coefficient ($C$)\n",
    "\n",
    "for Watts–Strogatz networks constructed for different values of the rewiring probability p. Take 20 equally spaced values of p between 0 and 1. For each value of p, build 20 different networks and compute the average shortest path and average clustering coefficient. To plot the two curves on a common y-axis, you can normalize the values by dividing them by the corresponding values for the probability p = 0."
   ]
  },
  {
   "cell_type": "code",
   "execution_count": null,
   "metadata": {},
   "outputs": [],
   "source": []
  },
  {
   "cell_type": "markdown",
   "metadata": {},
   "source": [
    "## B. Identification of Network Models [40 pts]\n",
    "\n",
    "### Task 4\n",
    "Analyze each of the 4 Networks and determine which of the three models was used to generate them:\n",
    "* model1.csv\n",
    "* model2.csv\n",
    "* model3.csv\n",
    "* model4.csv\n",
    "\n",
    "Justify your selection in each case."
   ]
  },
  {
   "cell_type": "code",
   "execution_count": 1,
   "metadata": {},
   "outputs": [],
   "source": [
    "# Analysis of model1.csv (10 pts)"
   ]
  },
  {
   "cell_type": "code",
   "execution_count": 4,
   "metadata": {},
   "outputs": [],
   "source": [
    "# Analysis of model2.csv (10 pts)"
   ]
  },
  {
   "cell_type": "code",
   "execution_count": 5,
   "metadata": {},
   "outputs": [],
   "source": [
    "# Analysis of model3.csv (10 pts)"
   ]
  },
  {
   "cell_type": "code",
   "execution_count": 1,
   "metadata": {},
   "outputs": [],
   "source": [
    "# Analysis of model4.csv (10 pts)"
   ]
  },
  {
   "cell_type": "markdown",
   "metadata": {},
   "source": [
    "## References\n",
    "[1] F. Mencszer, S. Fortunato, C. A. Davis (2020). A First Course in Network Science."
   ]
  },
  {
   "cell_type": "code",
   "execution_count": null,
   "metadata": {},
   "outputs": [],
   "source": []
  }
 ],
 "metadata": {
  "kernelspec": {
   "display_name": "Python 3",
   "language": "python",
   "name": "python3"
  },
  "language_info": {
   "codemirror_mode": {
    "name": "ipython",
    "version": 3
   },
   "file_extension": ".py",
   "mimetype": "text/x-python",
   "name": "python",
   "nbconvert_exporter": "python",
   "pygments_lexer": "ipython3",
   "version": "3.8.2"
  }
 },
 "nbformat": 4,
 "nbformat_minor": 2
}
