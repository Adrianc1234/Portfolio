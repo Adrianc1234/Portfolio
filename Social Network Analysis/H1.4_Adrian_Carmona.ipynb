{
 "cells": [
  {
   "cell_type": "code",
   "execution_count": 1,
   "id": "d8263e6c-bf26-4087-b252-c476507cffc1",
   "metadata": {},
   "outputs": [],
   "source": [
    "import networkx as nx\n",
    "%matplotlib inline"
   ]
  },
  {
   "cell_type": "code",
   "execution_count": 2,
   "id": "5334d106-4e41-47cd-8c18-e09d66112909",
   "metadata": {},
   "outputs": [
    {
     "name": "stdout",
     "output_type": "stream",
     "text": [
      "Defaulting to user installation because normal site-packages is not writeable\n",
      "Requirement already satisfied: networkx in /home/karatsi/.local/lib/python3.10/site-packages (2.8.4)\n",
      "Defaulting to user installation because normal site-packages is not writeable\n",
      "Requirement already satisfied: matplotlib in /home/karatsi/.local/lib/python3.10/site-packages (3.5.2)\n",
      "Requirement already satisfied: cycler>=0.10 in /home/karatsi/.local/lib/python3.10/site-packages (from matplotlib) (0.11.0)\n",
      "Requirement already satisfied: fonttools>=4.22.0 in /home/karatsi/.local/lib/python3.10/site-packages (from matplotlib) (4.33.3)\n",
      "Requirement already satisfied: kiwisolver>=1.0.1 in /home/karatsi/.local/lib/python3.10/site-packages (from matplotlib) (1.4.3)\n",
      "Requirement already satisfied: numpy>=1.17 in /home/karatsi/.local/lib/python3.10/site-packages (from matplotlib) (1.22.4)\n",
      "Requirement already satisfied: packaging>=20.0 in /usr/lib/python3.10/site-packages (from matplotlib) (21.3)\n",
      "Requirement already satisfied: pillow>=6.2.0 in /usr/lib/python3.10/site-packages (from matplotlib) (9.1.1)\n",
      "Requirement already satisfied: pyparsing>=2.2.1 in /usr/lib/python3.10/site-packages (from matplotlib) (3.0.9)\n",
      "Requirement already satisfied: python-dateutil>=2.7 in /home/karatsi/.local/lib/python3.10/site-packages (from matplotlib) (2.8.2)\n",
      "Requirement already satisfied: six>=1.5 in /usr/lib/python3.10/site-packages (from python-dateutil>=2.7->matplotlib) (1.16.0)\n"
     ]
    }
   ],
   "source": [
    "!pip3 install networkx\n",
    "!pip3 install matplotlib"
   ]
  },
  {
   "cell_type": "markdown",
   "id": "c68a3eb8-a293-4c37-afa5-7323b3a30e66",
   "metadata": {},
   "source": [
    "## Student: Adrian Roberto Carmona Rodriguez\n",
    "## Group: Data 8A"
   ]
  },
  {
   "cell_type": "markdown",
   "id": "1d803b80-9a4b-41cf-9b17-c6164638ef77",
   "metadata": {},
   "source": [
    "# CHAPTER 1"
   ]
  },
  {
   "cell_type": "markdown",
   "id": "28621a40-45c8-4eeb-981a-fa04f7f88dfe",
   "metadata": {},
   "source": [
    "<h2>EXERCISE 1</h2>\n",
    "\n",
    "Often in the context of trees, a node with degree 1 is called a leaf. Write a function named `get_leaves` that takes a graph as an argument, loops through the nodes, and returns a list of nodes with degree 1."
   ]
  },
  {
   "cell_type": "code",
   "execution_count": 3,
   "id": "8159ff28-01cf-4f64-823c-d6d4c898516c",
   "metadata": {},
   "outputs": [],
   "source": [
    "#function to detect our leaves\n",
    "def get_leaves(graph):\n",
    "    l = []\n",
    "    nodes = graph.nodes() \n",
    "    \n",
    "    #we cover all nodes and check if the dregree of the node is 1\n",
    "    for node in nodes:\n",
    "        if graph.degree(node) == 1:\n",
    "            l.append(node)\n",
    "        else:\n",
    "            continue\n",
    "    print(f'Nodes with degree = 1 (leaf): {l}')\n",
    "    return l    \n",
    "    "
   ]
  },
  {
   "cell_type": "code",
   "execution_count": 4,
   "id": "9231c614-239c-49dc-bd0d-2f775acd27b0",
   "metadata": {},
   "outputs": [
    {
     "name": "stdout",
     "output_type": "stream",
     "text": [
      "Nodes with degree = 1 (leaf): ['b', 'c']\n"
     ]
    }
   ],
   "source": [
    "#we made our graph\n",
    "graph = nx.Graph()\n",
    "graph.add_edges_from([\n",
    "        ('a', 'b'),\n",
    "        ('a', 'd'),\n",
    "        ('c', 'd'),\n",
    "    ])\n",
    "\n",
    "assert set(get_leaves(graph)) == {'c', 'b'}"
   ]
  },
  {
   "cell_type": "code",
   "execution_count": 5,
   "id": "31aa533c-1174-41d6-a081-abfa9ca1a998",
   "metadata": {},
   "outputs": [
    {
     "data": {
      "image/png": "[encoded data removed]",
      "text/plain": [
       "<Figure size 432x288 with 1 Axes>"
      ]
     },
     "metadata": {},
     "output_type": "display_data"
    }
   ],
   "source": [
    "nx.draw(graph,\n",
    "        with_labels=True,\n",
    "        node_color='cadetblue',\n",
    "        node_size=1400,\n",
    "        font_color='white',\n",
    "        font_size=14,\n",
    "        )\n",
    "\n",
    "#We can see that our graph visualization makes match with our function results, b and c.\n"
   ]
  },
  {
   "cell_type": "markdown",
   "id": "ce0d6561-b6b6-4365-8549-930d4170823a",
   "metadata": {},
   "source": [
    "<h2>EXERCISE 2</h2>\n",
    "\n",
    "Write a function max_degree that takes a graph as its argument, and returns a 2-tuple with the name and degree of the node with highest degree.\n",
    "\n"
   ]
  },
  {
   "cell_type": "code",
   "execution_count": 6,
   "id": "52141ed2-db23-471f-bea3-fbd75479bf5f",
   "metadata": {},
   "outputs": [],
   "source": [
    "def max_degree(graph2):\n",
    "    \n",
    "    #here we check all node degree in the graph\n",
    "    degree_list = []\n",
    "    for node in graph2.nodes():\n",
    "        degree_list.append(graph2.degree(node))\n",
    "        \n",
    "    #we extract the maximum degree\n",
    "    m_degree = max(degree_list)\n",
    "    \n",
    "    #we search in all nodes the degree that we got\n",
    "    for node in graph2.nodes:\n",
    "        if graph2.degree(node) == m_degree:\n",
    "            node_inf = (node , m_degree) #we make a tuple\n",
    "            print(f'The node with maximum degree in the graph:\\n{node_inf[0]}: {node_inf[1]}')\n",
    "            \n",
    "    #we return the tuple\n",
    "    return node_inf"
   ]
  },
  {
   "cell_type": "code",
   "execution_count": 7,
   "id": "7a792d61-1c3a-466a-9456-24e804566512",
   "metadata": {},
   "outputs": [
    {
     "name": "stdout",
     "output_type": "stream",
     "text": [
      "The node with maximum degree in the graph:\n",
      "Claire: 4\n"
     ]
    }
   ],
   "source": [
    "#we make a graph with the file `friends.adjlist`\n",
    "graph2 = nx.read_adjlist('friends.adjlist')\n",
    "assert max_degree(graph2) == ('Claire', 4)"
   ]
  },
  {
   "cell_type": "code",
   "execution_count": 8,
   "id": "b89ad6f2-5e99-497c-96c9-84d6253dabea",
   "metadata": {},
   "outputs": [
    {
     "data": {
      "image/png": "[encoded data removed]",
      "text/plain": [
       "<Figure size 432x288 with 1 Axes>"
      ]
     },
     "metadata": {},
     "output_type": "display_data"
    }
   ],
   "source": [
    "nx.draw(graph2,\n",
    "        with_labels= True,\n",
    "        node_color='cadetblue',\n",
    "        node_size=1400,\n",
    "        font_color='white',\n",
    "        font_size=8,\n",
    "        )"
   ]
  },
  {
   "cell_type": "markdown",
   "id": "3f8794dc-894c-44aa-ad46-7ef5069bb128",
   "metadata": {},
   "source": [
    "<h2>EXERCISE 3</h2>\n",
    "\n",
    "Write a function `mutual_friends` that takes a graph and two nodes as arguments, and returns a list (or set) of nodes that are linked to both given nodes. For example, in the graph `SG` drawn above,\n",
    "\n",
    "`mutual_friends(SG, 'Alice', 'Claire') == ['Frank']`\n",
    "\n",
    "an empty list or set should be returned in the case where two nodes have no mutual friends, e.g. George and Bob in SG drawn above."
   ]
  },
  {
   "cell_type": "code",
   "execution_count": 9,
   "id": "488d97fb-2254-40a4-862f-03ed2040010c",
   "metadata": {},
   "outputs": [],
   "source": [
    "def mutual_friends(graph, node1, node2):\n",
    "    \n",
    "    #we check the neighbors for node 1\n",
    "    ng_node1 = graph.neighbors(node1)\n",
    "    ng_node1 = list(ng_node1)\n",
    "    \n",
    "    mutual_friends = []\n",
    "    \n",
    "    #we check the neighbors in node 2\n",
    "    for node in graph.neighbors(node2):\n",
    "        #if neighbor is in the neighbor list for node 1 then is a mutual friend\n",
    "        \n",
    "        if node in ng_node1:\n",
    "            mutual_friends.append(node)\n",
    "            \n",
    "    print(f'Your mutual friends for {node1} & {node2} are: {mutual_friends}')\n",
    "    return mutual_friends\n",
    "    \n"
   ]
  },
  {
   "cell_type": "code",
   "execution_count": 10,
   "id": "adbacc59-7c5a-4355-abd9-f7cbb0dfa252",
   "metadata": {},
   "outputs": [
    {
     "name": "stdout",
     "output_type": "stream",
     "text": [
      "Your mutual friends for Alice & Claire are: ['Frank']\n",
      "Your mutual friends for George & Bob are: []\n",
      "Your mutual friends for Claire & George are: ['Frank', 'Dennis']\n",
      "Your mutual friends for Dennis & Frank are: ['George', 'Claire']\n"
     ]
    }
   ],
   "source": [
    "graph3 = nx.read_adjlist('friends.adjlist')\n",
    "\n",
    "assert mutual_friends(graph3, 'Alice', 'Claire') == ['Frank']\n",
    "assert mutual_friends(graph3, 'George', 'Bob') == []\n",
    "assert sorted(mutual_friends(graph3, 'Claire', 'George')) == ['Dennis', 'Frank']\n",
    "\n",
    "#our own test to prove it\n",
    "assert sorted(mutual_friends(graph3, 'Dennis', 'Frank'))\n",
    "#THE RESULT WAS RIGTH"
   ]
  },
  {
   "cell_type": "code",
   "execution_count": 11,
   "id": "20205a0f-49f1-4af2-807a-1eec2291968e",
   "metadata": {},
   "outputs": [
    {
     "data": {
      "image/png": "[encoded data removed]",
      "text/plain": [
       "<Figure size 432x288 with 1 Axes>"
      ]
     },
     "metadata": {},
     "output_type": "display_data"
    }
   ],
   "source": [
    "nx.draw(graph3,\n",
    "        with_labels= True,\n",
    "        node_color='cadetblue',\n",
    "        node_size=1400,\n",
    "        font_color='white',\n",
    "        font_size=8,\n",
    "        )"
   ]
  },
  {
   "cell_type": "markdown",
   "id": "0fa5e8bc-8535-4840-8454-67f12c3c9261",
   "metadata": {},
   "source": [
    "# CHAPTER 2"
   ]
  },
  {
   "cell_type": "markdown",
   "id": "08e45d0a-01cf-4373-ad72-b51a8cad35d0",
   "metadata": {},
   "source": [
    "## Dataset: US air traffic network\n",
    "This repository contains several example network datasets. Among these is a network of US air travel routes:"
   ]
  },
  {
   "cell_type": "code",
   "execution_count": 12,
   "id": "8fe93e94-d484-473e-b4b1-53b527cd60c0",
   "metadata": {},
   "outputs": [],
   "source": [
    "G = nx.read_graphml('openflights_usa.graphml.gz')"
   ]
  },
  {
   "cell_type": "markdown",
   "id": "b08b5e18-60a8-44ee-8f86-89df7e95de6e",
   "metadata": {},
   "source": [
    "\n",
    "\n",
    "\n",
    "The nodes in this graph are airports, represented by their IATA codes; two nodes are connected with an edge if there is a scheduled flight directly connecting these two airports. We'll assume this graph to be undirected since a flight in one direction usually means there is a return flight.\n",
    "\n",
    "Thus this graph has edges\n",
    "\n",
    "`[('HOM', 'ANC'), ('BGM', 'PHL'), ('BGM', 'IAD'), ...]`\n",
    "\n",
    "where ANC is Anchorage, IAD is Washington Dulles, etc.\n",
    "\n",
    "These nodes also have attributes associated with them, containing additional information about the airports:\n",
    "\n",
    "\n"
   ]
  },
  {
   "cell_type": "code",
   "execution_count": 13,
   "id": "86ca1156-6c63-4f7c-be74-84c319e91377",
   "metadata": {},
   "outputs": [
    {
     "data": {
      "text/plain": [
       "{'name': 'Indianapolis International Airport',\n",
       " 'latitude': 39.7173,\n",
       " 'longitude': -86.294403,\n",
       " 'IATA': 'IND'}"
      ]
     },
     "execution_count": 13,
     "metadata": {},
     "output_type": "execute_result"
    }
   ],
   "source": [
    "G.nodes['IND']"
   ]
  },
  {
   "cell_type": "markdown",
   "id": "0fbfa85b-beb6-4acf-ba24-f658fddea697",
   "metadata": {},
   "source": [
    "Node attributes are stored as a dictionary, so the values can be accessed individually as such:\n",
    "\n"
   ]
  },
  {
   "cell_type": "code",
   "execution_count": 14,
   "id": "d41fe9b0-a495-489f-8cec-0e3feb5a4433",
   "metadata": {},
   "outputs": [
    {
     "data": {
      "text/plain": [
       "'Indianapolis International Airport'"
      ]
     },
     "execution_count": 14,
     "metadata": {},
     "output_type": "execute_result"
    }
   ],
   "source": [
    "G.nodes['IND']['name']"
   ]
  },
  {
   "cell_type": "markdown",
   "id": "d739f869-3e91-465b-bfa9-b8f19bfcadfe",
   "metadata": {},
   "source": [
    "<h2>EXERCISE 1</h2>\n",
    "\n",
    "Is there a direct flight between Indianapolis and Fairbanks, Alaska (FAI)? A direct flight is one with no intermediate stops.\n",
    "\n",
    " \n"
   ]
  },
  {
   "cell_type": "code",
   "execution_count": 15,
   "id": "d23bd45c-1875-4580-9a2b-e19f13e12305",
   "metadata": {},
   "outputs": [
    {
     "data": {
      "text/plain": [
       "False"
      ]
     },
     "execution_count": 15,
     "metadata": {},
     "output_type": "execute_result"
    }
   ],
   "source": [
    "#There is not a directed path between Indianapolis and Fairbanks\n",
    "G.has_edge('FAI','IND')"
   ]
  },
  {
   "cell_type": "markdown",
   "id": "e28ec869-04e7-49ca-b72c-fb657f1ab812",
   "metadata": {},
   "source": [
    "<h2>EXERCISE 2</h2>\n",
    "\n",
    "If I wanted to fly from Indianapolis to Fairbanks, Alaska what would be an itinerary with the fewest number of flights?\n",
    "\n",
    " \n"
   ]
  },
  {
   "cell_type": "code",
   "execution_count": 16,
   "id": "90b24587-3169-4cc5-8530-a46bd2b17844",
   "metadata": {},
   "outputs": [
    {
     "data": {
      "text/plain": [
       "3"
      ]
     },
     "execution_count": 16,
     "metadata": {},
     "output_type": "execute_result"
    }
   ],
   "source": [
    "#The shortest path is 3 from indianapolis to fairbanks so, the fewest number of flights is 3.\n",
    "nx.shortest_path_length(G,'FAI','IND')"
   ]
  },
  {
   "cell_type": "markdown",
   "id": "8e314ec1-5de9-46b6-9e38-2ffcd8e4822f",
   "metadata": {},
   "source": [
    "<h2>EXERCISE 3</h2>\n",
    "\n",
    "Is it possible to travel from any airport in the US to any other airport in the US, possibly using connecting flights? In other words, does there exist a path in the network between every possible pair of airports?"
   ]
  },
  {
   "cell_type": "code",
   "execution_count": 17,
   "id": "2ebada54-3849-4a74-ba5a-ea35ed3ef136",
   "metadata": {},
   "outputs": [
    {
     "data": {
      "text/plain": [
       "False"
      ]
     },
     "execution_count": 17,
     "metadata": {},
     "output_type": "execute_result"
    }
   ],
   "source": [
    "#not connected because it gives false\n",
    "nx.is_connected(G)"
   ]
  }
 ],
 "metadata": {
  "kernelspec": {
   "display_name": "Python 3 (ipykernel)",
   "language": "python",
   "name": "python3"
  },
  "language_info": {
   "codemirror_mode": {
    "name": "ipython",
    "version": 3
   },
   "file_extension": ".py",
   "mimetype": "text/x-python",
   "name": "python",
   "nbconvert_exporter": "python",
   "pygments_lexer": "ipython3",
   "version": "3.10.5"
  }
 },
 "nbformat": 4,
 "nbformat_minor": 5
}
