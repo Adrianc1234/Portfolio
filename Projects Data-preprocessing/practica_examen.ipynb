{
  "nbformat": 4,
  "nbformat_minor": 0,
  "metadata": {
    "colab": {
      "name": "Untitled0.ipynb",
      "provenance": [],
      "include_colab_link": true
    },
    "kernelspec": {
      "name": "python3",
      "display_name": "Python 3"
    }
  },
  "cells": [
    {
      "cell_type": "markdown",
      "metadata": {
        "id": "view-in-github",
        "colab_type": "text"
      },
      "source": [
        "<a href=\"https://colab.research.google.com/github/Adrianc1234/Prepocessing-Data/blob/master/Adrianc1234/Preprocessing-Data/Practice/practica_examen.ipynb\" target=\"_parent\"><img src=\"https://colab.research.google.com/assets/colab-badge.svg\" alt=\"Open In Colab\"/></a>"
      ]
    },
    {
      "cell_type": "code",
      "metadata": {
        "id": "7dv0sPSwOwcX",
        "colab_type": "code",
        "colab": {}
      },
      "source": [
        "import pandas as pd\n",
        "import numpy as np\n"
      ],
      "execution_count": 0,
      "outputs": []
    },
    {
      "cell_type": "code",
      "metadata": {
        "id": "5q53wT0MO2ES",
        "colab_type": "code",
        "colab": {}
      },
      "source": [
        "# aqui podemos leer un archivo de csv para poder abrirlo \n",
        "#from google.colab import files\n",
        "#uploaded = files.upload()"
      ],
      "execution_count": 0,
      "outputs": []
    },
    {
      "cell_type": "markdown",
      "metadata": {
        "id": "Yz15HyhsQ7_S",
        "colab_type": "text"
      },
      "source": [
        "**Pivoteo**:\n",
        " \n",
        " un metodo para organizar mejor la informacion de una base de datos."
      ]
    },
    {
      "cell_type": "code",
      "metadata": {
        "id": "S_a7cWnGPh9z",
        "colab_type": "code",
        "colab": {
          "base_uri": "https://localhost:8080/",
          "height": 206
        },
        "outputId": "568bbbf1-90ff-48eb-f8ab-59fd8e3028a7"
      },
      "source": [
        "data_restaurantes = {\n",
        "    'ciudades': ['Guatemala','Guatemala','Guatemala','Guatemala','Guatemala','Guatemala','San José','San José','San José','San José','San José','San Salvador','San Salvador','San Salvador'],\n",
        "    'culinaria': ['Chapina','Chapina','China','Thai','Italiana','Chapina','Italiana','China','Tica','Chapina','Tica','Tica','Italiana','China']\n",
        "}\n",
        "\n",
        "restaurantes_dataframe_pares = pd.DataFrame(data_restaurantes) # aqui podemo sconvertir el diccionario en data frame\n",
        "restaurantes_dataframe_pares.head()# imprimimos el data frame"
      ],
      "execution_count": 12,
      "outputs": [
        {
          "output_type": "execute_result",
          "data": {
            "text/html": [
              "<div>\n",
              "<style scoped>\n",
              "    .dataframe tbody tr th:only-of-type {\n",
              "        vertical-align: middle;\n",
              "    }\n",
              "\n",
              "    .dataframe tbody tr th {\n",
              "        vertical-align: top;\n",
              "    }\n",
              "\n",
              "    .dataframe thead th {\n",
              "        text-align: right;\n",
              "    }\n",
              "</style>\n",
              "<table border=\"1\" class=\"dataframe\">\n",
              "  <thead>\n",
              "    <tr style=\"text-align: right;\">\n",
              "      <th></th>\n",
              "      <th>ciudades</th>\n",
              "      <th>culinaria</th>\n",
              "    </tr>\n",
              "  </thead>\n",
              "  <tbody>\n",
              "    <tr>\n",
              "      <th>0</th>\n",
              "      <td>Guatemala</td>\n",
              "      <td>Chapina</td>\n",
              "    </tr>\n",
              "    <tr>\n",
              "      <th>1</th>\n",
              "      <td>Guatemala</td>\n",
              "      <td>Chapina</td>\n",
              "    </tr>\n",
              "    <tr>\n",
              "      <th>2</th>\n",
              "      <td>Guatemala</td>\n",
              "      <td>China</td>\n",
              "    </tr>\n",
              "    <tr>\n",
              "      <th>3</th>\n",
              "      <td>Guatemala</td>\n",
              "      <td>Thai</td>\n",
              "    </tr>\n",
              "    <tr>\n",
              "      <th>4</th>\n",
              "      <td>Guatemala</td>\n",
              "      <td>Italiana</td>\n",
              "    </tr>\n",
              "  </tbody>\n",
              "</table>\n",
              "</div>"
            ],
            "text/plain": [
              "    ciudades culinaria\n",
              "0  Guatemala   Chapina\n",
              "1  Guatemala   Chapina\n",
              "2  Guatemala     China\n",
              "3  Guatemala      Thai\n",
              "4  Guatemala  Italiana"
            ]
          },
          "metadata": {
            "tags": []
          },
          "execution_count": 12
        }
      ]
    },
    {
      "cell_type": "markdown",
      "metadata": {
        "id": "Zr3EEfEBT-4o",
        "colab_type": "text"
      },
      "source": [
        "aqui havemos ya el pivoteo, en el cual usamos como index las ciudades y dejamos como columnas los tipos de cada una, arrojando si es false o true en su respectivo lugar."
      ]
    },
    {
      "cell_type": "code",
      "metadata": {
        "id": "AVKCiEUrRQ76",
        "colab_type": "code",
        "colab": {
          "base_uri": "https://localhost:8080/",
          "height": 175
        },
        "outputId": "8a27f213-9166-46a4-a0ae-48e0da45bf7e"
      },
      "source": [
        "def funcion_agrupacion(elemento):# funcion para poner true\n",
        "    return True\n",
        "\n",
        "agrupacion_culinaria = restaurantes_dataframe_pares.pivot_table(\n",
        "    index=[\"ciudades\"],\n",
        "    columns=\"culinaria\",\n",
        "    aggfunc=funcion_agrupacion,\n",
        "    fill_value=False)\n",
        "agrupacion_culinaria"
      ],
      "execution_count": 13,
      "outputs": [
        {
          "output_type": "execute_result",
          "data": {
            "text/html": [
              "<div>\n",
              "<style scoped>\n",
              "    .dataframe tbody tr th:only-of-type {\n",
              "        vertical-align: middle;\n",
              "    }\n",
              "\n",
              "    .dataframe tbody tr th {\n",
              "        vertical-align: top;\n",
              "    }\n",
              "\n",
              "    .dataframe thead th {\n",
              "        text-align: right;\n",
              "    }\n",
              "</style>\n",
              "<table border=\"1\" class=\"dataframe\">\n",
              "  <thead>\n",
              "    <tr style=\"text-align: right;\">\n",
              "      <th>culinaria</th>\n",
              "      <th>Chapina</th>\n",
              "      <th>China</th>\n",
              "      <th>Italiana</th>\n",
              "      <th>Thai</th>\n",
              "      <th>Tica</th>\n",
              "    </tr>\n",
              "    <tr>\n",
              "      <th>ciudades</th>\n",
              "      <th></th>\n",
              "      <th></th>\n",
              "      <th></th>\n",
              "      <th></th>\n",
              "      <th></th>\n",
              "    </tr>\n",
              "  </thead>\n",
              "  <tbody>\n",
              "    <tr>\n",
              "      <th>Guatemala</th>\n",
              "      <td>True</td>\n",
              "      <td>True</td>\n",
              "      <td>True</td>\n",
              "      <td>True</td>\n",
              "      <td>False</td>\n",
              "    </tr>\n",
              "    <tr>\n",
              "      <th>San José</th>\n",
              "      <td>True</td>\n",
              "      <td>True</td>\n",
              "      <td>True</td>\n",
              "      <td>False</td>\n",
              "      <td>True</td>\n",
              "    </tr>\n",
              "    <tr>\n",
              "      <th>San Salvador</th>\n",
              "      <td>False</td>\n",
              "      <td>True</td>\n",
              "      <td>True</td>\n",
              "      <td>False</td>\n",
              "      <td>True</td>\n",
              "    </tr>\n",
              "  </tbody>\n",
              "</table>\n",
              "</div>"
            ],
            "text/plain": [
              "culinaria    Chapina China Italiana   Thai   Tica\n",
              "ciudades                                         \n",
              "Guatemala       True  True     True   True  False\n",
              "San José        True  True     True  False   True\n",
              "San Salvador   False  True     True  False   True"
            ]
          },
          "metadata": {
            "tags": []
          },
          "execution_count": 13
        }
      ]
    },
    {
      "cell_type": "code",
      "metadata": {
        "id": "taaEyauZT7ia",
        "colab_type": "code",
        "colab": {
          "base_uri": "https://localhost:8080/",
          "height": 175
        },
        "outputId": "2f8fd420-85a6-4283-8b30-fd4b1068f184"
      },
      "source": [
        "def funcion_agrupacion(elemento):\n",
        "    '''Contemos cuantas instancias de cada tupla existen.'''\n",
        "    ## El comando len(iterable) cuenta la cantidad de elementos que tiene el objeto iterable que le pasemos\n",
        "    ## los elementos iterables pueden ser listas normales, Series de NumPy o Pandas, o diccionarios y otros tipos de datos.\n",
        "    return len(elemento)\n",
        "agrupacion_culinaria = restaurantes_dataframe_pares.pivot_table(index=[\"ciudades\"], columns=\"culinaria\", aggfunc=lambda x: funcion_agrupacion(x), fill_value=0)\n",
        "agrupacion_culinaria"
      ],
      "execution_count": 14,
      "outputs": [
        {
          "output_type": "execute_result",
          "data": {
            "text/html": [
              "<div>\n",
              "<style scoped>\n",
              "    .dataframe tbody tr th:only-of-type {\n",
              "        vertical-align: middle;\n",
              "    }\n",
              "\n",
              "    .dataframe tbody tr th {\n",
              "        vertical-align: top;\n",
              "    }\n",
              "\n",
              "    .dataframe thead th {\n",
              "        text-align: right;\n",
              "    }\n",
              "</style>\n",
              "<table border=\"1\" class=\"dataframe\">\n",
              "  <thead>\n",
              "    <tr style=\"text-align: right;\">\n",
              "      <th>culinaria</th>\n",
              "      <th>Chapina</th>\n",
              "      <th>China</th>\n",
              "      <th>Italiana</th>\n",
              "      <th>Thai</th>\n",
              "      <th>Tica</th>\n",
              "    </tr>\n",
              "    <tr>\n",
              "      <th>ciudades</th>\n",
              "      <th></th>\n",
              "      <th></th>\n",
              "      <th></th>\n",
              "      <th></th>\n",
              "      <th></th>\n",
              "    </tr>\n",
              "  </thead>\n",
              "  <tbody>\n",
              "    <tr>\n",
              "      <th>Guatemala</th>\n",
              "      <td>3</td>\n",
              "      <td>1</td>\n",
              "      <td>1</td>\n",
              "      <td>1</td>\n",
              "      <td>0</td>\n",
              "    </tr>\n",
              "    <tr>\n",
              "      <th>San José</th>\n",
              "      <td>1</td>\n",
              "      <td>1</td>\n",
              "      <td>1</td>\n",
              "      <td>0</td>\n",
              "      <td>2</td>\n",
              "    </tr>\n",
              "    <tr>\n",
              "      <th>San Salvador</th>\n",
              "      <td>0</td>\n",
              "      <td>1</td>\n",
              "      <td>1</td>\n",
              "      <td>0</td>\n",
              "      <td>1</td>\n",
              "    </tr>\n",
              "  </tbody>\n",
              "</table>\n",
              "</div>"
            ],
            "text/plain": [
              "culinaria     Chapina  China  Italiana  Thai  Tica\n",
              "ciudades                                          \n",
              "Guatemala           3      1         1     1     0\n",
              "San José            1      1         1     0     2\n",
              "San Salvador        0      1         1     0     1"
            ]
          },
          "metadata": {
            "tags": []
          },
          "execution_count": 14
        }
      ]
    },
    {
      "cell_type": "code",
      "metadata": {
        "id": "ZrxsxCm8UoNQ",
        "colab_type": "code",
        "colab": {
          "base_uri": "https://localhost:8080/",
          "height": 175
        },
        "outputId": "ef14d76e-28a7-4337-ca9f-784e822993b7"
      },
      "source": [
        "agrupacion_culinaria = restaurantes_dataframe_pares.pivot_table(\n",
        "    index=[\"ciudades\"], \n",
        "    columns=\"culinaria\", \n",
        "    aggfunc=len, ## Enviamos directamente la función de agrupación. Entre otras funcionas de agrupacíon útiles está np.sum (la función de suma de NumPy) y np.mean (media)\n",
        "    fill_value=0)\n",
        "agrupacion_culinaria"
      ],
      "execution_count": 15,
      "outputs": [
        {
          "output_type": "execute_result",
          "data": {
            "text/html": [
              "<div>\n",
              "<style scoped>\n",
              "    .dataframe tbody tr th:only-of-type {\n",
              "        vertical-align: middle;\n",
              "    }\n",
              "\n",
              "    .dataframe tbody tr th {\n",
              "        vertical-align: top;\n",
              "    }\n",
              "\n",
              "    .dataframe thead th {\n",
              "        text-align: right;\n",
              "    }\n",
              "</style>\n",
              "<table border=\"1\" class=\"dataframe\">\n",
              "  <thead>\n",
              "    <tr style=\"text-align: right;\">\n",
              "      <th>culinaria</th>\n",
              "      <th>Chapina</th>\n",
              "      <th>China</th>\n",
              "      <th>Italiana</th>\n",
              "      <th>Thai</th>\n",
              "      <th>Tica</th>\n",
              "    </tr>\n",
              "    <tr>\n",
              "      <th>ciudades</th>\n",
              "      <th></th>\n",
              "      <th></th>\n",
              "      <th></th>\n",
              "      <th></th>\n",
              "      <th></th>\n",
              "    </tr>\n",
              "  </thead>\n",
              "  <tbody>\n",
              "    <tr>\n",
              "      <th>Guatemala</th>\n",
              "      <td>3</td>\n",
              "      <td>1</td>\n",
              "      <td>1</td>\n",
              "      <td>1</td>\n",
              "      <td>0</td>\n",
              "    </tr>\n",
              "    <tr>\n",
              "      <th>San José</th>\n",
              "      <td>1</td>\n",
              "      <td>1</td>\n",
              "      <td>1</td>\n",
              "      <td>0</td>\n",
              "      <td>2</td>\n",
              "    </tr>\n",
              "    <tr>\n",
              "      <th>San Salvador</th>\n",
              "      <td>0</td>\n",
              "      <td>1</td>\n",
              "      <td>1</td>\n",
              "      <td>0</td>\n",
              "      <td>1</td>\n",
              "    </tr>\n",
              "  </tbody>\n",
              "</table>\n",
              "</div>"
            ],
            "text/plain": [
              "culinaria     Chapina  China  Italiana  Thai  Tica\n",
              "ciudades                                          \n",
              "Guatemala           3      1         1     1     0\n",
              "San José            1      1         1     0     2\n",
              "San Salvador        0      1         1     0     1"
            ]
          },
          "metadata": {
            "tags": []
          },
          "execution_count": 15
        }
      ]
    },
    {
      "cell_type": "code",
      "metadata": {
        "id": "JoO8GegAVBnn",
        "colab_type": "code",
        "colab": {}
      },
      "source": [
        ""
      ],
      "execution_count": 0,
      "outputs": []
    }
  ]
}