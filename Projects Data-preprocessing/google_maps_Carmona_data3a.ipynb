{
 "cells": [
  {
   "cell_type": "markdown",
   "metadata": {},
   "source": [
    "<center> <h1> Google Maps API </h> </center> \n",
    "<center> <h2> Homework 1 </h> </center> \n",
    "<center> <h3> Data Preprocessing </h> </center> "
   ]
  },
  {
   "cell_type": "markdown",
   "metadata": {},
   "source": [
    "### A. Use the [*Nearby Seach*](https://developers.google.com/places/web-service/search) Method to find all the restaurant near to the UPY (20.988459, -89.736768) around 2km. In order to fulfill this item you need to:\n",
    "* Create a *search_nearby_places* function with the appropiate parameters. It must return a JSON with the results. Places must be ranked by distance.\n",
    "* Create a table with the following columns: Name, Place Id, Rating, Place Types, Total of User Ratings."
   ]
  },
  {
   "cell_type": "markdown",
   "metadata": {},
   "source": [
    "# step 1"
   ]
  },
  {
   "cell_type": "code",
   "execution_count": 16,
   "metadata": {},
   "outputs": [],
   "source": [
    "import pandas as pd\n",
    "import requests\n",
    "import json"
   ]
  },
  {
   "cell_type": "code",
   "execution_count": 17,
   "metadata": {},
   "outputs": [],
   "source": [
    "#Declare a variable for the API KEY\n",
    "key = ''"
   ]
  },
  {
   "cell_type": "code",
   "execution_count": 18,
   "metadata": {},
   "outputs": [],
   "source": [
    "def search_nearby_places(key, latitude, longitude, radius, p_type):\n",
    "    '''\n",
    "    we make a function to get the json with the data.\n",
    "    '''\n",
    "    url = f'https://maps.googleapis.com/maps/api/place/nearbysearch/json?key={key}&location={latitude},{longitude}&radius={radius}&type={p_type}'\n",
    "    res = requests.get(url)\n",
    "    results = json.loads(res.content)\n",
    "    return results"
   ]
  },
  {
   "cell_type": "code",
   "execution_count": 19,
   "metadata": {},
   "outputs": [],
   "source": [
    "#we use the function and put the basic data that will be inside of the url\n",
    "places = search_nearby_places(key, 20.988459, -89.736768, 2000, 'restaurant')"
   ]
  },
  {
   "cell_type": "code",
   "execution_count": 20,
   "metadata": {},
   "outputs": [
    {
     "data": {
      "text/html": [
       "<div>\n",
       "<style scoped>\n",
       "    .dataframe tbody tr th:only-of-type {\n",
       "        vertical-align: middle;\n",
       "    }\n",
       "\n",
       "    .dataframe tbody tr th {\n",
       "        vertical-align: top;\n",
       "    }\n",
       "\n",
       "    .dataframe thead th {\n",
       "        text-align: right;\n",
       "    }\n",
       "</style>\n",
       "<table border=\"1\" class=\"dataframe\">\n",
       "  <thead>\n",
       "    <tr style=\"text-align: right;\">\n",
       "      <th></th>\n",
       "      <th>name</th>\n",
       "      <th>place_id</th>\n",
       "      <th>rating</th>\n",
       "      <th>types</th>\n",
       "      <th>user_ratings_total</th>\n",
       "    </tr>\n",
       "  </thead>\n",
       "  <tbody>\n",
       "    <tr>\n",
       "      <th>0</th>\n",
       "      <td>La Glorieta (Cocina y Pizzería)</td>\n",
       "      <td>ChIJC9i7XEsNVo8Ro2-sdS45rBg</td>\n",
       "      <td>4.1</td>\n",
       "      <td>[restaurant, food, point_of_interest, establis...</td>\n",
       "      <td>14.0</td>\n",
       "    </tr>\n",
       "    <tr>\n",
       "      <th>1</th>\n",
       "      <td>Mr. Cazuelas</td>\n",
       "      <td>ChIJ3WHHeJkMVo8RO_z2pfoDFZg</td>\n",
       "      <td>4.0</td>\n",
       "      <td>[restaurant, food, point_of_interest, establis...</td>\n",
       "      <td>3.0</td>\n",
       "    </tr>\n",
       "    <tr>\n",
       "      <th>2</th>\n",
       "      <td>El Rincón Del Tabas</td>\n",
       "      <td>ChIJn4UFHpwMVo8RZOfFHQCuIwo</td>\n",
       "      <td>5.0</td>\n",
       "      <td>[restaurant, food, point_of_interest, establis...</td>\n",
       "      <td>2.0</td>\n",
       "    </tr>\n",
       "    <tr>\n",
       "      <th>3</th>\n",
       "      <td>Moyoyos burger</td>\n",
       "      <td>ChIJqxQ91h0NVo8R52sc8a1HlvE</td>\n",
       "      <td>NaN</td>\n",
       "      <td>[restaurant, food, point_of_interest, establis...</td>\n",
       "      <td>NaN</td>\n",
       "    </tr>\n",
       "    <tr>\n",
       "      <th>4</th>\n",
       "      <td>Cocina economica \"El sabor de doña antonia\"</td>\n",
       "      <td>ChIJaQJm928NVo8RAN8mnDmvYEk</td>\n",
       "      <td>NaN</td>\n",
       "      <td>[restaurant, food, point_of_interest, establis...</td>\n",
       "      <td>NaN</td>\n",
       "    </tr>\n",
       "    <tr>\n",
       "      <th>5</th>\n",
       "      <td>Cemitas Poblanas Doña Dulce</td>\n",
       "      <td>ChIJ-18misANVo8R8_gP-uVUAMY</td>\n",
       "      <td>4.8</td>\n",
       "      <td>[restaurant, food, point_of_interest, establis...</td>\n",
       "      <td>21.0</td>\n",
       "    </tr>\n",
       "    <tr>\n",
       "      <th>6</th>\n",
       "      <td>Hamburguesas Maaaa de la 112.</td>\n",
       "      <td>ChIJXTh3gaoNVo8RovFdjQ-lN10</td>\n",
       "      <td>3.7</td>\n",
       "      <td>[restaurant, food, point_of_interest, establis...</td>\n",
       "      <td>6.0</td>\n",
       "    </tr>\n",
       "    <tr>\n",
       "      <th>7</th>\n",
       "      <td>Carnívoros</td>\n",
       "      <td>ChIJx9nxwp0MVo8RvujKFHXH6H4</td>\n",
       "      <td>4.1</td>\n",
       "      <td>[restaurant, food, point_of_interest, establis...</td>\n",
       "      <td>39.0</td>\n",
       "    </tr>\n",
       "    <tr>\n",
       "      <th>8</th>\n",
       "      <td>Modelorama</td>\n",
       "      <td>ChIJozhU3J0MVo8RKZTNG5qZyu4</td>\n",
       "      <td>4.8</td>\n",
       "      <td>[convenience_store, bar, liquor_store, restaur...</td>\n",
       "      <td>4.0</td>\n",
       "    </tr>\n",
       "    <tr>\n",
       "      <th>9</th>\n",
       "      <td>La BOMBA DEL SABOR</td>\n",
       "      <td>ChIJXzbguNgLVo8RnxttdBhYakc</td>\n",
       "      <td>5.0</td>\n",
       "      <td>[restaurant, food, point_of_interest, establis...</td>\n",
       "      <td>2.0</td>\n",
       "    </tr>\n",
       "    <tr>\n",
       "      <th>10</th>\n",
       "      <td>La Carlota</td>\n",
       "      <td>ChIJVWRJiW8NVo8R7E46087W96E</td>\n",
       "      <td>5.0</td>\n",
       "      <td>[meal_delivery, restaurant, food, point_of_int...</td>\n",
       "      <td>4.0</td>\n",
       "    </tr>\n",
       "    <tr>\n",
       "      <th>11</th>\n",
       "      <td>The witch burgers</td>\n",
       "      <td>ChIJk8-rWwgNVo8RhVnpRaHabZ8</td>\n",
       "      <td>5.0</td>\n",
       "      <td>[restaurant, food, point_of_interest, establis...</td>\n",
       "      <td>1.0</td>\n",
       "    </tr>\n",
       "    <tr>\n",
       "      <th>12</th>\n",
       "      <td>Panuchos &amp; Salbutes El Almendrito</td>\n",
       "      <td>ChIJ80ttQuMLVo8RC-oH1Eisi8A</td>\n",
       "      <td>5.0</td>\n",
       "      <td>[restaurant, food, point_of_interest, establis...</td>\n",
       "      <td>1.0</td>\n",
       "    </tr>\n",
       "    <tr>\n",
       "      <th>13</th>\n",
       "      <td>HAMBURGUESAS HARAMYYU BIRIZ</td>\n",
       "      <td>ChIJHdPcMX0LVo8RhSB1GURFT7U</td>\n",
       "      <td>NaN</td>\n",
       "      <td>[restaurant, food, point_of_interest, establis...</td>\n",
       "      <td>NaN</td>\n",
       "    </tr>\n",
       "    <tr>\n",
       "      <th>14</th>\n",
       "      <td>PerryBurguer</td>\n",
       "      <td>ChIJldA29UgLVo8Rj6HAXz7I2iM</td>\n",
       "      <td>4.5</td>\n",
       "      <td>[restaurant, food, point_of_interest, establis...</td>\n",
       "      <td>10.0</td>\n",
       "    </tr>\n",
       "  </tbody>\n",
       "</table>\n",
       "</div>"
      ],
      "text/plain": [
       "                                           name                     place_id  \\\n",
       "0               La Glorieta (Cocina y Pizzería)  ChIJC9i7XEsNVo8Ro2-sdS45rBg   \n",
       "1                                  Mr. Cazuelas  ChIJ3WHHeJkMVo8RO_z2pfoDFZg   \n",
       "2                           El Rincón Del Tabas  ChIJn4UFHpwMVo8RZOfFHQCuIwo   \n",
       "3                                Moyoyos burger  ChIJqxQ91h0NVo8R52sc8a1HlvE   \n",
       "4   Cocina economica \"El sabor de doña antonia\"  ChIJaQJm928NVo8RAN8mnDmvYEk   \n",
       "5                   Cemitas Poblanas Doña Dulce  ChIJ-18misANVo8R8_gP-uVUAMY   \n",
       "6                 Hamburguesas Maaaa de la 112.  ChIJXTh3gaoNVo8RovFdjQ-lN10   \n",
       "7                                    Carnívoros  ChIJx9nxwp0MVo8RvujKFHXH6H4   \n",
       "8                                    Modelorama  ChIJozhU3J0MVo8RKZTNG5qZyu4   \n",
       "9                            La BOMBA DEL SABOR  ChIJXzbguNgLVo8RnxttdBhYakc   \n",
       "10                                   La Carlota  ChIJVWRJiW8NVo8R7E46087W96E   \n",
       "11                            The witch burgers  ChIJk8-rWwgNVo8RhVnpRaHabZ8   \n",
       "12            Panuchos & Salbutes El Almendrito  ChIJ80ttQuMLVo8RC-oH1Eisi8A   \n",
       "13                  HAMBURGUESAS HARAMYYU BIRIZ  ChIJHdPcMX0LVo8RhSB1GURFT7U   \n",
       "14                                 PerryBurguer  ChIJldA29UgLVo8Rj6HAXz7I2iM   \n",
       "\n",
       "    rating                                              types  \\\n",
       "0      4.1  [restaurant, food, point_of_interest, establis...   \n",
       "1      4.0  [restaurant, food, point_of_interest, establis...   \n",
       "2      5.0  [restaurant, food, point_of_interest, establis...   \n",
       "3      NaN  [restaurant, food, point_of_interest, establis...   \n",
       "4      NaN  [restaurant, food, point_of_interest, establis...   \n",
       "5      4.8  [restaurant, food, point_of_interest, establis...   \n",
       "6      3.7  [restaurant, food, point_of_interest, establis...   \n",
       "7      4.1  [restaurant, food, point_of_interest, establis...   \n",
       "8      4.8  [convenience_store, bar, liquor_store, restaur...   \n",
       "9      5.0  [restaurant, food, point_of_interest, establis...   \n",
       "10     5.0  [meal_delivery, restaurant, food, point_of_int...   \n",
       "11     5.0  [restaurant, food, point_of_interest, establis...   \n",
       "12     5.0  [restaurant, food, point_of_interest, establis...   \n",
       "13     NaN  [restaurant, food, point_of_interest, establis...   \n",
       "14     4.5  [restaurant, food, point_of_interest, establis...   \n",
       "\n",
       "    user_ratings_total  \n",
       "0                 14.0  \n",
       "1                  3.0  \n",
       "2                  2.0  \n",
       "3                  NaN  \n",
       "4                  NaN  \n",
       "5                 21.0  \n",
       "6                  6.0  \n",
       "7                 39.0  \n",
       "8                  4.0  \n",
       "9                  2.0  \n",
       "10                 4.0  \n",
       "11                 1.0  \n",
       "12                 1.0  \n",
       "13                 NaN  \n",
       "14                10.0  "
      ]
     },
     "execution_count": 20,
     "metadata": {},
     "output_type": "execute_result"
    }
   ],
   "source": [
    "#we make a empthy data frame and read the json that the function gave us.\n",
    "restaurants_upy = pd.DataFrame()\n",
    "restaurants_upy = pd.read_json(json.dumps(places['results']),orient = 'records')[['name','place_id','rating','types','user_ratings_total']]\n",
    "restaurants_upy"
   ]
  },
  {
   "cell_type": "markdown",
   "metadata": {},
   "source": [
    "### step 2"
   ]
  },
  {
   "cell_type": "code",
   "execution_count": 21,
   "metadata": {},
   "outputs": [],
   "source": [
    "def find_id(name, latitude, longitude, key):\n",
    "    '''\n",
    "    we get the function and put the values that it needs in this case: these would be key, place name,latitude,longitude\n",
    "    we need to put al variables on the url, specific variables\n",
    "    '''\n",
    "    url = f'https://maps.googleapis.com/maps/api/place/findplacefromtext/json?key={key}&locationbias=point:{latitude},{longitude}&input={name}&inputtype=textquery'\n",
    "    res = requests.get(url)\n",
    "    results = json.loads(res.content)\n",
    "    return results['candidates'][0]['place_id']"
   ]
  },
  {
   "cell_type": "markdown",
   "metadata": {},
   "source": [
    "### step 3\n",
    "* McCarthy's Irish Pub - Caucel\n",
    "* Starbucks Montejo\n",
    "* Los Trompos Circuito"
   ]
  },
  {
   "cell_type": "code",
   "execution_count": 22,
   "metadata": {},
   "outputs": [
    {
     "name": "stdout",
     "output_type": "stream",
     "text": [
      "The ID of McCarthy's Irish Pub - Caucel is:  ChIJJyKKOKB0Vo8RCQcxkUw6hp8\n",
      "The ID of Starbucks Montejo is:  ChIJaUUfylFxVo8RgEGjoansPbc\n",
      "The ID of Los Trompos Circuito is:  ChIJpVKXOq12Vo8RK4bUWILT9dI\n"
     ]
    }
   ],
   "source": [
    "#we call the function and serch the ID for some places.\n",
    "print(\"The ID of McCarthy's Irish Pub - Caucel is: \",find_id(\"McCarthy's Irish Pub - Caucel\" ,20.9999389, -89.6847603, key))\n",
    "print(\"The ID of Starbucks Montejo is: \",find_id(\"Starbucks Montejo\" ,20.984967, -89.6203225, key))\n",
    "print(\"The ID of Los Trompos Circuito is: \",find_id(\"Los Trompos Circuito\" ,20.9850112, -89.6356435, key))"
   ]
  },
  {
   "cell_type": "markdown",
   "metadata": {},
   "source": [
    "### step 4\n",
    "* Create a *find_reviews* function with the appropiate parameters. It must return a JSON with the results. \n",
    "* Create a table with the following columns: Author Name, Language, Rating, Text, Time."
   ]
  },
  {
   "cell_type": "code",
   "execution_count": 23,
   "metadata": {},
   "outputs": [],
   "source": [
    "def find_reviews(key,p_id,language):\n",
    "    '''\n",
    "    we make a function to get the correct data and use the variables language and key.\n",
    "    '''\n",
    "    url = f'https://maps.googleapis.com/maps/api/place/details/json?key={key}&place_id={p_id}&language={language}'\n",
    "    res = requests.get(url)\n",
    "    results = json.loads(res.content)\n",
    "    return results['result']['reviews']"
   ]
  },
  {
   "cell_type": "code",
   "execution_count": 24,
   "metadata": {},
   "outputs": [
    {
     "data": {
      "text/html": [
       "<div>\n",
       "<style scoped>\n",
       "    .dataframe tbody tr th:only-of-type {\n",
       "        vertical-align: middle;\n",
       "    }\n",
       "\n",
       "    .dataframe tbody tr th {\n",
       "        vertical-align: top;\n",
       "    }\n",
       "\n",
       "    .dataframe thead th {\n",
       "        text-align: right;\n",
       "    }\n",
       "</style>\n",
       "<table border=\"1\" class=\"dataframe\">\n",
       "  <thead>\n",
       "    <tr style=\"text-align: right;\">\n",
       "      <th></th>\n",
       "      <th>author_name</th>\n",
       "      <th>language</th>\n",
       "      <th>rating</th>\n",
       "      <th>text</th>\n",
       "      <th>time</th>\n",
       "    </tr>\n",
       "  </thead>\n",
       "  <tbody>\n",
       "    <tr>\n",
       "      <th>0</th>\n",
       "      <td>David Guillermo</td>\n",
       "      <td>en</td>\n",
       "      <td>3</td>\n",
       "      <td>They need person to regulate the sound inside ...</td>\n",
       "      <td>1566612760</td>\n",
       "    </tr>\n",
       "    <tr>\n",
       "      <th>1</th>\n",
       "      <td>Patrick</td>\n",
       "      <td>en</td>\n",
       "      <td>5</td>\n",
       "      <td>One of the best pubs around.\\nGreat service, g...</td>\n",
       "      <td>1518688093</td>\n",
       "    </tr>\n",
       "    <tr>\n",
       "      <th>2</th>\n",
       "      <td>Islas</td>\n",
       "      <td>en</td>\n",
       "      <td>5</td>\n",
       "      <td>I love this place, one of the best places to d...</td>\n",
       "      <td>1522860496</td>\n",
       "    </tr>\n",
       "    <tr>\n",
       "      <th>3</th>\n",
       "      <td>Toni Aguilar</td>\n",
       "      <td>en</td>\n",
       "      <td>5</td>\n",
       "      <td>Rockers, music lovers in general will enjoy th...</td>\n",
       "      <td>1516852970</td>\n",
       "    </tr>\n",
       "    <tr>\n",
       "      <th>4</th>\n",
       "      <td>monica ravell</td>\n",
       "      <td>en</td>\n",
       "      <td>5</td>\n",
       "      <td>Great place to listen to good rock</td>\n",
       "      <td>1531876412</td>\n",
       "    </tr>\n",
       "    <tr>\n",
       "      <th>5</th>\n",
       "      <td>Gustavo Balan smith</td>\n",
       "      <td>es</td>\n",
       "      <td>5</td>\n",
       "      <td>Buen lugar super amables todos buen lugar para...</td>\n",
       "      <td>1569553044</td>\n",
       "    </tr>\n",
       "    <tr>\n",
       "      <th>6</th>\n",
       "      <td>Alejandra  Casanova</td>\n",
       "      <td>es</td>\n",
       "      <td>4</td>\n",
       "      <td>Buen lugar para escuchar buen rock. De domingo...</td>\n",
       "      <td>1566197539</td>\n",
       "    </tr>\n",
       "    <tr>\n",
       "      <th>7</th>\n",
       "      <td>Fernando Estrada</td>\n",
       "      <td>es</td>\n",
       "      <td>4</td>\n",
       "      <td>Fuimos viernes en la noche. Buena banda tocand...</td>\n",
       "      <td>1564530272</td>\n",
       "    </tr>\n",
       "    <tr>\n",
       "      <th>8</th>\n",
       "      <td>Ian Vazsan</td>\n",
       "      <td>es</td>\n",
       "      <td>5</td>\n",
       "      <td>La promo de alitas está de lujo.</td>\n",
       "      <td>1568990169</td>\n",
       "    </tr>\n",
       "    <tr>\n",
       "      <th>9</th>\n",
       "      <td>Diseñosalon Xgarcia</td>\n",
       "      <td>es</td>\n",
       "      <td>4</td>\n",
       "      <td>Ambiente tranquilo a la hora que fui</td>\n",
       "      <td>1569195706</td>\n",
       "    </tr>\n",
       "  </tbody>\n",
       "</table>\n",
       "</div>"
      ],
      "text/plain": [
       "           author_name language  rating  \\\n",
       "0      David Guillermo       en       3   \n",
       "1              Patrick       en       5   \n",
       "2                Islas       en       5   \n",
       "3         Toni Aguilar       en       5   \n",
       "4        monica ravell       en       5   \n",
       "5  Gustavo Balan smith       es       5   \n",
       "6  Alejandra  Casanova       es       4   \n",
       "7     Fernando Estrada       es       4   \n",
       "8           Ian Vazsan       es       5   \n",
       "9  Diseñosalon Xgarcia       es       4   \n",
       "\n",
       "                                                text        time  \n",
       "0  They need person to regulate the sound inside ...  1566612760  \n",
       "1  One of the best pubs around.\\nGreat service, g...  1518688093  \n",
       "2  I love this place, one of the best places to d...  1522860496  \n",
       "3  Rockers, music lovers in general will enjoy th...  1516852970  \n",
       "4                 Great place to listen to good rock  1531876412  \n",
       "5  Buen lugar super amables todos buen lugar para...  1569553044  \n",
       "6  Buen lugar para escuchar buen rock. De domingo...  1566197539  \n",
       "7  Fuimos viernes en la noche. Buena banda tocand...  1564530272  \n",
       "8                   La promo de alitas está de lujo.  1568990169  \n",
       "9               Ambiente tranquilo a la hora que fui  1569195706  "
      ]
     },
     "execution_count": 24,
     "metadata": {},
     "output_type": "execute_result"
    }
   ],
   "source": [
    "#ID of McCarthy's Irish Pub - Caucel\n",
    "p_id = 'ChIJJyKKOKB0Vo8RCQcxkUw6hp8'\n",
    "\n",
    "# we use the function to get the reviews\n",
    "\n",
    "english_reviews = find_reviews(key,p_id,'en')\n",
    "spanish_reviews = find_reviews(key,p_id,'es')\n",
    "\n",
    "# Join the JSON's with a simple addition\n",
    "reviews = english_reviews + spanish_reviews\n",
    "\n",
    "# With pandas read the JSON and make a DataFrame with specific titles\n",
    "reviews = pd.read_json(json.dumps(reviews), orient='records')[['author_name','language','rating','text','time']]\n",
    "reviews #we print the table"
   ]
  },
  {
   "cell_type": "markdown",
   "metadata": {},
   "source": [
    "### step 5\n",
    "* Create a *find_similar* function with the appropiate parameters. It must return a JSON with the results.\n",
    "* Create a table with the following columns: Place Name, Plaece Id, Rating, Total of Use Ratings."
   ]
  },
  {
   "cell_type": "code",
   "execution_count": 25,
   "metadata": {},
   "outputs": [],
   "source": [
    "def find_similar(name, latitude, longitude,key):\n",
    "    '''\n",
    "    '''\n",
    "    #we get the fist json top find one things\n",
    "    url = f'https://maps.googleapis.com/maps/api/place/findplacefromtext/json?input={name}&inputtype=textquery&fields=types&key={key}'\n",
    "    res = requests.get(url)\n",
    "    results = json.loads(res.content)\n",
    "    place_type = results['candidates'][0]['types'][0]\n",
    "    #we use the first result for the second function and search the nearby places\n",
    "    url_2 = f'https://maps.googleapis.com/maps/api/place/nearbysearch/json?location={latitude},{longitude}&radius=2000&rankby=prominence&type={place_type}&key={key}'\n",
    "    res_2 = requests.get(url_2)\n",
    "    results_nearby = json.loads(res_2.content)\n",
    "    return results_nearby['results']"
   ]
  },
  {
   "cell_type": "code",
   "execution_count": 26,
   "metadata": {},
   "outputs": [
    {
     "data": {
      "text/html": [
       "<div>\n",
       "<style scoped>\n",
       "    .dataframe tbody tr th:only-of-type {\n",
       "        vertical-align: middle;\n",
       "    }\n",
       "\n",
       "    .dataframe tbody tr th {\n",
       "        vertical-align: top;\n",
       "    }\n",
       "\n",
       "    .dataframe thead th {\n",
       "        text-align: right;\n",
       "    }\n",
       "</style>\n",
       "<table border=\"1\" class=\"dataframe\">\n",
       "  <thead>\n",
       "    <tr style=\"text-align: right;\">\n",
       "      <th></th>\n",
       "      <th>name</th>\n",
       "      <th>place_id</th>\n",
       "      <th>rating</th>\n",
       "      <th>user_ratings_total</th>\n",
       "    </tr>\n",
       "  </thead>\n",
       "  <tbody>\n",
       "    <tr>\n",
       "      <th>0</th>\n",
       "      <td>La Glorieta (Cocina y Pizzería)</td>\n",
       "      <td>ChIJC9i7XEsNVo8Ro2-sdS45rBg</td>\n",
       "      <td>4.1</td>\n",
       "      <td>14.0</td>\n",
       "    </tr>\n",
       "    <tr>\n",
       "      <th>1</th>\n",
       "      <td>Mr. Cazuelas</td>\n",
       "      <td>ChIJ3WHHeJkMVo8RO_z2pfoDFZg</td>\n",
       "      <td>4.0</td>\n",
       "      <td>3.0</td>\n",
       "    </tr>\n",
       "    <tr>\n",
       "      <th>2</th>\n",
       "      <td>El Rincón Del Tabas</td>\n",
       "      <td>ChIJn4UFHpwMVo8RZOfFHQCuIwo</td>\n",
       "      <td>5.0</td>\n",
       "      <td>2.0</td>\n",
       "    </tr>\n",
       "    <tr>\n",
       "      <th>3</th>\n",
       "      <td>Moyoyos burger</td>\n",
       "      <td>ChIJqxQ91h0NVo8R52sc8a1HlvE</td>\n",
       "      <td>NaN</td>\n",
       "      <td>NaN</td>\n",
       "    </tr>\n",
       "    <tr>\n",
       "      <th>4</th>\n",
       "      <td>Cocina economica \"El sabor de doña antonia\"</td>\n",
       "      <td>ChIJaQJm928NVo8RAN8mnDmvYEk</td>\n",
       "      <td>NaN</td>\n",
       "      <td>NaN</td>\n",
       "    </tr>\n",
       "    <tr>\n",
       "      <th>5</th>\n",
       "      <td>Cemitas Poblanas Doña Dulce</td>\n",
       "      <td>ChIJ-18misANVo8R8_gP-uVUAMY</td>\n",
       "      <td>4.8</td>\n",
       "      <td>21.0</td>\n",
       "    </tr>\n",
       "    <tr>\n",
       "      <th>6</th>\n",
       "      <td>Hamburguesas Maaaa de la 112.</td>\n",
       "      <td>ChIJXTh3gaoNVo8RovFdjQ-lN10</td>\n",
       "      <td>3.7</td>\n",
       "      <td>6.0</td>\n",
       "    </tr>\n",
       "    <tr>\n",
       "      <th>7</th>\n",
       "      <td>Carnívoros</td>\n",
       "      <td>ChIJx9nxwp0MVo8RvujKFHXH6H4</td>\n",
       "      <td>4.1</td>\n",
       "      <td>39.0</td>\n",
       "    </tr>\n",
       "    <tr>\n",
       "      <th>8</th>\n",
       "      <td>Modelorama</td>\n",
       "      <td>ChIJozhU3J0MVo8RKZTNG5qZyu4</td>\n",
       "      <td>4.8</td>\n",
       "      <td>4.0</td>\n",
       "    </tr>\n",
       "    <tr>\n",
       "      <th>9</th>\n",
       "      <td>La BOMBA DEL SABOR</td>\n",
       "      <td>ChIJXzbguNgLVo8RnxttdBhYakc</td>\n",
       "      <td>5.0</td>\n",
       "      <td>2.0</td>\n",
       "    </tr>\n",
       "    <tr>\n",
       "      <th>10</th>\n",
       "      <td>La Carlota</td>\n",
       "      <td>ChIJVWRJiW8NVo8R7E46087W96E</td>\n",
       "      <td>5.0</td>\n",
       "      <td>4.0</td>\n",
       "    </tr>\n",
       "    <tr>\n",
       "      <th>11</th>\n",
       "      <td>The witch burgers</td>\n",
       "      <td>ChIJk8-rWwgNVo8RhVnpRaHabZ8</td>\n",
       "      <td>5.0</td>\n",
       "      <td>1.0</td>\n",
       "    </tr>\n",
       "    <tr>\n",
       "      <th>12</th>\n",
       "      <td>Panuchos &amp; Salbutes El Almendrito</td>\n",
       "      <td>ChIJ80ttQuMLVo8RC-oH1Eisi8A</td>\n",
       "      <td>5.0</td>\n",
       "      <td>1.0</td>\n",
       "    </tr>\n",
       "    <tr>\n",
       "      <th>13</th>\n",
       "      <td>HAMBURGUESAS HARAMYYU BIRIZ</td>\n",
       "      <td>ChIJHdPcMX0LVo8RhSB1GURFT7U</td>\n",
       "      <td>NaN</td>\n",
       "      <td>NaN</td>\n",
       "    </tr>\n",
       "    <tr>\n",
       "      <th>14</th>\n",
       "      <td>PerryBurguer</td>\n",
       "      <td>ChIJldA29UgLVo8Rj6HAXz7I2iM</td>\n",
       "      <td>4.5</td>\n",
       "      <td>10.0</td>\n",
       "    </tr>\n",
       "  </tbody>\n",
       "</table>\n",
       "</div>"
      ],
      "text/plain": [
       "                                           name                     place_id  \\\n",
       "0               La Glorieta (Cocina y Pizzería)  ChIJC9i7XEsNVo8Ro2-sdS45rBg   \n",
       "1                                  Mr. Cazuelas  ChIJ3WHHeJkMVo8RO_z2pfoDFZg   \n",
       "2                           El Rincón Del Tabas  ChIJn4UFHpwMVo8RZOfFHQCuIwo   \n",
       "3                                Moyoyos burger  ChIJqxQ91h0NVo8R52sc8a1HlvE   \n",
       "4   Cocina economica \"El sabor de doña antonia\"  ChIJaQJm928NVo8RAN8mnDmvYEk   \n",
       "5                   Cemitas Poblanas Doña Dulce  ChIJ-18misANVo8R8_gP-uVUAMY   \n",
       "6                 Hamburguesas Maaaa de la 112.  ChIJXTh3gaoNVo8RovFdjQ-lN10   \n",
       "7                                    Carnívoros  ChIJx9nxwp0MVo8RvujKFHXH6H4   \n",
       "8                                    Modelorama  ChIJozhU3J0MVo8RKZTNG5qZyu4   \n",
       "9                            La BOMBA DEL SABOR  ChIJXzbguNgLVo8RnxttdBhYakc   \n",
       "10                                   La Carlota  ChIJVWRJiW8NVo8R7E46087W96E   \n",
       "11                            The witch burgers  ChIJk8-rWwgNVo8RhVnpRaHabZ8   \n",
       "12            Panuchos & Salbutes El Almendrito  ChIJ80ttQuMLVo8RC-oH1Eisi8A   \n",
       "13                  HAMBURGUESAS HARAMYYU BIRIZ  ChIJHdPcMX0LVo8RhSB1GURFT7U   \n",
       "14                                 PerryBurguer  ChIJldA29UgLVo8Rj6HAXz7I2iM   \n",
       "\n",
       "    rating  user_ratings_total  \n",
       "0      4.1                14.0  \n",
       "1      4.0                 3.0  \n",
       "2      5.0                 2.0  \n",
       "3      NaN                 NaN  \n",
       "4      NaN                 NaN  \n",
       "5      4.8                21.0  \n",
       "6      3.7                 6.0  \n",
       "7      4.1                39.0  \n",
       "8      4.8                 4.0  \n",
       "9      5.0                 2.0  \n",
       "10     5.0                 4.0  \n",
       "11     5.0                 1.0  \n",
       "12     5.0                 1.0  \n",
       "13     NaN                 NaN  \n",
       "14     4.5                10.0  "
      ]
     },
     "execution_count": 26,
     "metadata": {},
     "output_type": "execute_result"
    }
   ],
   "source": [
    "# we use the function and we save the result in a variable\n",
    "similar_data = find_similar(\"Los Trompos Circuito\",20.988459,-89.736768,key)\n",
    "# we read the json with pandas and make a data frame\n",
    "find_similar= pd.read_json(json.dumps(similar_data ), orient='records')[['name','place_id','rating','user_ratings_total']]\n",
    "find_similar"
   ]
  },
  {
   "cell_type": "markdown",
   "metadata": {},
   "source": [
    "# PYTHON GOOGLE MAPS\n",
    "\n",
    "### Complete all the above tasks but using the Python [GoogleMaps](https://github.com/googlemaps/google-maps-services-python) Library. [Here](https://googlemaps.github.io/google-maps-services-python/docs/#module-googlemaps) you can find the documentation."
   ]
  },
  {
   "cell_type": "code",
   "execution_count": 32,
   "metadata": {},
   "outputs": [
    {
     "ename": "ModuleNotFoundError",
     "evalue": "No module named 'googlemaps'",
     "output_type": "error",
     "traceback": [
      "\u001b[1;31m---------------------------------------------------------------------------\u001b[0m",
      "\u001b[1;31mModuleNotFoundError\u001b[0m                       Traceback (most recent call last)",
      "\u001b[1;32m<ipython-input-32-22518c369176>\u001b[0m in \u001b[0;36m<module>\u001b[1;34m\u001b[0m\n\u001b[0;32m      1\u001b[0m \u001b[1;31m# Import the library but i dont know why but i cant do this\u001b[0m\u001b[1;33m\u001b[0m\u001b[1;33m\u001b[0m\u001b[1;33m\u001b[0m\u001b[0m\n\u001b[1;32m----> 2\u001b[1;33m \u001b[1;32mimport\u001b[0m \u001b[0mgooglemaps\u001b[0m \u001b[1;32mas\u001b[0m \u001b[0mgm\u001b[0m\u001b[1;33m\u001b[0m\u001b[1;33m\u001b[0m\u001b[0m\n\u001b[0m",
      "\u001b[1;31mModuleNotFoundError\u001b[0m: No module named 'googlemaps'"
     ]
    }
   ],
   "source": [
    "# Import the library but i dont know why but i cant do this\n",
    "import googlemaps as gm"
   ]
  },
  {
   "cell_type": "code",
   "execution_count": 33,
   "metadata": {},
   "outputs": [
    {
     "ename": "NameError",
     "evalue": "name 'gm' is not defined",
     "output_type": "error",
     "traceback": [
      "\u001b[1;31m---------------------------------------------------------------------------\u001b[0m",
      "\u001b[1;31mNameError\u001b[0m                                 Traceback (most recent call last)",
      "\u001b[1;32m<ipython-input-33-fdb6264a5cb5>\u001b[0m in \u001b[0;36m<module>\u001b[1;34m\u001b[0m\n\u001b[0;32m      1\u001b[0m \u001b[1;31m# For import the following functions will be with our varibale declared.\u001b[0m\u001b[1;33m\u001b[0m\u001b[1;33m\u001b[0m\u001b[1;33m\u001b[0m\u001b[0m\n\u001b[1;32m----> 2\u001b[1;33m \u001b[0mgmaps\u001b[0m \u001b[1;33m=\u001b[0m \u001b[0mgm\u001b[0m\u001b[1;33m.\u001b[0m\u001b[0mClient\u001b[0m\u001b[1;33m(\u001b[0m\u001b[0mkey\u001b[0m \u001b[1;33m=\u001b[0m \u001b[0mkey\u001b[0m\u001b[1;33m)\u001b[0m\u001b[1;33m\u001b[0m\u001b[1;33m\u001b[0m\u001b[0m\n\u001b[0m",
      "\u001b[1;31mNameError\u001b[0m: name 'gm' is not defined"
     ]
    }
   ],
   "source": [
    "# For import the following functions will be with our varibale declared.\n",
    "gmaps = gm.Client(key = key)"
   ]
  },
  {
   "cell_type": "markdown",
   "metadata": {},
   "source": [
    "A. Use the [*Nearby Seach*](https://developers.google.com/places/web-service/search) Method to find all the restaurant near to the UPY (20.988459, -89.736768) around 2km. In order to fulfill this item you need to:\n",
    "\n",
    "* Create a table with the following columns: Name, Place Id, Rating, Place Types, Total of User Ratings."
   ]
  },
  {
   "cell_type": "code",
   "execution_count": 34,
   "metadata": {},
   "outputs": [
    {
     "ename": "NameError",
     "evalue": "name 'gmaps' is not defined",
     "output_type": "error",
     "traceback": [
      "\u001b[1;31m---------------------------------------------------------------------------\u001b[0m",
      "\u001b[1;31mNameError\u001b[0m                                 Traceback (most recent call last)",
      "\u001b[1;32m<ipython-input-34-726103b626ca>\u001b[0m in \u001b[0;36m<module>\u001b[1;34m\u001b[0m\n\u001b[0;32m      1\u001b[0m \u001b[1;31m#the function places_nearby by the documentation\u001b[0m\u001b[1;33m\u001b[0m\u001b[1;33m\u001b[0m\u001b[1;33m\u001b[0m\u001b[0m\n\u001b[1;32m----> 2\u001b[1;33m \u001b[0mnearby\u001b[0m \u001b[1;33m=\u001b[0m \u001b[0mgmaps\u001b[0m\u001b[1;33m.\u001b[0m\u001b[0mplaces_nearby\u001b[0m\u001b[1;33m(\u001b[0m\u001b[0mlocation\u001b[0m\u001b[1;33m=\u001b[0m\u001b[1;34m'20.988459,-89.736768'\u001b[0m\u001b[1;33m,\u001b[0m \u001b[0mradius\u001b[0m\u001b[1;33m=\u001b[0m\u001b[1;36m2000\u001b[0m\u001b[1;33m,\u001b[0m \u001b[0mtype\u001b[0m \u001b[1;33m=\u001b[0m\u001b[1;34m'restaurant'\u001b[0m\u001b[1;33m,\u001b[0m \u001b[0mopen_now\u001b[0m \u001b[1;33m=\u001b[0m \u001b[1;32mFalse\u001b[0m\u001b[1;33m)\u001b[0m\u001b[1;33m\u001b[0m\u001b[1;33m\u001b[0m\u001b[0m\n\u001b[0m\u001b[0;32m      3\u001b[0m \u001b[0mnearby_upy\u001b[0m \u001b[1;33m=\u001b[0m \u001b[0mpd\u001b[0m\u001b[1;33m.\u001b[0m\u001b[0mDataFrame\u001b[0m\u001b[1;33m(\u001b[0m\u001b[1;33m)\u001b[0m\u001b[1;33m\u001b[0m\u001b[1;33m\u001b[0m\u001b[0m\n\u001b[0;32m      4\u001b[0m \u001b[1;31m# we read the json and get the data frame, i am not sure that is right because i couldnt import the librery but i think that is the same function\u001b[0m\u001b[1;33m\u001b[0m\u001b[1;33m\u001b[0m\u001b[1;33m\u001b[0m\u001b[0m\n\u001b[0;32m      5\u001b[0m \u001b[0mnearby_upy\u001b[0m \u001b[1;33m=\u001b[0m \u001b[0mpd\u001b[0m\u001b[1;33m.\u001b[0m\u001b[0mread_json\u001b[0m\u001b[1;33m(\u001b[0m\u001b[0mjson\u001b[0m\u001b[1;33m.\u001b[0m\u001b[0mdumps\u001b[0m\u001b[1;33m(\u001b[0m\u001b[0mnearby\u001b[0m\u001b[1;33m[\u001b[0m\u001b[1;34m'results'\u001b[0m\u001b[1;33m]\u001b[0m\u001b[1;33m)\u001b[0m\u001b[1;33m,\u001b[0m\u001b[0morient\u001b[0m \u001b[1;33m=\u001b[0m \u001b[1;34m'records'\u001b[0m\u001b[1;33m)\u001b[0m\u001b[1;33m[\u001b[0m\u001b[1;33m[\u001b[0m\u001b[1;34m'name'\u001b[0m\u001b[1;33m,\u001b[0m\u001b[1;34m'place_id'\u001b[0m\u001b[1;33m,\u001b[0m\u001b[1;34m'rating'\u001b[0m\u001b[1;33m,\u001b[0m\u001b[1;34m'types'\u001b[0m\u001b[1;33m,\u001b[0m\u001b[1;34m'user_ratings_total'\u001b[0m\u001b[1;33m]\u001b[0m\u001b[1;33m]\u001b[0m\u001b[1;33m\u001b[0m\u001b[1;33m\u001b[0m\u001b[0m\n",
      "\u001b[1;31mNameError\u001b[0m: name 'gmaps' is not defined"
     ]
    }
   ],
   "source": [
    "#the function places_nearby by the documentation\n",
    "nearby = gmaps.places_nearby(location='20.988459,-89.736768', radius=2000, type ='restaurant', open_now = False)\n",
    "nearby_upy = pd.DataFrame()\n",
    "# we read the json and get the data frame, i am not sure that is right because i couldnt import the librery but i think that is the same function\n",
    "nearby_upy = pd.read_json(json.dumps(nearby['results']),orient = 'records')[['name','place_id','rating','types','user_ratings_total']]\n",
    "nearby_upy"
   ]
  },
  {
   "cell_type": "markdown",
   "metadata": {},
   "source": [
    "### Find the Place ID of the following places using your functions:\n",
    "* McCarthy's Irish Pub - Caucel\n",
    "* Starbucks Montejo\n",
    "* Los Trompos Circuito"
   ]
  },
  {
   "cell_type": "code",
   "execution_count": 35,
   "metadata": {},
   "outputs": [
    {
     "ename": "NameError",
     "evalue": "name 'gmaps' is not defined",
     "output_type": "error",
     "traceback": [
      "\u001b[1;31m---------------------------------------------------------------------------\u001b[0m",
      "\u001b[1;31mNameError\u001b[0m                                 Traceback (most recent call last)",
      "\u001b[1;32m<ipython-input-35-f4af7ca42290>\u001b[0m in \u001b[0;36m<module>\u001b[1;34m\u001b[0m\n\u001b[0;32m      4\u001b[0m \u001b[0mplace3\u001b[0m \u001b[1;33m=\u001b[0m \u001b[1;34m'Los Trompos Circuito'\u001b[0m\u001b[1;33m\u001b[0m\u001b[1;33m\u001b[0m\u001b[0m\n\u001b[0;32m      5\u001b[0m \u001b[1;31m#we use the function find_place of google maps\u001b[0m\u001b[1;33m\u001b[0m\u001b[1;33m\u001b[0m\u001b[1;33m\u001b[0m\u001b[0m\n\u001b[1;32m----> 6\u001b[1;33m \u001b[0mid_1\u001b[0m \u001b[1;33m=\u001b[0m \u001b[0mgmaps\u001b[0m\u001b[1;33m.\u001b[0m\u001b[0mfind_place\u001b[0m\u001b[1;33m(\u001b[0m\u001b[0minput\u001b[0m\u001b[1;33m=\u001b[0m \u001b[0mplace1\u001b[0m\u001b[1;33m,\u001b[0m \u001b[0minput_type\u001b[0m\u001b[1;33m=\u001b[0m \u001b[1;34m'textquery'\u001b[0m\u001b[1;33m,\u001b[0m \u001b[0mlocation\u001b[0m\u001b[1;33m=\u001b[0m\u001b[1;34m'point:20.9999389, -89.6847603'\u001b[0m\u001b[1;33m)\u001b[0m\u001b[1;33m\u001b[0m\u001b[1;33m\u001b[0m\u001b[0m\n\u001b[0m\u001b[0;32m      7\u001b[0m \u001b[0mprint\u001b[0m\u001b[1;33m(\u001b[0m\u001b[1;34m\"The id of McCarthy's Irish Pub - Caucel is\"\u001b[0m\u001b[1;33m,\u001b[0m \u001b[0mid_1\u001b[0m\u001b[1;33m[\u001b[0m\u001b[1;34m'candidates'\u001b[0m\u001b[1;33m]\u001b[0m\u001b[1;33m[\u001b[0m\u001b[1;36m0\u001b[0m\u001b[1;33m]\u001b[0m\u001b[1;33m[\u001b[0m\u001b[1;34m'place_id'\u001b[0m\u001b[1;33m]\u001b[0m\u001b[1;33m)\u001b[0m\u001b[1;33m\u001b[0m\u001b[1;33m\u001b[0m\u001b[0m\n\u001b[0;32m      8\u001b[0m \u001b[0mid_2\u001b[0m \u001b[1;33m=\u001b[0m \u001b[0mgmaps\u001b[0m\u001b[1;33m.\u001b[0m\u001b[0mfind_place\u001b[0m\u001b[1;33m(\u001b[0m\u001b[0minput\u001b[0m\u001b[1;33m=\u001b[0m \u001b[0mplace2\u001b[0m\u001b[1;33m,\u001b[0m \u001b[0minput_type\u001b[0m\u001b[1;33m=\u001b[0m \u001b[1;34m'textquery'\u001b[0m\u001b[1;33m,\u001b[0m \u001b[0mlocation\u001b[0m\u001b[1;33m=\u001b[0m\u001b[1;34m'point:20.984967, -89.6203225'\u001b[0m\u001b[1;33m)\u001b[0m\u001b[1;33m\u001b[0m\u001b[1;33m\u001b[0m\u001b[0m\n",
      "\u001b[1;31mNameError\u001b[0m: name 'gmaps' is not defined"
     ]
    }
   ],
   "source": [
    "# Declare three variables to store the names that we are going to search their ID\n",
    "place1 = \"McCarthy's Irish Pub - Caucel\"\n",
    "place2 = 'Starbucks Montejo'\n",
    "place3 = 'Los Trompos Circuito'\n",
    "#we use the function find_place of google maps\n",
    "id_1 = gmaps.find_place(input= place1, input_type= 'textquery', location='point:20.9999389, -89.6847603')\n",
    "print(\"The id of McCarthy's Irish Pub - Caucel is\", id_1['candidates'][0]['place_id'])\n",
    "id_2 = gmaps.find_place(input= place2, input_type= 'textquery', location='point:20.984967, -89.6203225')\n",
    "print(\"The id of Starbucks Montejo is\", id_2['candidates'][0]['place_id'])\n",
    "id_3 = gmaps.find_place(input= place3, input_type= 'textquery', location='point:20.9850112, -89.6356435')\n",
    "print(\"The id of Los Trompos Circuito is\", id_3['candidates'][0]['place_id'])"
   ]
  },
  {
   "cell_type": "markdown",
   "metadata": {},
   "source": [
    "### Use the [*Place Details*](https://developers.google.com/places/web-service/details#PlaceDetailsResults) Method to find the Reviews of a Place in English and Spanish. In order to fulfill this item you need to:\n",
    "* Create a table with the following columns: Author Name, Language, Rating, Text, Time."
   ]
  },
  {
   "cell_type": "code",
   "execution_count": 36,
   "metadata": {},
   "outputs": [
    {
     "ename": "NameError",
     "evalue": "name 'gmaps' is not defined",
     "output_type": "error",
     "traceback": [
      "\u001b[1;31m---------------------------------------------------------------------------\u001b[0m",
      "\u001b[1;31mNameError\u001b[0m                                 Traceback (most recent call last)",
      "\u001b[1;32m<ipython-input-36-233c775e001f>\u001b[0m in \u001b[0;36m<module>\u001b[1;34m\u001b[0m\n\u001b[0;32m      2\u001b[0m \u001b[0mp_id\u001b[0m \u001b[1;33m=\u001b[0m \u001b[1;34m'ChIJJyKKOKB0Vo8RCQcxkUw6hp8'\u001b[0m\u001b[1;33m\u001b[0m\u001b[1;33m\u001b[0m\u001b[0m\n\u001b[0;32m      3\u001b[0m \u001b[1;31m# we use the place function for the two languages\u001b[0m\u001b[1;33m\u001b[0m\u001b[1;33m\u001b[0m\u001b[1;33m\u001b[0m\u001b[0m\n\u001b[1;32m----> 4\u001b[1;33m \u001b[0menglish_reviews\u001b[0m\u001b[1;33m=\u001b[0m \u001b[0mgmaps\u001b[0m\u001b[1;33m.\u001b[0m\u001b[0mplace\u001b[0m\u001b[1;33m(\u001b[0m\u001b[0mp_id\u001b[0m\u001b[1;33m=\u001b[0m\u001b[0mp_id\u001b[0m\u001b[1;33m,\u001b[0m\u001b[0mlanguage\u001b[0m\u001b[1;33m=\u001b[0m\u001b[1;34m'en'\u001b[0m\u001b[1;33m)\u001b[0m\u001b[1;33m[\u001b[0m\u001b[1;34m'result'\u001b[0m\u001b[1;33m]\u001b[0m\u001b[1;33m[\u001b[0m\u001b[1;34m'reviews'\u001b[0m\u001b[1;33m]\u001b[0m\u001b[1;33m\u001b[0m\u001b[1;33m\u001b[0m\u001b[0m\n\u001b[0m\u001b[0;32m      5\u001b[0m \u001b[0mspanish_reviews\u001b[0m\u001b[1;33m=\u001b[0m \u001b[0mgmaps\u001b[0m\u001b[1;33m.\u001b[0m\u001b[0mplace\u001b[0m\u001b[1;33m(\u001b[0m\u001b[0mp_id\u001b[0m\u001b[1;33m=\u001b[0m\u001b[0mp_id\u001b[0m\u001b[1;33m,\u001b[0m\u001b[0mlanguage\u001b[0m\u001b[1;33m=\u001b[0m\u001b[1;34m'es'\u001b[0m\u001b[1;33m)\u001b[0m\u001b[1;33m[\u001b[0m\u001b[1;34m'result'\u001b[0m\u001b[1;33m]\u001b[0m\u001b[1;33m[\u001b[0m\u001b[1;34m'reviews'\u001b[0m\u001b[1;33m]\u001b[0m\u001b[1;33m\u001b[0m\u001b[1;33m\u001b[0m\u001b[0m\n\u001b[0;32m      6\u001b[0m \u001b[1;31m# we make just one json with both aboves\u001b[0m\u001b[1;33m\u001b[0m\u001b[1;33m\u001b[0m\u001b[1;33m\u001b[0m\u001b[0m\n",
      "\u001b[1;31mNameError\u001b[0m: name 'gmaps' is not defined"
     ]
    }
   ],
   "source": [
    "# Define a varible to store the ID \n",
    "p_id = 'ChIJJyKKOKB0Vo8RCQcxkUw6hp8'\n",
    "# we use the place function for the two languages\n",
    "english_reviews= gmaps.place(p_id=p_id,language='en')['result']['reviews']\n",
    "spanish_reviews= gmaps.place(p_id=p_id,language='es')['result']['reviews']\n",
    "# we make just one json with both aboves\n",
    "all_reviews = english_reviews + spanish_reviews\n",
    "# we read the json\n",
    "all_reviews = pd.read_json(json.dumps(all_reviews), orient='records')[['author_name','language','rating','text','time']]\n",
    "all_reviews"
   ]
  },
  {
   "cell_type": "markdown",
   "metadata": {},
   "source": [
    "### Find similar places to Los Trompos Circuito. Rank them by its \"Prominence\". In order to fulfill this item you need to:\n",
    "* Create a table with the following columns: Place Name, Plaece Id, Rating, Total of Use Ratings."
   ]
  },
  {
   "cell_type": "code",
   "execution_count": 37,
   "metadata": {},
   "outputs": [
    {
     "ename": "NameError",
     "evalue": "name 'gmaps' is not defined",
     "output_type": "error",
     "traceback": [
      "\u001b[1;31m---------------------------------------------------------------------------\u001b[0m",
      "\u001b[1;31mNameError\u001b[0m                                 Traceback (most recent call last)",
      "\u001b[1;32m<ipython-input-37-49dbbe8d0692>\u001b[0m in \u001b[0;36m<module>\u001b[1;34m\u001b[0m\n\u001b[0;32m      2\u001b[0m \u001b[0mplace\u001b[0m\u001b[1;33m=\u001b[0m\u001b[1;34m'Los Trompos Circuito'\u001b[0m\u001b[1;33m\u001b[0m\u001b[1;33m\u001b[0m\u001b[0m\n\u001b[0;32m      3\u001b[0m \u001b[1;31m# we use for the first step the function to find the place, after that we use the result to the other function\u001b[0m\u001b[1;33m\u001b[0m\u001b[1;33m\u001b[0m\u001b[1;33m\u001b[0m\u001b[0m\n\u001b[1;32m----> 4\u001b[1;33m \u001b[0msimilar_place\u001b[0m \u001b[1;33m=\u001b[0m \u001b[0mgmaps\u001b[0m\u001b[1;33m.\u001b[0m\u001b[0mfind_place\u001b[0m\u001b[1;33m(\u001b[0m\u001b[0minput\u001b[0m\u001b[1;33m=\u001b[0m \u001b[0mplace\u001b[0m\u001b[1;33m,\u001b[0m \u001b[0minput_type\u001b[0m\u001b[1;33m=\u001b[0m \u001b[1;34m'textquery'\u001b[0m\u001b[1;33m,\u001b[0m\u001b[0mlocation_bias\u001b[0m\u001b[1;33m=\u001b[0m\u001b[1;34m'point:20.984967, -89.6203225'\u001b[0m\u001b[1;33m,\u001b[0m\u001b[0mfields\u001b[0m\u001b[1;33m=\u001b[0m\u001b[1;33m[\u001b[0m\u001b[1;34m'types'\u001b[0m\u001b[1;33m]\u001b[0m\u001b[1;33m)\u001b[0m\u001b[1;33m[\u001b[0m\u001b[1;34m'candidates'\u001b[0m\u001b[1;33m]\u001b[0m\u001b[1;33m[\u001b[0m\u001b[1;36m0\u001b[0m\u001b[1;33m]\u001b[0m\u001b[1;33m[\u001b[0m\u001b[1;34m'types'\u001b[0m\u001b[1;33m]\u001b[0m\u001b[1;33m[\u001b[0m\u001b[1;36m0\u001b[0m\u001b[1;33m]\u001b[0m\u001b[1;33m\u001b[0m\u001b[1;33m\u001b[0m\u001b[0m\n\u001b[0m\u001b[0;32m      5\u001b[0m \u001b[0msimilarplaceupy\u001b[0m \u001b[1;33m=\u001b[0m \u001b[0mgmaps\u001b[0m\u001b[1;33m.\u001b[0m\u001b[0mplaces_nearby\u001b[0m\u001b[1;33m(\u001b[0m\u001b[0mlocation\u001b[0m\u001b[1;33m=\u001b[0m\u001b[1;34m'20.988459,-89.736768'\u001b[0m\u001b[1;33m,\u001b[0m \u001b[0mradius\u001b[0m\u001b[1;33m=\u001b[0m\u001b[1;36m2000\u001b[0m\u001b[1;33m,\u001b[0m \u001b[0mtype\u001b[0m \u001b[1;33m=\u001b[0m\u001b[0msimilar_place\u001b[0m\u001b[1;33m,\u001b[0m \u001b[0mopen_now\u001b[0m \u001b[1;33m=\u001b[0m \u001b[1;32mFalse\u001b[0m\u001b[1;33m)\u001b[0m\u001b[1;33m[\u001b[0m\u001b[1;34m'results'\u001b[0m\u001b[1;33m]\u001b[0m\u001b[1;33m\u001b[0m\u001b[1;33m\u001b[0m\u001b[0m\n\u001b[0;32m      6\u001b[0m \u001b[1;31m# we read the json\u001b[0m\u001b[1;33m\u001b[0m\u001b[1;33m\u001b[0m\u001b[1;33m\u001b[0m\u001b[0m\n",
      "\u001b[1;31mNameError\u001b[0m: name 'gmaps' is not defined"
     ]
    }
   ],
   "source": [
    "# Declare a varaibel to store the name of the place that we are going to search its type and find similar places near UPY\n",
    "place='Los Trompos Circuito'\n",
    "# we use for the first step the function to find the place, after that we use the result to the other function\n",
    "similar_place = gmaps.find_place(input= place, input_type= 'textquery',location_bias='point:20.984967, -89.6203225',fields=['types'])['candidates'][0]['types'][0]\n",
    "similarplaceupy = gmaps.places_nearby(location='20.988459,-89.736768', radius=2000, type =similar_place, open_now = False)['results']\n",
    "# we read the json\n",
    "table = pd.read_json(json.dumps(similarplaceupy), orient='records')[['name','place_id','rating','user_ratings_total']]\n",
    "table"
   ]
  },
  {
   "cell_type": "markdown",
   "metadata": {},
   "source": [
    "### G. Create a Github Project as a Tutorial about How to Use the Google API. Don't forget to include a section with the set of instructions to obtain the Google API Key. In this tutorial, compare the use of the Google Maps [Places API] (https://developers.google.com/places/web-service/intro) and the Python [GoogleMaps](https://github.com/googlemaps/google-maps-services-python) Library using this activity tasks as examples."
   ]
  },
  {
   "cell_type": "markdown",
   "metadata": {},
   "source": [
    "## Tutorial GitHub\n",
    "### Team: Héctor Hernández, Isaac Chavez, Adrian Carmona, Auria Dzul DATA A\n",
    "* https://github.com/isaacchaf/How-to-Use-the-Google-API/blob/master/Tutorial.md"
   ]
  },
  {
   "cell_type": "markdown",
   "metadata": {},
   "source": [
    "## Checklist\n",
    "\n",
    "| Task | Points |\n",
    "|:----:|:------:|\n",
    "|   Class Participation  |   10   |\n",
    "|   a  |   10   |\n",
    "|   b  |   10   |\n",
    "|   c  |   10   |\n",
    "|   d  |   10   |\n",
    "|   e  |   10   |\n",
    "|   f  |   20   |\n",
    "|   g  |   20   |\n",
    "\n",
    "\n",
    "* **Important!** Partial credit can be obteined in each task.\n",
    "* Don not forget to document your functions! [Here](http://google.github.io/styleguide/pyguide.html) is the Python Programming Styleguide from Google. [Section 3.8](http://google.github.io/styleguide/pyguide.html#38-comments-and-docstrings) is about Comments and Docstrings.\n",
    "* To obtain the Class Participation Score you must complete an early submission with tasks: A, B and C."
   ]
  },
  {
   "cell_type": "code",
   "execution_count": null,
   "metadata": {},
   "outputs": [],
   "source": []
  }
 ],
 "metadata": {
  "kernelspec": {
   "display_name": "Python 3",
   "language": "python",
   "name": "python3"
  },
  "language_info": {
   "codemirror_mode": {
    "name": "ipython",
    "version": 3
   },
   "file_extension": ".py",
   "mimetype": "text/x-python",
   "name": "python",
   "nbconvert_exporter": "python",
   "pygments_lexer": "ipython3",
   "version": "3.7.3"
  }
 },
 "nbformat": 4,
 "nbformat_minor": 4
}
