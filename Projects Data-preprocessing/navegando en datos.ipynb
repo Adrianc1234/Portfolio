{
 "cells": [
  {
   "cell_type": "code",
   "execution_count": 1,
   "metadata": {},
   "outputs": [],
   "source": [
    "import json"
   ]
  },
  {
   "cell_type": "code",
   "execution_count": 2,
   "metadata": {},
   "outputs": [],
   "source": [
    "with open('colors.json') as colors_json:\n",
    "    colors_data = json.load(colors_json)\n",
    "    "
   ]
  },
  {
   "cell_type": "code",
   "execution_count": 17,
   "metadata": {},
   "outputs": [
    {
     "name": "stdout",
     "output_type": "stream",
     "text": [
      "[{'color': 'black', 'category': 'hue', 'type': 'primary', 'code': {'rgba': [255, 255, 255, 1], 'hex': '#000'}}, {'color': 'white', 'category': 'value', 'code': {'rgba': [0, 0, 0, 1], 'hex': '#FFF'}}, {'color': 'red', 'category': 'hue', 'type': 'primary', 'code': {'rgba': [255, 0, 0, 1], 'hex': '#FF0'}}, {'color': 'blue', 'category': 'hue', 'type': 'primary', 'code': {'rgba': [0, 0, 255, 1], 'hex': '#00F'}}, {'color': 'yellow', 'category': 'hue', 'type': 'primary', 'code': {'rgba': [255, 255, 0, 1], 'hex': '#FF0'}}, {'color': 'green', 'category': 'hue', 'type': 'secondary', 'code': {'rgba': [0, 255, 0, 1], 'hex': '#0F0'}}]\n",
      "{'color': 'black', 'category': 'hue', 'type': 'primary', 'code': {'rgba': [255, 255, 255, 1], 'hex': '#000'}}\n",
      "{'color': 'white', 'category': 'value', 'code': {'rgba': [0, 0, 0, 1], 'hex': '#FFF'}}\n",
      "{'color': 'red', 'category': 'hue', 'type': 'primary', 'code': {'rgba': [255, 0, 0, 1], 'hex': '#FF0'}}\n",
      "{'color': 'blue', 'category': 'hue', 'type': 'primary', 'code': {'rgba': [0, 0, 255, 1], 'hex': '#00F'}}\n",
      "{'color': 'yellow', 'category': 'hue', 'type': 'primary', 'code': {'rgba': [255, 255, 0, 1], 'hex': '#FF0'}}\n",
      "{'color': 'green', 'category': 'hue', 'type': 'secondary', 'code': {'rgba': [0, 255, 0, 1], 'hex': '#0F0'}}\n"
     ]
    }
   ],
   "source": [
    "print(colors_data['colors'])\n",
    "len(colors_data['colors'])\n",
    "for item in colors_data['colors']:\n",
    "    print(item)\n",
    "\n"
   ]
  },
  {
   "cell_type": "code",
   "execution_count": 19,
   "metadata": {},
   "outputs": [
    {
     "data": {
      "text/plain": [
       "[0, 255, 0, 1]"
      ]
     },
     "execution_count": 19,
     "metadata": {},
     "output_type": "execute_result"
    }
   ],
   "source": [
    "colors_data['colors'][5]['code']['rgba']"
   ]
  },
  {
   "cell_type": "code",
   "execution_count": 20,
   "metadata": {},
   "outputs": [
    {
     "data": {
      "text/plain": [
       "'green'"
      ]
     },
     "execution_count": 20,
     "metadata": {},
     "output_type": "execute_result"
    }
   ],
   "source": [
    "colors_data['colors'][5]['color']"
   ]
  },
  {
   "cell_type": "code",
   "execution_count": null,
   "metadata": {},
   "outputs": [],
   "source": []
  }
 ],
 "metadata": {
  "kernelspec": {
   "display_name": "Python 3",
   "language": "python",
   "name": "python3"
  },
  "language_info": {
   "codemirror_mode": {
    "name": "ipython",
    "version": 3
   },
   "file_extension": ".py",
   "mimetype": "text/x-python",
   "name": "python",
   "nbconvert_exporter": "python",
   "pygments_lexer": "ipython3",
   "version": "3.7.3"
  }
 },
 "nbformat": 4,
 "nbformat_minor": 2
}
