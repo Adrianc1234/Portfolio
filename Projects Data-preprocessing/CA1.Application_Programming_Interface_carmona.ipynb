{
 "cells": [
  {
   "cell_type": "markdown",
   "metadata": {},
   "source": [
    "<center> <h1> Application Programming Interface </h> </center> \n",
    "<center> <h2> Classroom Activity 1 </h> </center> \n",
    "<center> <h3> Data Preprocessing </h> </center> "
   ]
  },
  {
   "cell_type": "markdown",
   "metadata": {},
   "source": [
    "**Open Notify** ([Web Page](http://open-notify.org/)) is an open source project to provide a simple programming interface for some of NASA’s data."
   ]
  },
  {
   "cell_type": "code",
   "execution_count": 1,
   "metadata": {},
   "outputs": [],
   "source": [
    "import requests\n",
    "import json\n",
    "import pandas as pd\n",
    "import time "
   ]
  },
  {
   "cell_type": "markdown",
   "metadata": {},
   "source": [
    "a. Create the function named *astro_now*() to obtain data of the astraonauts in the space using the method [Number of People in Space](http://open-notify.org/Open-Notify-API/People-In-Space) using the following python libraries:\n",
    "* [requests](https://2.python-requests.org/en/master/)\n",
    "* [json](https://docs.python.org/3/library/json.html)\n",
    "    \n",
    "The function must return the obtained json file as a python dictionary."
   ]
  },
  {
   "cell_type": "code",
   "execution_count": 2,
   "metadata": {},
   "outputs": [],
   "source": [
    "# Complete task a here\n",
    "#hacemos funcion\n",
    "def astro_now():\n",
    "    \"\"\"\n",
    "    docsrtring...\n",
    "    \n",
    "    input:\n",
    "    \n",
    "    output:\n",
    "    \n",
    "    \"\"\"\n",
    "    endpoint_url = 'http://api.open-notify.org/astros.json'\n",
    "    res = requests.get(endpoint_url)\n",
    "    results = json.loads(res.content)\n",
    "    return results"
   ]
  },
  {
   "cell_type": "code",
   "execution_count": 3,
   "metadata": {},
   "outputs": [
    {
     "data": {
      "text/plain": [
       "{'message': 'success',\n",
       " 'people': [{'name': 'Alexey Ovchinin', 'craft': 'ISS'},\n",
       "  {'name': 'Nick Hague', 'craft': 'ISS'},\n",
       "  {'name': 'Christina Koch', 'craft': 'ISS'},\n",
       "  {'name': 'Alexander Skvortsov', 'craft': 'ISS'},\n",
       "  {'name': 'Luca Parmitano', 'craft': 'ISS'},\n",
       "  {'name': 'Andrew Morgan', 'craft': 'ISS'}],\n",
       " 'number': 6}"
      ]
     },
     "execution_count": 3,
     "metadata": {},
     "output_type": "execute_result"
    }
   ],
   "source": [
    "astronauts_json = astro_now()\n",
    "astronauts_json"
   ]
  },
  {
   "cell_type": "markdown",
   "metadata": {},
   "source": [
    "b. Use the json obtained to create a table with the following columns:\n",
    "* craft\n",
    "* astronaut name"
   ]
  },
  {
   "cell_type": "code",
   "execution_count": 4,
   "metadata": {},
   "outputs": [
    {
     "data": {
      "text/html": [
       "<div>\n",
       "<style scoped>\n",
       "    .dataframe tbody tr th:only-of-type {\n",
       "        vertical-align: middle;\n",
       "    }\n",
       "\n",
       "    .dataframe tbody tr th {\n",
       "        vertical-align: top;\n",
       "    }\n",
       "\n",
       "    .dataframe thead th {\n",
       "        text-align: right;\n",
       "    }\n",
       "</style>\n",
       "<table border=\"1\" class=\"dataframe\">\n",
       "  <thead>\n",
       "    <tr style=\"text-align: right;\">\n",
       "      <th></th>\n",
       "      <th>craft</th>\n",
       "      <th>name</th>\n",
       "    </tr>\n",
       "  </thead>\n",
       "  <tbody>\n",
       "    <tr>\n",
       "      <th>0</th>\n",
       "      <td>ISS</td>\n",
       "      <td>Alexey Ovchinin</td>\n",
       "    </tr>\n",
       "    <tr>\n",
       "      <th>1</th>\n",
       "      <td>ISS</td>\n",
       "      <td>Nick Hague</td>\n",
       "    </tr>\n",
       "    <tr>\n",
       "      <th>2</th>\n",
       "      <td>ISS</td>\n",
       "      <td>Christina Koch</td>\n",
       "    </tr>\n",
       "    <tr>\n",
       "      <th>3</th>\n",
       "      <td>ISS</td>\n",
       "      <td>Alexander Skvortsov</td>\n",
       "    </tr>\n",
       "    <tr>\n",
       "      <th>4</th>\n",
       "      <td>ISS</td>\n",
       "      <td>Luca Parmitano</td>\n",
       "    </tr>\n",
       "    <tr>\n",
       "      <th>5</th>\n",
       "      <td>ISS</td>\n",
       "      <td>Andrew Morgan</td>\n",
       "    </tr>\n",
       "  </tbody>\n",
       "</table>\n",
       "</div>"
      ],
      "text/plain": [
       "  craft                 name\n",
       "0   ISS      Alexey Ovchinin\n",
       "1   ISS           Nick Hague\n",
       "2   ISS       Christina Koch\n",
       "3   ISS  Alexander Skvortsov\n",
       "4   ISS       Luca Parmitano\n",
       "5   ISS        Andrew Morgan"
      ]
     },
     "execution_count": 4,
     "metadata": {},
     "output_type": "execute_result"
    }
   ],
   "source": [
    "# Complete task b here\n",
    "#json.dumbs convierte el diccionario en json\n",
    "astronauts_df = pd.read_json(json.dumps(astronauts_json['people']), orient = 'records')\n",
    "astronauts_df"
   ]
  },
  {
   "cell_type": "markdown",
   "metadata": {},
   "source": [
    "c. Create the function named *iss_currentlocation*() to obtain the position of the International Space Station using the method [Current Location of the International Space Station](http://open-notify.org/Open-Notify-API/ISS-Location-Now/).\n",
    "    \n",
    "The function must return the numeric value of the latitud and longitud as a tuple, e.g. (20.0,120.0)"
   ]
  },
  {
   "cell_type": "code",
   "execution_count": 5,
   "metadata": {},
   "outputs": [
    {
     "data": {
      "text/html": [
       "<div>\n",
       "<style scoped>\n",
       "    .dataframe tbody tr th:only-of-type {\n",
       "        vertical-align: middle;\n",
       "    }\n",
       "\n",
       "    .dataframe tbody tr th {\n",
       "        vertical-align: top;\n",
       "    }\n",
       "\n",
       "    .dataframe thead th {\n",
       "        text-align: right;\n",
       "    }\n",
       "</style>\n",
       "<table border=\"1\" class=\"dataframe\">\n",
       "  <thead>\n",
       "    <tr style=\"text-align: right;\">\n",
       "      <th></th>\n",
       "      <th>message</th>\n",
       "      <th>timestamp</th>\n",
       "      <th>iss_position</th>\n",
       "    </tr>\n",
       "  </thead>\n",
       "  <tbody>\n",
       "    <tr>\n",
       "      <th>latitude</th>\n",
       "      <td>success</td>\n",
       "      <td>2019-09-22 01:34:21</td>\n",
       "      <td>-39.2269</td>\n",
       "    </tr>\n",
       "    <tr>\n",
       "      <th>longitude</th>\n",
       "      <td>success</td>\n",
       "      <td>2019-09-22 01:34:21</td>\n",
       "      <td>76.8663</td>\n",
       "    </tr>\n",
       "  </tbody>\n",
       "</table>\n",
       "</div>"
      ],
      "text/plain": [
       "           message           timestamp  iss_position\n",
       "latitude   success 2019-09-22 01:34:21      -39.2269\n",
       "longitude  success 2019-09-22 01:34:21       76.8663"
      ]
     },
     "execution_count": 5,
     "metadata": {},
     "output_type": "execute_result"
    }
   ],
   "source": [
    "# Complete task c here\n",
    "def current():\n",
    "    url = 'http://api.open-notify.org/iss-now.json'\n",
    "    res= requests.get(url)\n",
    "    results = json.loads(res.content)\n",
    "    return results\n",
    "\n",
    "#we call the function to make format at the json\n",
    "data=current()\n",
    "data=pd.read_json(json.dumps(data), orient = 'records')\n",
    "data\n",
    "\n",
    "\n"
   ]
  },
  {
   "cell_type": "code",
   "execution_count": 6,
   "metadata": {},
   "outputs": [
    {
     "name": "stdout",
     "output_type": "stream",
     "text": [
      "(-39.2269, 76.8663)\n"
     ]
    }
   ],
   "source": [
    "#we make the printing in a tuple.\n",
    "\n",
    "lat=data.loc['latitude','iss_position']\n",
    "lon=data.loc['longitude','iss_position']\n",
    "coor=(lat,lon)\n",
    "print(coor)\n",
    "\n"
   ]
  },
  {
   "cell_type": "markdown",
   "metadata": {},
   "source": [
    "d. Use your *iss_currentlocation()* function to obtain the position of the International Space Station each 10 seconds during 5 minutes. Show the results in a table with the following columns:\n",
    "* timestamp (Parsed Correctly)\n",
    "* latitude\n",
    "* longitude\n",
    "\n",
    "The [Time](https://docs.python.org/3/library/time.html) Python library could be useful."
   ]
  },
  {
   "cell_type": "code",
   "execution_count": 7,
   "metadata": {},
   "outputs": [
    {
     "data": {
      "text/plain": [
       "(-39.2463, 76.8977)"
      ]
     },
     "execution_count": 7,
     "metadata": {},
     "output_type": "execute_result"
    }
   ],
   "source": [
    "# Complete task d here\n",
    "#i put again my function an my code beacuse i did not want to run again all the jupyter if i have a mistake.\n",
    "import requests\n",
    "import json\n",
    "import pandas as pd\n",
    "import time \n",
    "\n",
    "def current():\n",
    "    url = 'http://api.open-notify.org/iss-now.json'\n",
    "    res= requests.get(url)\n",
    "    results = json.loads(res.content)\n",
    "    lon=results['iss_position']['longitude']\n",
    "    lat=results['iss_position']['latitude']\n",
    "    time=results['timestamp']\n",
    "    coor=(float(lat),float(lon))\n",
    "    return coor\n",
    "current()"
   ]
  },
  {
   "cell_type": "code",
   "execution_count": 8,
   "metadata": {},
   "outputs": [
    {
     "data": {
      "text/html": [
       "<div>\n",
       "<style scoped>\n",
       "    .dataframe tbody tr th:only-of-type {\n",
       "        vertical-align: middle;\n",
       "    }\n",
       "\n",
       "    .dataframe tbody tr th {\n",
       "        vertical-align: top;\n",
       "    }\n",
       "\n",
       "    .dataframe thead th {\n",
       "        text-align: right;\n",
       "    }\n",
       "</style>\n",
       "<table border=\"1\" class=\"dataframe\">\n",
       "  <thead>\n",
       "    <tr style=\"text-align: right;\">\n",
       "      <th></th>\n",
       "      <th>timestamp</th>\n",
       "      <th>latitude</th>\n",
       "      <th>longitude</th>\n",
       "    </tr>\n",
       "  </thead>\n",
       "  <tbody>\n",
       "    <tr>\n",
       "      <th>0</th>\n",
       "      <td>08:34:21</td>\n",
       "      <td>-39.2656</td>\n",
       "      <td>76.9290</td>\n",
       "    </tr>\n",
       "    <tr>\n",
       "      <th>1</th>\n",
       "      <td>08:34:31</td>\n",
       "      <td>-39.6686</td>\n",
       "      <td>77.5911</td>\n",
       "    </tr>\n",
       "    <tr>\n",
       "      <th>2</th>\n",
       "      <td>08:34:41</td>\n",
       "      <td>-40.0486</td>\n",
       "      <td>78.2616</td>\n",
       "    </tr>\n",
       "    <tr>\n",
       "      <th>3</th>\n",
       "      <td>08:34:52</td>\n",
       "      <td>-40.4432</td>\n",
       "      <td>78.9405</td>\n",
       "    </tr>\n",
       "    <tr>\n",
       "      <th>4</th>\n",
       "      <td>08:35:03</td>\n",
       "      <td>-40.8516</td>\n",
       "      <td>79.6277</td>\n",
       "    </tr>\n",
       "    <tr>\n",
       "      <th>5</th>\n",
       "      <td>08:35:13</td>\n",
       "      <td>-41.2368</td>\n",
       "      <td>80.3238</td>\n",
       "    </tr>\n",
       "    <tr>\n",
       "      <th>6</th>\n",
       "      <td>08:35:24</td>\n",
       "      <td>-41.5990</td>\n",
       "      <td>81.0284</td>\n",
       "    </tr>\n",
       "    <tr>\n",
       "      <th>7</th>\n",
       "      <td>08:35:34</td>\n",
       "      <td>-41.9746</td>\n",
       "      <td>81.7417</td>\n",
       "    </tr>\n",
       "    <tr>\n",
       "      <th>8</th>\n",
       "      <td>08:35:45</td>\n",
       "      <td>-42.3451</td>\n",
       "      <td>82.4641</td>\n",
       "    </tr>\n",
       "    <tr>\n",
       "      <th>9</th>\n",
       "      <td>08:35:55</td>\n",
       "      <td>-42.7278</td>\n",
       "      <td>83.1954</td>\n",
       "    </tr>\n",
       "    <tr>\n",
       "      <th>10</th>\n",
       "      <td>08:36:06</td>\n",
       "      <td>-43.0876</td>\n",
       "      <td>83.9712</td>\n",
       "    </tr>\n",
       "    <tr>\n",
       "      <th>11</th>\n",
       "      <td>08:36:17</td>\n",
       "      <td>-43.4419</td>\n",
       "      <td>84.7213</td>\n",
       "    </tr>\n",
       "    <tr>\n",
       "      <th>12</th>\n",
       "      <td>08:36:27</td>\n",
       "      <td>-43.8072</td>\n",
       "      <td>85.4806</td>\n",
       "    </tr>\n",
       "    <tr>\n",
       "      <th>13</th>\n",
       "      <td>08:36:38</td>\n",
       "      <td>-44.1500</td>\n",
       "      <td>86.2493</td>\n",
       "    </tr>\n",
       "    <tr>\n",
       "      <th>14</th>\n",
       "      <td>08:36:48</td>\n",
       "      <td>-44.4870</td>\n",
       "      <td>87.0273</td>\n",
       "    </tr>\n",
       "    <tr>\n",
       "      <th>15</th>\n",
       "      <td>08:36:59</td>\n",
       "      <td>-44.8180</td>\n",
       "      <td>87.8526</td>\n",
       "    </tr>\n",
       "    <tr>\n",
       "      <th>16</th>\n",
       "      <td>08:37:10</td>\n",
       "      <td>-45.1429</td>\n",
       "      <td>88.6119</td>\n",
       "    </tr>\n",
       "    <tr>\n",
       "      <th>17</th>\n",
       "      <td>08:37:20</td>\n",
       "      <td>-45.4615</td>\n",
       "      <td>89.4571</td>\n",
       "    </tr>\n",
       "    <tr>\n",
       "      <th>18</th>\n",
       "      <td>08:37:31</td>\n",
       "      <td>-45.7738</td>\n",
       "      <td>90.2738</td>\n",
       "    </tr>\n",
       "    <tr>\n",
       "      <th>19</th>\n",
       "      <td>08:37:41</td>\n",
       "      <td>-46.0795</td>\n",
       "      <td>91.1001</td>\n",
       "    </tr>\n",
       "    <tr>\n",
       "      <th>20</th>\n",
       "      <td>08:37:52</td>\n",
       "      <td>-46.3926</td>\n",
       "      <td>91.9359</td>\n",
       "    </tr>\n",
       "    <tr>\n",
       "      <th>21</th>\n",
       "      <td>08:38:03</td>\n",
       "      <td>-46.6844</td>\n",
       "      <td>92.8216</td>\n",
       "    </tr>\n",
       "    <tr>\n",
       "      <th>22</th>\n",
       "      <td>08:38:13</td>\n",
       "      <td>-46.9693</td>\n",
       "      <td>93.6770</td>\n",
       "    </tr>\n",
       "    <tr>\n",
       "      <th>23</th>\n",
       "      <td>08:38:24</td>\n",
       "      <td>-47.2470</td>\n",
       "      <td>94.5418</td>\n",
       "    </tr>\n",
       "    <tr>\n",
       "      <th>24</th>\n",
       "      <td>08:38:35</td>\n",
       "      <td>-47.5303</td>\n",
       "      <td>95.4162</td>\n",
       "    </tr>\n",
       "    <tr>\n",
       "      <th>25</th>\n",
       "      <td>08:38:45</td>\n",
       "      <td>-47.7930</td>\n",
       "      <td>96.3422</td>\n",
       "    </tr>\n",
       "    <tr>\n",
       "      <th>26</th>\n",
       "      <td>08:38:56</td>\n",
       "      <td>-48.0482</td>\n",
       "      <td>97.2357</td>\n",
       "    </tr>\n",
       "    <tr>\n",
       "      <th>27</th>\n",
       "      <td>08:39:07</td>\n",
       "      <td>-48.2957</td>\n",
       "      <td>98.1382</td>\n",
       "    </tr>\n",
       "    <tr>\n",
       "      <th>28</th>\n",
       "      <td>08:39:17</td>\n",
       "      <td>-48.5465</td>\n",
       "      <td>99.0499</td>\n",
       "    </tr>\n",
       "    <tr>\n",
       "      <th>29</th>\n",
       "      <td>08:39:28</td>\n",
       "      <td>-48.7777</td>\n",
       "      <td>100.0145</td>\n",
       "    </tr>\n",
       "  </tbody>\n",
       "</table>\n",
       "</div>"
      ],
      "text/plain": [
       "   timestamp  latitude  longitude\n",
       "0   08:34:21  -39.2656    76.9290\n",
       "1   08:34:31  -39.6686    77.5911\n",
       "2   08:34:41  -40.0486    78.2616\n",
       "3   08:34:52  -40.4432    78.9405\n",
       "4   08:35:03  -40.8516    79.6277\n",
       "5   08:35:13  -41.2368    80.3238\n",
       "6   08:35:24  -41.5990    81.0284\n",
       "7   08:35:34  -41.9746    81.7417\n",
       "8   08:35:45  -42.3451    82.4641\n",
       "9   08:35:55  -42.7278    83.1954\n",
       "10  08:36:06  -43.0876    83.9712\n",
       "11  08:36:17  -43.4419    84.7213\n",
       "12  08:36:27  -43.8072    85.4806\n",
       "13  08:36:38  -44.1500    86.2493\n",
       "14  08:36:48  -44.4870    87.0273\n",
       "15  08:36:59  -44.8180    87.8526\n",
       "16  08:37:10  -45.1429    88.6119\n",
       "17  08:37:20  -45.4615    89.4571\n",
       "18  08:37:31  -45.7738    90.2738\n",
       "19  08:37:41  -46.0795    91.1001\n",
       "20  08:37:52  -46.3926    91.9359\n",
       "21  08:38:03  -46.6844    92.8216\n",
       "22  08:38:13  -46.9693    93.6770\n",
       "23  08:38:24  -47.2470    94.5418\n",
       "24  08:38:35  -47.5303    95.4162\n",
       "25  08:38:45  -47.7930    96.3422\n",
       "26  08:38:56  -48.0482    97.2357\n",
       "27  08:39:07  -48.2957    98.1382\n",
       "28  08:39:17  -48.5465    99.0499\n",
       "29  08:39:28  -48.7777   100.0145"
      ]
     },
     "execution_count": 8,
     "metadata": {},
     "output_type": "execute_result"
    }
   ],
   "source": [
    "#we call the function to read the datas every 10s and print the location\n",
    "#we make a new data frame and add for this the variables with a dictiornary way.\n",
    "table=pd.DataFrame()\n",
    "table['timestamp']=None\n",
    "table['latitude']=None\n",
    "table['longitude']=None\n",
    "for i in range(30):\n",
    "    r={\n",
    "        'timestamp':time.strftime('%I:%M:%S'),\n",
    "        'latitude':current()[0],\n",
    "        'longitude':current()[1]\n",
    "    }\n",
    "    table=table.append(r,ignore_index=True)\n",
    "    time.sleep(10)\n",
    "table #print table"
   ]
  },
  {
   "cell_type": "markdown",
   "metadata": {},
   "source": [
    "e. The International Space Station is an orbital outpost circling high above out heads. Sometimes it’s overhead, but when? It depends on your location. Given a location on Earth (latitude, longitude, and altitude) the [International Space Station Pass Times](http://open-notify.org/Open-Notify-API/ISS-Location-Now/) API compute the next n number of times that the ISS will be overhead.\n",
    "\n",
    "The function must return the obtained json file as a python dictionary."
   ]
  },
  {
   "cell_type": "markdown",
   "metadata": {},
   "source": [
    "f. Write the *url request* to obtaing the same result as in task e."
   ]
  },
  {
   "cell_type": "code",
   "execution_count": 9,
   "metadata": {},
   "outputs": [
    {
     "data": {
      "text/plain": [
       "{'message': 'success',\n",
       " 'request': {'altitude': 100,\n",
       "  'datetime': 1569115595,\n",
       "  'latitude': 20.96778,\n",
       "  'longitude': -89.64425,\n",
       "  'passes': 5},\n",
       " 'response': [{'duration': 495, 'risetime': 1569136637},\n",
       "  {'duration': 641, 'risetime': 1569142377},\n",
       "  {'duration': 624, 'risetime': 1569190470},\n",
       "  {'duration': 539, 'risetime': 1569196318},\n",
       "  {'duration': 357, 'risetime': 1569220184}]}"
      ]
     },
     "execution_count": 9,
     "metadata": {},
     "output_type": "execute_result"
    }
   ],
   "source": [
    "def iss_passtimes(latitude,longitude,altitude=None,number=None):\n",
    "    url='http://api.open-notify.org/iss-pass.json'\n",
    "    pmtrs={\n",
    "        'lat' : latitude,\n",
    "        'lon' : longitude,\n",
    "        'alt' : altitude,\n",
    "        'n' : number\n",
    "    }\n",
    "    res=requests.get(url, params = pmtrs)\n",
    "    results=json.loads(res.content)\n",
    "    return results\n",
    "iss_Merida=iss_passtimes(20.967780,-89.644250)\n",
    "iss_Merida"
   ]
  },
  {
   "cell_type": "markdown",
   "metadata": {},
   "source": [
    "g. Create a table with the following columns:\n",
    "* latitude\n",
    "* longitude\n",
    "* risetime (parse correctly)\n",
    "* duration"
   ]
  },
  {
   "cell_type": "code",
   "execution_count": 10,
   "metadata": {},
   "outputs": [],
   "source": [
    "#i make my Data Frame\n",
    "table2=pd.DataFrame()\n",
    "table2['risetime']=None\n",
    "table2['duration']=None\n",
    "table2['latitude']=None\n",
    "table2['longitude']=None"
   ]
  },
  {
   "cell_type": "markdown",
   "metadata": {},
   "source": [
    "## Checklist\n",
    "\n",
    "| Task | Points |\n",
    "|:----:|:------:|\n",
    "|   a  |   15   |\n",
    "|   b  |   15   |\n",
    "|   c  |   15   |\n",
    "|   d  |   15   |\n",
    "|   e  |   15   |\n",
    "|   f  |   10   |\n",
    "|   g  |   15   |\n",
    "\n",
    "* **Important!** Partial credit can be obteined in each task.\n",
    "* Don not forget to document your functions! [Here](http://google.github.io/styleguide/pyguide.html) is the Python Programming Styleguide from Google. [Section 3.8](http://google.github.io/styleguide/pyguide.html#38-comments-and-docstrings) is about Comments and Docstrings."
   ]
  },
  {
   "cell_type": "code",
   "execution_count": null,
   "metadata": {},
   "outputs": [],
   "source": []
  }
 ],
 "metadata": {
  "kernelspec": {
   "display_name": "Python 3",
   "language": "python",
   "name": "python3"
  },
  "language_info": {
   "codemirror_mode": {
    "name": "ipython",
    "version": 3
   },
   "file_extension": ".py",
   "mimetype": "text/x-python",
   "name": "python",
   "nbconvert_exporter": "python",
   "pygments_lexer": "ipython3",
   "version": "3.7.3"
  }
 },
 "nbformat": 4,
 "nbformat_minor": 4
}
