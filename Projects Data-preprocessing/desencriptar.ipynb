{
 "cells": [
  {
   "cell_type": "raw",
   "metadata": {},
   "source": [
    "    The previous user already sent you the code, now you only have to enter it in this program and the only one will decide, put it in a lease to continue and will Haran other processes."
   ]
  },
  {
   "cell_type": "code",
   "execution_count": 1,
   "metadata": {},
   "outputs": [],
   "source": [
    "#convertir datos  a array.\n",
    "matriz_multiplicada=[]#declaro mi matriz que sera llenada por el codigo encriptado\n",
    "fila_1=[]\n",
    "fila_2=[]\n",
    "fila_3=[]\n",
    "def matriz(matriz_multiplicada,fila_1,fila_2,fila_3):\n",
    "    for i in range(0,3):\n",
    "        if(i==0):#pido valores de la fila 1\n",
    "            print(\"ingresa los 4 valores de la primera fila del codigo.\")\n",
    "            for n in range(0,4):\n",
    "                x=int(input(\"dame el numero: \"))\n",
    "                fila_1.append(x)\n",
    "            \n",
    "        if(i==1):#pido valores de la fila 2\n",
    "            print(\"ingresa los 4 valores de la segunda fila del codigo.\")\n",
    "            for n in range(0,4):\n",
    "                x=int(input(\"dame el numero: \"))\n",
    "                fila_2.append(x)\n",
    "            \n",
    "            \n",
    "        if(i==2):#pido valores de la fila 3\n",
    "            print(\"ingresa los 4 valores de la tercera fila del codigo.\")\n",
    "            for n in range(0,4):\n",
    "                x=int(input(\"dame el numero: \"))\n",
    "                fila_3.append(x)\n",
    "    #agregamos cada array para formar una matriz general            \n",
    "    matriz_multiplicada.append(fila_1)\n",
    "    matriz_multiplicada.append(fila_2)\n",
    "    matriz_multiplicada.append(fila_3)\n",
    "    return(matriz_multiplicada)     \n"
   ]
  },
  {
   "cell_type": "code",
   "execution_count": 2,
   "metadata": {},
   "outputs": [
    {
     "name": "stdout",
     "output_type": "stream",
     "text": [
      "ingresa los 4 valores de la primera fila del codigo.\n",
      "dame el numero: 109\n",
      "dame el numero: 154\n",
      "dame el numero: 97\n",
      "dame el numero: 44\n",
      "ingresa los 4 valores de la segunda fila del codigo.\n",
      "dame el numero: 177\n",
      "dame el numero: 280\n",
      "dame el numero: 157\n",
      "dame el numero: 76\n",
      "ingresa los 4 valores de la tercera fila del codigo.\n",
      "dame el numero: 200\n",
      "dame el numero: 433\n",
      "dame el numero: 180\n",
      "dame el numero: 106\n"
     ]
    }
   ],
   "source": [
    "matriz_multiplicada=matriz(matriz_multiplicada,fila_1,fila_2,fila_3)#llamo a mi funcion"
   ]
  },
  {
   "cell_type": "code",
   "execution_count": 3,
   "metadata": {},
   "outputs": [
    {
     "name": "stdout",
     "output_type": "stream",
     "text": [
      "[[109, 154, 97, 44], [177, 280, 157, 76], [200, 433, 180, 106]]\n"
     ]
    }
   ],
   "source": [
    "print(matriz_multiplicada)#imprimo mi matriz encriotada para empezar a desencriptar"
   ]
  },
  {
   "cell_type": "raw",
   "metadata": {},
   "source": [
    "    Once we have captured the codigo as in an array, it will be multiplied by the inverse matrix of the key matrix, so as to obtain the original matrix and proceed to make the replacement of numbers to letters."
   ]
  },
  {
   "cell_type": "markdown",
   "metadata": {},
   "source": [
    "#### Multiplication by inverse matrix"
   ]
  },
  {
   "cell_type": "code",
   "execution_count": 4,
   "metadata": {},
   "outputs": [],
   "source": [
    "#empieza el proceso de desencriptado.\n",
    "#declaramos matriz inversa para empezar\n",
    "matriz_inversa=[[11/2,-9/2,1],[15/4,-11/4,1/2],[-39/4,31/4,-3/2]]\n",
    "matriz_des=[]\n",
    "fila_1=[]\n",
    "fila_2=[]\n",
    "fila_3=[]\n",
    "#transformacion de matriz\n",
    "def transformation(matriz_inversa,matriz_des,fila_1,fila_2,matriz_multiplicada):\n",
    "    for i in range(0,3):\n",
    "        if(i==0):\n",
    "            for n in range(0,4):\n",
    "                if(n==0):\n",
    "                    x=matriz_inversa[0][0]*matriz_multiplicada[0][0]+matriz_inversa[0][1]*matriz_multiplicada[1][0]+matriz_inversa[0][2]*matriz_multiplicada[2][0]\n",
    "                    fila_1.append(x)\n",
    "                if(n==1):\n",
    "                    x=matriz_inversa[0][0]*matriz_multiplicada[0][1]+matriz_inversa[0][1]*matriz_multiplicada[1][1]+matriz_inversa[0][2]*matriz_multiplicada[2][1]\n",
    "                    fila_1.append(x)\n",
    "                if(n==2):\n",
    "                    x=matriz_inversa[0][0]*matriz_multiplicada[0][2]+matriz_inversa[0][1]*matriz_multiplicada[1][2]+matriz_inversa[0][2]*matriz_multiplicada[2][2]\n",
    "                    fila_1.append(x)\n",
    "                if(n==3):\n",
    "                    x=matriz_inversa[0][0]*matriz_multiplicada[0][3]+matriz_inversa[0][1]*matriz_multiplicada[1][3]+matriz_inversa[0][2]*matriz_multiplicada[2][3]\n",
    "                    fila_1.append(x)\n",
    "            \n",
    "        if(i==1):\n",
    "             for n in range(0,4):\n",
    "                if(n==0):\n",
    "                    x=matriz_inversa[1][0]*matriz_multiplicada[0][0]+matriz_inversa[1][1]*matriz_multiplicada[1][0]+matriz_inversa[1][2]*matriz_multiplicada[2][0]\n",
    "                    fila_2.append(x)\n",
    "                if(n==1):\n",
    "                    x=matriz_inversa[1][0]*matriz_multiplicada[0][1]+matriz_inversa[1][1]*matriz_multiplicada[1][1]+matriz_inversa[1][2]*matriz_multiplicada[2][1]\n",
    "                    fila_2.append(x)\n",
    "                if(n==2):\n",
    "                    x=matriz_inversa[1][0]*matriz_multiplicada[0][2]+matriz_inversa[1][1]*matriz_multiplicada[1][2]+matriz_inversa[1][2]*matriz_multiplicada[2][2]\n",
    "                    fila_2.append(x)\n",
    "                if(n==3):\n",
    "                    x=matriz_inversa[1][0]*matriz_multiplicada[0][3]+matriz_inversa[1][1]*matriz_multiplicada[1][3]+matriz_inversa[1][2]*matriz_multiplicada[2][3]\n",
    "                    fila_2.append(x)\n",
    "            \n",
    "        if(i==2):\n",
    "             for n in range(0,4):\n",
    "                if(n==0):\n",
    "                    x=matriz_inversa[2][0]*matriz_multiplicada[0][0]+matriz_inversa[2][1]*matriz_multiplicada[1][0]+matriz_inversa[2][2]*matriz_multiplicada[2][0]\n",
    "                    fila_3.append(x)\n",
    "                if(n==1):\n",
    "                    x=matriz_inversa[2][0]*matriz_multiplicada[0][1]+matriz_inversa[2][1]*matriz_multiplicada[1][1]+matriz_inversa[2][2]*matriz_multiplicada[2][1]\n",
    "                    fila_3.append(x)\n",
    "                if(n==2):\n",
    "                    x=matriz_inversa[2][0]*matriz_multiplicada[0][2]+matriz_inversa[2][1]*matriz_multiplicada[1][2]+matriz_inversa[2][2]*matriz_multiplicada[2][2]\n",
    "                    fila_3.append(x)\n",
    "                if(n==3):\n",
    "                    x=matriz_inversa[2][0]*matriz_multiplicada[0][3]+matriz_inversa[2][1]*matriz_multiplicada[1][3]+matriz_inversa[2][2]*matriz_multiplicada[2][3]\n",
    "                    fila_3.append(x)\n",
    "                    \n",
    "    matriz_des.append(fila_1)\n",
    "    matriz_des.append(fila_2)\n",
    "    matriz_des.append(fila_3)\n",
    "    return(matriz_des)    \n"
   ]
  },
  {
   "cell_type": "code",
   "execution_count": 5,
   "metadata": {},
   "outputs": [
    {
     "name": "stdout",
     "output_type": "stream",
     "text": [
      "[[3.0, 20.0, 7.0, 6.0], [22.0, 24.0, 22.0, 9.0], [9.0, 19.0, 1.0, 1.0]]\n"
     ]
    }
   ],
   "source": [
    "#llamo a la funcion.\n",
    "matriz_des=transformation(matriz_inversa,matriz_des,fila_1,fila_2,matriz_multiplicada)\n",
    "print(matriz_des)"
   ]
  },
  {
   "cell_type": "markdown",
   "metadata": {},
   "source": [
    "#### Sustitution"
   ]
  },
  {
   "cell_type": "raw",
   "metadata": {},
   "source": [
    "    Next, each number is searched in the list of letters and assigned values, resulting in pure disordered letters, which will then be sorted."
   ]
  },
  {
   "cell_type": "code",
   "execution_count": 6,
   "metadata": {},
   "outputs": [],
   "source": [
    "letras=[' ','a','b','c','d','e','f','g','h','i','j','k','l','m','n','ñ','l','m','n','o','p','q','r','s','t','u','v','w','x','y','z']\n",
    "#creamos un afuncion para unificar la matriz\n",
    "mensaje=[]\n",
    "def Mensaje(matriz_des):\n",
    "    for n in range(0,4):\n",
    "        numero_1=matriz_des[0][n]\n",
    "        mensaje.append(numero_1)\n",
    "        numero_2=matriz_des[1][n]\n",
    "        mensaje.append(numero_2)\n",
    "        numero_3=matriz_des[2][n]\n",
    "        mensaje.append(numero_3)\n",
    "    return(mensaje)"
   ]
  },
  {
   "cell_type": "code",
   "execution_count": 7,
   "metadata": {},
   "outputs": [
    {
     "name": "stdout",
     "output_type": "stream",
     "text": [
      "[3.0, 22.0, 9.0, 20.0, 24.0, 19.0, 7.0, 22.0, 1.0, 6.0, 9.0, 1.0]\n"
     ]
    }
   ],
   "source": [
    "mensaje=Mensaje(matriz_des)\n",
    "print(mensaje)"
   ]
  },
  {
   "cell_type": "raw",
   "metadata": {},
   "source": [
    "Once the numbers are sorted, the total translation of the code is done."
   ]
  },
  {
   "cell_type": "code",
   "execution_count": 8,
   "metadata": {},
   "outputs": [],
   "source": [
    "#hacemos la traduccion.\n",
    "mensaje_completo=[]\n",
    "def traduccion(mensaje_completo,mensaje):\n",
    "    x=len(mensaje)\n",
    "    x=int(x)\n",
    "    for n in range(0,x):\n",
    "        numero=mensaje[n]\n",
    "        numero=int(numero)\n",
    "        letra=letras[numero]\n",
    "        mensaje_completo.append(letra)\n",
    "        \n",
    "    return(mensaje_completo)"
   ]
  },
  {
   "cell_type": "code",
   "execution_count": 9,
   "metadata": {},
   "outputs": [
    {
     "name": "stdout",
     "output_type": "stream",
     "text": [
      "el mensaje original es:\n",
      "\n",
      "['c', 'r', 'i', 'p', 't', 'o', 'g', 'r', 'a', 'f', 'i', 'a']\n"
     ]
    }
   ],
   "source": [
    "#llamamos a la funcion\n",
    "print(\"el mensaje original es:\\n\")\n",
    "mensaje_original=traduccion(mensaje_completo,mensaje)\n",
    "print(mensaje_original)\n",
    "\n"
   ]
  }
 ],
 "metadata": {
  "kernelspec": {
   "display_name": "Python 3",
   "language": "python",
   "name": "python3"
  },
  "language_info": {
   "codemirror_mode": {
    "name": "ipython",
    "version": 3
   },
   "file_extension": ".py",
   "mimetype": "text/x-python",
   "name": "python",
   "nbconvert_exporter": "python",
   "pygments_lexer": "ipython3",
   "version": "3.7.1"
  }
 },
 "nbformat": 4,
 "nbformat_minor": 2
}
