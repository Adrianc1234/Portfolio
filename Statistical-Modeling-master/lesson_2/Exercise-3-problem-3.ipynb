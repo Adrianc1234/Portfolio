{
 "cells": [
  {
   "cell_type": "markdown",
   "metadata": {},
   "source": [
    "## Problem 3 - Allocating locations (*8 points*)\n",
    "\n",
    "\n",
    "### Overview \n",
    "Following map shows the locations of the weather stations (as blue points) in Finland that are more than 70 years old [1].\n",
    "In this problem we are interested to find out whether the station network was equally distributed across Finland\n",
    "seventy years ago. We have divided Finland into four geographical zones (i.e. North West, North East, South West, South East)\n",
    "according the approximate center point of Finnish mainland located at `26.3, 64.5` (lon-lat in decimal degrees).\n",
    "\n",
    "![](img/FMI_stations_70_years_older.png)\n",
    "\n",
    "[1]: The locations and the age of weather stations were obtained from: http://en.ilmatieteenlaitos.fi/observation-stations\n",
    "\n",
    "Below, we have given you the coordinates of 34 weather stations.\n",
    "The location of a single station is determined with a pair of latitude and longitude coordinates.\n",
    "The coordinates of all the stations are separated into two lists (`lat` and `lon`) and the names of the stations are in `stations` list. From these lists, you would get e.g. the location of the first station by combining the latitude and longitude coordinates from coordinate lists, and the name of that station from `stations` list at index[0]:\n",
    "\n",
    "### Problem statement\n",
    "\n",
    "In this problem your job is to print the names of weather stations located in different zones. You should also report the share of weather stations that allocated to each zone that could be used to evaluate if certain zone was over/under-represented seventy years ago.\n",
    "\n",
    "To solve this problem, you should modify and fill in the missing parts in the code cells below.\n",
    "\n",
    "**Notice**: follow closely the instructions, e.g. using **exactly** the same variable names as mentioned in the instructions because your answers will be automatically graded, and the tests that grade your answers rely on following the same formatting as in the instructions. \n",
    "\n",
    "\n",
    "**Your score on this problem will be based on following criteria:**\n",
    "\n",
    " 1. Create four lists for geographical zones in Finland (i.e. `nort_west`, `north_east`, `south_west`, `south_east`)\n",
    " 2. Iterate over values and determine to which geographical zone the station belongs\n",
    "    1. Hint: You should create a loop that iterates `N` -number of times. Create a variable *`N`* that should contain the number of stations we have here.\n",
    "    2. You should use a conditional statement to find out if the latitude coordinate of a station is either North or South of the center point of Finland (`26.3, 64.5`) **AND** if the longitude location is West or East from that center point.\n",
    "    3. You should insert the name of the station into the correct geographical zone list (step 1)\n",
    " 3. Print out the names of stations at each geographical zone\n",
    " 4. Calculate and print the share of stations at each zone (the total number of stations equals to 100 %)"
   ]
  },
  {
   "cell_type": "markdown",
   "metadata": {},
   "source": [
    "### Data\n",
    "\n",
    "Here, we provide you the data you should use to solve the problem 3 (run the cell to get values into the memory of your computer):"
   ]
  },
  {
   "cell_type": "code",
   "execution_count": 1,
   "metadata": {},
   "outputs": [],
   "source": [
    "# Station names\n",
    "stations = ['Hanko Russarö', 'Heinola Asemantaus', 'Helsinki Kaisaniemi', \n",
    "            'Helsinki Malmi airfield', 'Hyvinkää Hyvinkäänkylä', 'Joutsa Savenaho', \n",
    "            'Juuka Niemelä', 'Jyväskylä airport', 'Kaarina Yltöinen', 'Kauhava airfield', \n",
    "            'Kemi Kemi-Tornio airport', 'Kotka Rankki', 'Kouvola Anjala', \n",
    "            'Kouvola Utti airport', 'Kuopio Maaninka', 'Kuusamo airport', \n",
    "            'Lieksa Lampela', 'Mustasaari Valassaaret', 'Parainen Utö', 'Pori airport', \n",
    "            'Rovaniemi Apukka', 'Salo Kärkkä', 'Savonlinna Punkaharju Laukansaari', \n",
    "            'Seinäjoki Pelmaa', 'Siikajoki Ruukki', 'Siilinjärvi Kuopio airport', \n",
    "            'Tohmajärvi Kemie', 'Utsjoki Nuorgam', 'Vaala Pelso', 'Vaasa airport', \n",
    "            'Vesanto Sonkari', 'Vieremä Kaarakkala', 'Vihti Maasoja', 'Ylitornio Meltosjärvi']\n",
    "\n",
    "# Latitude coordinates of Weather stations  \n",
    "lats = [59.77, 61.2, 60.18, 60.25, 60.6, 61.88, 63.23, 62.4,\n",
    "       60.39, 63.12, 65.78, 60.38, 60.7, 60.9, 63.14, 65.99,\n",
    "       63.32, 63.44, 59.78, 61.47, 66.58, 60.37, 61.8, 62.94,\n",
    "       64.68, 63.01, 62.24, 70.08, 64.5, 63.06, 62.92, 63.84,\n",
    "       60.42, 66.53]\n",
    "\n",
    "# Longitude coordinates of Weather stations \n",
    "lons = [22.95, 26.05, 24.94, 25.05, 24.8, 26.09, 29.23, 25.67, \n",
    "       22.55, 23.04, 24.58, 26.96, 26.81, 26.95, 27.31, 29.23, \n",
    "       30.05, 21.07, 21.37, 21.79, 26.01, 23.11, 29.32, 22.49, \n",
    "       25.09, 27.8, 30.35, 27.9, 26.42, 21.75, 26.42, 27.22, \n",
    "       24.4, 24.65]\n",
    "\n",
    "# Cutoff values that correspond to the centroid of Finnish mainland\n",
    "# North - South\n",
    "north_south_cutoff = 64.5\n",
    "\n",
    "# East-West\n",
    "east_west_cutoff = 26.3"
   ]
  },
  {
   "cell_type": "markdown",
   "metadata": {},
   "source": [
    "- Create four empty lists for geographical zones in Finland, use **exactly** following variable names (**0.5 points**)\n",
    "   - `north_west`\n",
    "   - `north_east`\n",
    "   - `south_west`\n",
    "   - `south_east`"
   ]
  },
  {
   "cell_type": "code",
   "execution_count": 2,
   "metadata": {},
   "outputs": [],
   "source": [
    "north_west=[]\n",
    "north_east=[]\n",
    "south_west=[]\n",
    "south_east=[]\n"
   ]
  },
  {
   "cell_type": "code",
   "execution_count": 3,
   "metadata": {},
   "outputs": [
    {
     "name": "stdout",
     "output_type": "stream",
     "text": [
      "[] []\n"
     ]
    }
   ],
   "source": [
    "# This test print should work\n",
    "print(north_west, south_west)"
   ]
  },
  {
   "cell_type": "markdown",
   "metadata": {},
   "source": [
    "**Step 1**: Count the number of stations and store that value in variable: *`N`* (*0.5 points*)"
   ]
  },
  {
   "cell_type": "code",
   "execution_count": 4,
   "metadata": {},
   "outputs": [],
   "source": [
    "#count how long is the list and i give the number for a variable\n",
    "N=len(stations)"
   ]
  },
  {
   "cell_type": "code",
   "execution_count": 5,
   "metadata": {},
   "outputs": [
    {
     "name": "stdout",
     "output_type": "stream",
     "text": [
      "In the data, there are 34 stations.\n"
     ]
    }
   ],
   "source": [
    "# How many stations do we have?\n",
    "print(\"In the data, there are\", N, \"stations.\")"
   ]
  },
  {
   "cell_type": "markdown",
   "metadata": {},
   "source": [
    "**Step 2**: Make a loop that iterates N number of times, and allocates stations to different geographical zones based on the coordinates."
   ]
  },
  {
   "cell_type": "code",
   "execution_count": 6,
   "metadata": {},
   "outputs": [],
   "source": [
    "north_south_cutoff = 64.5\n",
    "east_west_cutoff = 26.3\n",
    "#i put the conditions to add the values that is will check one by one on the lists and i add these in others list\n",
    "for n in range(N):\n",
    "    if lats[n] > north_south_cutoff and lons[n]>east_west_cutoff:\n",
    "        north_east.append(stations[n])\n",
    "    if lats[n] <= north_south_cutoff and lons[n]>=east_west_cutoff:\n",
    "        south_east.append(stations[n])\n",
    "    if lats[n] >= north_south_cutoff and lons[n]<=east_west_cutoff:\n",
    "        north_west.append(stations[n])\n",
    "    if lats[n] <= north_south_cutoff and lons[n]<=east_west_cutoff:\n",
    "        south_west.append(stations[n])"
   ]
  },
  {
   "cell_type": "markdown",
   "metadata": {},
   "source": [
    "**Step 3:** In the following cells, you should print out the correct names for each geographical zone. (*1.5 points each - total: 6 points*)\n",
    "    \n",
    "   - We have given you the correct number of stations as a hint for each zone, so it is easier for you to know whether you have correct answer. "
   ]
  },
  {
   "cell_type": "code",
   "execution_count": 7,
   "metadata": {},
   "outputs": [
    {
     "name": "stdout",
     "output_type": "stream",
     "text": [
      "The names of the North-West stations are:\n",
      " ['Kemi Kemi-Tornio airport', 'Rovaniemi Apukka', 'Siikajoki Ruukki', 'Ylitornio Meltosjärvi']\n"
     ]
    }
   ],
   "source": [
    "# This test print should print out station names in North West\n",
    "# Hint: there should be 4 stations in this class\n",
    "print(\"The names of the North-West stations are:\\n\", north_west)"
   ]
  },
  {
   "cell_type": "code",
   "execution_count": 8,
   "metadata": {},
   "outputs": [
    {
     "name": "stdout",
     "output_type": "stream",
     "text": [
      "The names of the North-East stations are:\n",
      " ['Kuusamo airport', 'Utsjoki Nuorgam']\n"
     ]
    }
   ],
   "source": [
    "# This test print should print out station names in North Eest\n",
    "# Hint: there should be 2 stations in this class\n",
    "print(\"The names of the North-East stations are:\\n\", north_east)\n"
   ]
  },
  {
   "cell_type": "code",
   "execution_count": 9,
   "metadata": {},
   "outputs": [
    {
     "name": "stdout",
     "output_type": "stream",
     "text": [
      "The names of the South-West stations are:\n",
      " ['Hanko Russarö', 'Heinola Asemantaus', 'Helsinki Kaisaniemi', 'Helsinki Malmi airfield', 'Hyvinkää Hyvinkäänkylä', 'Joutsa Savenaho', 'Jyväskylä airport', 'Kaarina Yltöinen', 'Kauhava airfield', 'Mustasaari Valassaaret', 'Parainen Utö', 'Pori airport', 'Salo Kärkkä', 'Seinäjoki Pelmaa', 'Vaasa airport', 'Vihti Maasoja']\n"
     ]
    }
   ],
   "source": [
    "# This test print should print out station names in South West\n",
    "# Hint: there should be 16 stations in this class\n",
    "print(\"The names of the South-West stations are:\\n\", south_west)"
   ]
  },
  {
   "cell_type": "code",
   "execution_count": 10,
   "metadata": {},
   "outputs": [
    {
     "name": "stdout",
     "output_type": "stream",
     "text": [
      "The names of the South-East stations are:\n",
      " ['Juuka Niemelä', 'Kotka Rankki', 'Kouvola Anjala', 'Kouvola Utti airport', 'Kuopio Maaninka', 'Lieksa Lampela', 'Savonlinna Punkaharju Laukansaari', 'Siilinjärvi Kuopio airport', 'Tohmajärvi Kemie', 'Vaala Pelso', 'Vesanto Sonkari', 'Vieremä Kaarakkala']\n"
     ]
    }
   ],
   "source": [
    "# This test print should print out station names in South East\n",
    "# Hint: there should be 12 stations in this class\n",
    "print(\"The names of the South-East stations are:\\n\", south_east)\n"
   ]
  },
  {
   "cell_type": "markdown",
   "metadata": {},
   "source": [
    "**Step 4**: Print the share of stations at each geographical zone (in percentages)\n",
    "\n",
    " - Store the answers into variables:\n",
    "    - `north_west_share`\n",
    "    - `north_east_share`\n",
    "    - `south_west_share`\n",
    "    - `south_east_share`"
   ]
  },
  {
   "cell_type": "code",
   "execution_count": 11,
   "metadata": {},
   "outputs": [],
   "source": [
    "#i got the percentages with a formule and i add these in other variables to print.\n",
    "north_west_share= (len(north_west)/N)*100\n",
    "north_east_share= (len(north_east)/N)*100\n",
    "south_west_share= (len(south_west)/N)*100\n",
    "south_east_share= (len(south_east)/N)*100"
   ]
  },
  {
   "cell_type": "markdown",
   "metadata": {},
   "source": [
    "- Print the results following format: \"North-West contains 99 % of all stations.\" (this is an example not a correct answer)"
   ]
  },
  {
   "cell_type": "code",
   "execution_count": 12,
   "metadata": {},
   "outputs": [
    {
     "name": "stdout",
     "output_type": "stream",
     "text": [
      "North-West contains 12 % of all stations.\n",
      "North-East contains 6 % of all stations.\n",
      "South-West contains 47 % of all stations.\n",
      "South-East contains 35 % of all stations.\n"
     ]
    }
   ],
   "source": [
    "# Print the information (you don't need to modify this)\n",
    "# .format() is a Python function that can be used to easily insert values inside a text-template such as below.\n",
    "# .0f below is a specific operator that rounds the decimal values into whole numbers\n",
    "print(\"North-West contains{share: .0f} % of all stations.\".format(share=north_west_share))\n",
    "print(\"North-East contains{share: .0f} % of all stations.\".format(share=north_east_share))\n",
    "print(\"South-West contains{share: .0f} % of all stations.\".format(share=south_west_share))\n",
    "print(\"South-East contains{share: .0f} % of all stations.\".format(share=south_east_share))"
   ]
  }
 ],
 "metadata": {
  "kernelspec": {
   "display_name": "Python 3",
   "language": "python",
   "name": "python3"
  },
  "language_info": {
   "codemirror_mode": {
    "name": "ipython",
    "version": 3
   },
   "file_extension": ".py",
   "mimetype": "text/x-python",
   "name": "python",
   "nbconvert_exporter": "python",
   "pygments_lexer": "ipython3",
   "version": "3.7.1"
  }
 },
 "nbformat": 4,
 "nbformat_minor": 4
}
