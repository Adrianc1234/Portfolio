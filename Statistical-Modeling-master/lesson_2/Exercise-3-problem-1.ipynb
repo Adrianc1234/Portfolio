{
 "cells": [
  {
   "cell_type": "markdown",
   "metadata": {},
   "source": [
    "## Problem 1 - Batch processing data files with a `for` loop (**4 Points**)\n",
    "\n",
    "This problem is meant to simulate a common problem dealing with data files: batch processing.\n",
    "\n",
    "Batch processing involves using scripts to process many data files, and one common task is generating a list of filenames that will be processed, or saved to disk.\n",
    "\n",
    "For this problem you will need to modify the code blocks below and add codes to produce the desired outcomes. "
   ]
  },
  {
   "cell_type": "markdown",
   "metadata": {},
   "source": [
    "**Your score on this problem will be based on following criteria:**\n",
    "\n",
    " - Creating and using variables to produce the desired text format\n",
    " - Successfully using for loop to iterate over desired set of numbers\n",
    " - Successfully producing the desired filename\n",
    " - Including comments that explain what most lines in the code do"
   ]
  },
  {
   "cell_type": "markdown",
   "metadata": {},
   "source": [
    "1: Create a new variable called `basename` that contains text `\"Station\"`."
   ]
  },
  {
   "cell_type": "code",
   "execution_count": 1,
   "metadata": {},
   "outputs": [
    {
     "name": "stdout",
     "output_type": "stream",
     "text": [
      "station\n"
     ]
    }
   ],
   "source": [
    "basename='station'\n",
    "print(basename)"
   ]
  },
  {
   "cell_type": "markdown",
   "metadata": {},
   "source": [
    "2: Create a new variable `filenames` that is an empty list."
   ]
  },
  {
   "cell_type": "code",
   "execution_count": null,
   "metadata": {},
   "outputs": [],
   "source": [
    "filename=[]"
   ]
  },
  {
   "cell_type": "markdown",
   "metadata": {},
   "source": [
    "3: Iterate over the number range 0-20 and\n",
    "  - Create a variable `station` that contains the 1) text from `basename` variable, 2) the number, and 3) the file extension `.txt`  \n",
    "  - Add the content of `station` to `filenames` list which should have following content in the end:\n",
    "\n",
    "      ```\n",
    "      ['Station_0.txt', 'Station_1.txt', 'Station_2.txt', 'Station_3.txt',\n",
    "       'Station_4.txt', 'Station_5.txt', 'Station_6.txt', 'Station_7.txt',\n",
    "       'Station_8.txt', 'Station_9.txt', 'Station_10.txt', 'Station_11.txt',\n",
    "       'Station_12.txt', 'Station_13.txt', 'Station_14.txt', 'Station_15.txt',\n",
    "       'Station_16.txt', 'Station_17.txt', 'Station_18.txt', 'Station_19.txt',\n",
    "       'Station_20.txt']\n",
    "      ```"
   ]
  },
  {
   "cell_type": "code",
   "execution_count": 5,
   "metadata": {},
   "outputs": [
    {
     "name": "stdout",
     "output_type": "stream",
     "text": [
      "['station_0.txt', 'station_1.txt', 'station_2.txt', 'station_3.txt', 'station_4.txt', 'station_5.txt', 'station_6.txt', 'station_7.txt', 'station_8.txt', 'station_9.txt', 'station_10.txt', 'station_11.txt', 'station_12.txt', 'station_13.txt', 'station_14.txt', 'station_15.txt', 'station_16.txt', 'station_17.txt', 'station_18.txt', 'station_19.txt', 'station_20.txt']\n"
     ]
    }
   ],
   "source": [
    "basename='station'\n",
    "filename=[]\n",
    "#check element by element and i print the format adding the others elements to get the format.\n",
    "for number in range(0,21):\n",
    "    station=basename + \"_\"+ str(number) + \".txt\"\n",
    "    filename.append(station)\n",
    "print(filename)\n",
    "#print the list totaly\n",
    "    \n",
    "    "
   ]
  }
 ],
 "metadata": {
  "kernelspec": {
   "display_name": "Python 3",
   "language": "python",
   "name": "python3"
  },
  "language_info": {
   "codemirror_mode": {
    "name": "ipython",
    "version": 3
   },
   "file_extension": ".py",
   "mimetype": "text/x-python",
   "name": "python",
   "nbconvert_exporter": "python",
   "pygments_lexer": "ipython3",
   "version": "3.7.3"
  }
 },
 "nbformat": 4,
 "nbformat_minor": 4
}
