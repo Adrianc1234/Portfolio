{
 "cells": [
  {
   "cell_type": "markdown",
   "metadata": {},
   "source": [
    "# Conditional statements\n",
    "\n",
    "## Sources\n",
    "\n",
    "This lesson is based on the [Software Carpentry group’s](http://software-carpentry.org/) lessons on [Programming with Python](http://swcarpentry.github.io/python-novice-inflammation/).\n",
    "\n",
    "## Basics of conditional statements\n",
    "\n",
    "Conditional statements can change the code behaviour based on meeting certain conditions.\n",
    "\n",
    "### A simple conditional statement\n",
    "\n",
    "Let’s take a simple example."
   ]
  },
  {
   "cell_type": "code",
   "execution_count": 2,
   "metadata": {},
   "outputs": [
    {
     "name": "stdout",
     "output_type": "stream",
     "text": [
      "it is not hot\n"
     ]
    }
   ],
   "source": [
    "temperature = 17\n",
    "\n",
    "if temperature > 25:\n",
    "    print('it is hot')\n",
    "else:\n",
    "    print('it is not hot')"
   ]
  },
  {
   "cell_type": "markdown",
   "metadata": {},
   "source": [
    "What did we do here?\n",
    "First, we used the `if` and `else` statements to determine what parts of the code to execute.\n",
    "Note that both lines containing `if` or `else` end with a `:` and the text beneath is indented.\n",
    "What do these tests do?\n",
    "The if test checks to see whether the variable value for `temperature` is greater than 25.\n",
    "If so, `'it is hot'` would be written to the screen.\n",
    "Since 17 is smaller than 25, the code beneath the else is executed.\n",
    "The `else` statement code will run whenever the `if` test is false."
   ]
  },
  {
   "cell_type": "markdown",
   "metadata": {},
   "source": [
    "#### A familiar conditional scenario\n",
    "\n",
    "As it turns out, we all use logic similar to `if` and `else` conditional statements daily.\n",
    "Imagine you’re getting ready to leave your home for the day and want to decide what to wear.\n",
    "You might look outside to check the weather conditions.\n",
    "If it is raining, you will wear a rain jacket.\n",
    "Otherwise, you will not.\n",
    "In Python we could say:\n",
    "\n",
    "```python\n",
    "weather = 'Rain'\n",
    "\n",
    "if weather == 'Rain':\n",
    "    print('Wear a raincoat')\n",
    "else:\n",
    "    print('No raincoat needed')\n",
    "\n",
    "Wear a raincoat\n",
    "```\n",
    "Note here that we use the `==` to test if a value is exactly equal to another."
   ]
  },
  {
   "cell_type": "markdown",
   "metadata": {},
   "source": [
    "### else is not required\n",
    "\n",
    "The combination of if and else is very common, but both are not strictly required."
   ]
  },
  {
   "cell_type": "code",
   "execution_count": 1,
   "metadata": {},
   "outputs": [],
   "source": [
    "temperature = 13"
   ]
  },
  {
   "cell_type": "code",
   "execution_count": 2,
   "metadata": {},
   "outputs": [],
   "source": [
    "if temperature > 25:\n",
    "    print('13 is greater than 25')"
   ]
  },
  {
   "cell_type": "markdown",
   "metadata": {},
   "source": [
    "Note that here we use only the `if` statement, and because 13 is not greater than 25, nothing is printed to the screen."
   ]
  },
  {
   "cell_type": "markdown",
   "metadata": {},
   "source": [
    "### Introducing second test\n",
    "\n",
    "We can also have a second test for an if statment by using the elif (else-if) statement."
   ]
  },
  {
   "cell_type": "code",
   "execution_count": 3,
   "metadata": {},
   "outputs": [],
   "source": [
    "temperature = -3"
   ]
  },
  {
   "cell_type": "code",
   "execution_count": 4,
   "metadata": {},
   "outputs": [
    {
     "name": "stdout",
     "output_type": "stream",
     "text": [
      "-3 is below freezing\n"
     ]
    }
   ],
   "source": [
    "if temperature > 0:\n",
    "     print(temperature, 'is above freezing')\n",
    "elif temperature == 0:\n",
    "     print(temperature, 'is freezing')\n",
    "else:\n",
    "     print(temperature, 'is below freezing')"
   ]
  },
  {
   "cell_type": "markdown",
   "metadata": {},
   "source": [
    "Makes sense, right? Note here that we again use the == to test if a value is exactly equal to another. The complete list of these comparison operators is given in the table below.\n",
    "\n",
    "| Operator | Meaning                  |\n",
    "| -------- | ------------------------ |\n",
    "| <        | Less than                |\n",
    "| <=       | Less than or equal to    |\n",
    "| ==       | Equal to                 |\n",
    "| >=       | Greater than or equal to |\n",
    "| >        | Greater than             |\n",
    "| !=       | Not equal to             |"
   ]
  },
  {
   "cell_type": "markdown",
   "metadata": {},
   "source": [
    "<hr>\n",
    "\n",
    "#### Question pause\n",
    "\n",
    "Time to check your understanding.\n",
    "Let's assume that yesterday it was 14°C, it is 10°C outside today, and tomorrow it will be 13°C.\n",
    "The following code compares these temperatures and prints something to the screen based on the comparison.\n",
    "\n",
    "```python\n",
    "yesterday = 14\n",
    "today = 10\n",
    "tomorrow = 13\n",
    "\n",
    "if yesterday <= today:\n",
    "    print('A')\n",
    "elif today != tomorrow:\n",
    "    print('B')\n",
    "elif yesterday > tomorrow:\n",
    "    print('C')\n",
    "elif today == today:\n",
    "    print('D')\n",
    "```\n",
    "\n",
    "Which of the letters `A`, `B`, `C`, and `D` would be printed to the screen?\n",
    "\n",
    "<hr>"
   ]
  },
  {
   "cell_type": "markdown",
   "metadata": {},
   "source": [
    "### Combining conditions\n",
    "\n",
    "We can also use `and` and `or` to have multiple conditions."
   ]
  },
  {
   "cell_type": "code",
   "execution_count": 5,
   "metadata": {},
   "outputs": [
    {
     "name": "stdout",
     "output_type": "stream",
     "text": [
      "One part is not true\n"
     ]
    }
   ],
   "source": [
    "if (1 > 0) and (-1 > 0):\n",
    "     print('Both parts are true')\n",
    "else:\n",
    "     print('One part is not true')"
   ]
  },
  {
   "cell_type": "code",
   "execution_count": 7,
   "metadata": {},
   "outputs": [
    {
     "name": "stdout",
     "output_type": "stream",
     "text": [
      "At least one test is true\n"
     ]
    }
   ],
   "source": [
    "if (1 < 0) or (-1 < 0):\n",
    "    print('At least one test is true')"
   ]
  },
  {
   "cell_type": "markdown",
   "metadata": {},
   "source": [
    "These are just simple examples, but concepts that can be quite handy."
   ]
  },
  {
   "cell_type": "markdown",
   "metadata": {},
   "source": [
    "#### Another familiar conditional scenario\n",
    "\n",
    "Again, making decisions based on multiple conditions is something we regularly do.\n",
    "Imagine that we consider not only the rain, but also whether or not it is windy.\n",
    "If it is windy and raining, we’ll just stay home.\n",
    "Otherwise, we need appropriate clothing to go out.\n",
    "We can again handle this kind of decision with Python.\n",
    "\n",
    "```python\n",
    "weather = 'Rain'\n",
    "wind = 'Windy'\n",
    "\n",
    "if (weather == 'Rain') and (wind == 'Windy'):\n",
    "     print('Just stay home')\n",
    "elif weather == 'Rain':\n",
    "     print('Wear a raincoat')\n",
    "else:\n",
    "     print('No raincoat needed')\n",
    "\n",
    "Just stay home\n",
    "```\n",
    "\n",
    "As you can see, we better just stay home if it is windy and raining."
   ]
  },
  {
   "cell_type": "markdown",
   "metadata": {},
   "source": [
    "# for loops\n",
    "\n",
    "## Basics of for loops\n",
    "\n",
    "Loops allow parts of code to be repeated some number of times.\n",
    "\n",
    "### A (bad) example\n",
    "\n",
    "Let’s consider an example. Suppose we want to take a word and print out each letter of the word separately. We could do the following:"
   ]
  },
  {
   "cell_type": "code",
   "execution_count": 11,
   "metadata": {},
   "outputs": [],
   "source": [
    "word = 'snow'"
   ]
  },
  {
   "cell_type": "code",
   "execution_count": 12,
   "metadata": {},
   "outputs": [
    {
     "name": "stdout",
     "output_type": "stream",
     "text": [
      "s\n"
     ]
    }
   ],
   "source": [
    "print(word[0])"
   ]
  },
  {
   "cell_type": "code",
   "execution_count": 13,
   "metadata": {},
   "outputs": [
    {
     "name": "stdout",
     "output_type": "stream",
     "text": [
      "n\n"
     ]
    }
   ],
   "source": [
    "print(word[1])"
   ]
  },
  {
   "cell_type": "code",
   "execution_count": 14,
   "metadata": {},
   "outputs": [
    {
     "name": "stdout",
     "output_type": "stream",
     "text": [
      "o\n"
     ]
    }
   ],
   "source": [
    "print(word[2])"
   ]
  },
  {
   "cell_type": "code",
   "execution_count": 15,
   "metadata": {},
   "outputs": [
    {
     "name": "stdout",
     "output_type": "stream",
     "text": [
      "w\n"
     ]
    }
   ],
   "source": [
    "print(word[3])"
   ]
  },
  {
   "cell_type": "markdown",
   "metadata": {},
   "source": [
    "But this is a bad idea. Why? Well there are two reasons.\n",
    "First, it does not scale nicely for long strings, and will take forever to type in.\n",
    "Second, it won’t work if the word is not 4 characters long."
   ]
  },
  {
   "cell_type": "code",
   "execution_count": 16,
   "metadata": {},
   "outputs": [],
   "source": [
    "word = 'ice'"
   ]
  },
  {
   "cell_type": "code",
   "execution_count": 17,
   "metadata": {},
   "outputs": [
    {
     "name": "stdout",
     "output_type": "stream",
     "text": [
      "i\n"
     ]
    }
   ],
   "source": [
    "print(word[0])"
   ]
  },
  {
   "cell_type": "code",
   "execution_count": 18,
   "metadata": {},
   "outputs": [
    {
     "name": "stdout",
     "output_type": "stream",
     "text": [
      "c\n"
     ]
    }
   ],
   "source": [
    "print(word[1])"
   ]
  },
  {
   "cell_type": "code",
   "execution_count": 19,
   "metadata": {},
   "outputs": [
    {
     "name": "stdout",
     "output_type": "stream",
     "text": [
      "e\n"
     ]
    }
   ],
   "source": [
    "print(word[2])"
   ]
  },
  {
   "cell_type": "code",
   "execution_count": 20,
   "metadata": {},
   "outputs": [
    {
     "ename": "IndexError",
     "evalue": "string index out of range",
     "output_type": "error",
     "traceback": [
      "\u001b[0;31m---------------------------------------------------------------------------\u001b[0m",
      "\u001b[0;31mIndexError\u001b[0m                                Traceback (most recent call last)",
      "\u001b[0;32m<ipython-input-20-929d2b055d22>\u001b[0m in \u001b[0;36m<module>\u001b[0;34m()\u001b[0m\n\u001b[0;32m----> 1\u001b[0;31m \u001b[0mprint\u001b[0m\u001b[0;34m(\u001b[0m\u001b[0mword\u001b[0m\u001b[0;34m[\u001b[0m\u001b[0;36m3\u001b[0m\u001b[0;34m]\u001b[0m\u001b[0;34m)\u001b[0m\u001b[0;34m\u001b[0m\u001b[0m\n\u001b[0m",
      "\u001b[0;31mIndexError\u001b[0m: string index out of range"
     ]
    }
   ],
   "source": [
    "print(word[3])"
   ]
  },
  {
   "cell_type": "markdown",
   "metadata": {},
   "source": [
    "### Introducing the for loop\n",
    "\n",
    "We could do a much better job by using a `for` loop."
   ]
  },
  {
   "cell_type": "code",
   "execution_count": 21,
   "metadata": {},
   "outputs": [],
   "source": [
    "word = 'snow'"
   ]
  },
  {
   "cell_type": "code",
   "execution_count": 22,
   "metadata": {},
   "outputs": [
    {
     "name": "stdout",
     "output_type": "stream",
     "text": [
      "s\n",
      "n\n",
      "o\n",
      "w\n"
     ]
    }
   ],
   "source": [
    "for char in word:\n",
    "    print(char)"
   ]
  },
  {
   "cell_type": "markdown",
   "metadata": {},
   "source": [
    "Not only is this shorter, but it is also more flexible.\n",
    "Try out a different word such as `freezing fog`.\n",
    "Still works, right?"
   ]
  },
  {
   "cell_type": "code",
   "execution_count": null,
   "metadata": {},
   "outputs": [],
   "source": []
  },
  {
   "cell_type": "markdown",
   "metadata": {},
   "source": [
    "### for loop format\n",
    "\n",
    "`for` loops in Python have the general form below.\n",
    "\n",
    "```python\n",
    "for variable in collection:\n",
    "        do things with variable\n",
    "```\n",
    "\n",
    "The `variable` can be any name you like, and the statement of the `for` loop must end with a `:`.\n",
    "The code that should be executed as part of the loop must be indented beneath the `for` loop statement, and the typical indentation is 4 spaces.\n",
    "There is no additional special word needed to end the loop, you simply change the indentation back to normal.\n",
    "`for` loops are useful to repeat some part of the code a *definite* number of times."
   ]
  },
  {
   "cell_type": "markdown",
   "metadata": {},
   "source": [
    "#### Your daily for loop\n",
    "\n",
    "Like many other programming concepts, the idea of looping through actions is something that is already perhaps more familiar to you than you think.\n",
    "Consider your actions during a given day.\n",
    "Many people have certain routines they follow each day, such as waking up, taking a shower, eating breakfast and brushing their teeth.\n",
    "In Python code, we might represent such actions as follows:\n",
    "\n",
    "```python\n",
    "for day in my_life:\n",
    "    wake_up()\n",
    "    take_shower()\n",
    "    eat_breakfast()\n",
    "    brush_teeth()\n",
    "    ...\n",
    "```\n",
    "            \n",
    "Note that `my_life` would be a list of the days of your life, and the actions you take are represented as functions, such as `wake_up()`.\n",
    "Furthermore, by following this kind of list of repeating actions we're able to start the day effectively even before the first cup of coffee :)."
   ]
  },
  {
   "cell_type": "markdown",
   "metadata": {},
   "source": [
    "### Another for loop example\n",
    "\n",
    "Let's consider another example."
   ]
  },
  {
   "cell_type": "code",
   "execution_count": 23,
   "metadata": {},
   "outputs": [],
   "source": [
    "length = 0\n",
    "for letter in 'blizzard':\n",
    "    length = length + 1"
   ]
  },
  {
   "cell_type": "code",
   "execution_count": 24,
   "metadata": {},
   "outputs": [
    {
     "name": "stdout",
     "output_type": "stream",
     "text": [
      "There are 8 letters\n"
     ]
    }
   ],
   "source": [
    "print('There are', length, 'letters')"
   ]
  },
  {
   "cell_type": "markdown",
   "metadata": {},
   "source": [
    "Can you follow what happens in this loop?\n",
    "\n",
    "### for loop variables\n",
    "\n",
    "Note that the variable used in the loop, `letter` in the case above is just a normal variable and still exists after the loop has completed with the final value given to letter."
   ]
  },
  {
   "cell_type": "code",
   "execution_count": 25,
   "metadata": {},
   "outputs": [
    {
     "name": "stdout",
     "output_type": "stream",
     "text": [
      "s\n",
      "l\n",
      "e\n",
      "e\n",
      "t\n"
     ]
    }
   ],
   "source": [
    "letter = 'x'\n",
    "for letter in 'sleet':\n",
    "    print(letter)"
   ]
  },
  {
   "cell_type": "code",
   "execution_count": 26,
   "metadata": {},
   "outputs": [
    {
     "name": "stdout",
     "output_type": "stream",
     "text": [
      "After the loop, letter is t\n"
     ]
    }
   ],
   "source": [
    "print('After the loop, letter is', letter)"
   ]
  },
  {
   "cell_type": "markdown",
   "metadata": {},
   "source": [
    "### for loops and lists\n",
    "\n",
    "A loop can be used to iterate over any list of values in Python.\n",
    "So far we have considered only character strings, but we could also write a loop that performs a calculation a specified number of times."
   ]
  },
  {
   "cell_type": "code",
   "execution_count": 27,
   "metadata": {},
   "outputs": [
    {
     "name": "stdout",
     "output_type": "stream",
     "text": [
      "0\n",
      "1\n",
      "2\n",
      "3\n",
      "4\n"
     ]
    }
   ],
   "source": [
    "for value in range(5):\n",
    "    print(value)"
   ]
  },
  {
   "cell_type": "markdown",
   "metadata": {},
   "source": [
    "What happens here?\n",
    "Well, in this case, we use a special function called `range()` to give us a list of 5 numbers `[0, 1, 2, 3, 4]` and then print each number in the list to the screen.\n",
    "When given a integer (whole number) as an argument, `range()` will produce a list of numbers with a length equal to the specified `number`.\n",
    "The list starts at `0` and ends with `number - 1`.\n",
    "You can learn a bit more about range by typing"
   ]
  },
  {
   "cell_type": "code",
   "execution_count": 28,
   "metadata": {},
   "outputs": [
    {
     "name": "stdout",
     "output_type": "stream",
     "text": [
      "Help on class range in module builtins:\n",
      "\n",
      "class range(object)\n",
      " |  range(stop) -> range object\n",
      " |  range(start, stop[, step]) -> range object\n",
      " |  \n",
      " |  Return an object that produces a sequence of integers from start (inclusive)\n",
      " |  to stop (exclusive) by step.  range(i, j) produces i, i+1, i+2, ..., j-1.\n",
      " |  start defaults to 0, and stop is omitted!  range(4) produces 0, 1, 2, 3.\n",
      " |  These are exactly the valid indices for a list of 4 elements.\n",
      " |  When step is given, it specifies the increment (or decrement).\n",
      " |  \n",
      " |  Methods defined here:\n",
      " |  \n",
      " |  __bool__(self, /)\n",
      " |      self != 0\n",
      " |  \n",
      " |  __contains__(self, key, /)\n",
      " |      Return key in self.\n",
      " |  \n",
      " |  __eq__(self, value, /)\n",
      " |      Return self==value.\n",
      " |  \n",
      " |  __ge__(self, value, /)\n",
      " |      Return self>=value.\n",
      " |  \n",
      " |  __getattribute__(self, name, /)\n",
      " |      Return getattr(self, name).\n",
      " |  \n",
      " |  __getitem__(self, key, /)\n",
      " |      Return self[key].\n",
      " |  \n",
      " |  __gt__(self, value, /)\n",
      " |      Return self>value.\n",
      " |  \n",
      " |  __hash__(self, /)\n",
      " |      Return hash(self).\n",
      " |  \n",
      " |  __iter__(self, /)\n",
      " |      Implement iter(self).\n",
      " |  \n",
      " |  __le__(self, value, /)\n",
      " |      Return self<=value.\n",
      " |  \n",
      " |  __len__(self, /)\n",
      " |      Return len(self).\n",
      " |  \n",
      " |  __lt__(self, value, /)\n",
      " |      Return self<value.\n",
      " |  \n",
      " |  __ne__(self, value, /)\n",
      " |      Return self!=value.\n",
      " |  \n",
      " |  __new__(*args, **kwargs) from builtins.type\n",
      " |      Create and return a new object.  See help(type) for accurate signature.\n",
      " |  \n",
      " |  __reduce__(...)\n",
      " |      helper for pickle\n",
      " |  \n",
      " |  __repr__(self, /)\n",
      " |      Return repr(self).\n",
      " |  \n",
      " |  __reversed__(...)\n",
      " |      Return a reverse iterator.\n",
      " |  \n",
      " |  count(...)\n",
      " |      rangeobject.count(value) -> integer -- return number of occurrences of value\n",
      " |  \n",
      " |  index(...)\n",
      " |      rangeobject.index(value, [start, [stop]]) -> integer -- return index of value.\n",
      " |      Raise ValueError if the value is not present.\n",
      " |  \n",
      " |  ----------------------------------------------------------------------\n",
      " |  Data descriptors defined here:\n",
      " |  \n",
      " |  start\n",
      " |  \n",
      " |  step\n",
      " |  \n",
      " |  stop\n",
      "\n"
     ]
    }
   ],
   "source": [
    "help(range)"
   ]
  },
  {
   "cell_type": "markdown",
   "metadata": {},
   "source": [
    "<hr>\n",
    "\n",
    "#### Question pause\n",
    "\n",
    "The program below will print numbers to the screen using the `range()` function.\n",
    "\n",
    "```python\n",
    "for i in range(...):\n",
    "    print(i)\n",
    "```\n",
    "\n",
    "Using the documentation that is produced when you run `help(range)`, what values would you replace the `...` in the parentheses of the `range()` function with to have the following output printed to the screen?\n",
    "\n",
    "```python\n",
    "2\n",
    "5\n",
    "8\n",
    "```\n",
    "\n",
    "<hr>\n",
    "\n",
    "### Calculating values in for loops\n",
    "\n",
    "Often when you use ``for`` loops, you are looping over the values in a list and either calculating a new value or modifying the existing values.\n",
    "Let's consider an example."
   ]
  },
  {
   "cell_type": "code",
   "execution_count": 29,
   "metadata": {},
   "outputs": [],
   "source": [
    "mylist = [0.0, 1.0, 2.0, 3.0, 4.0, 5.0]"
   ]
  },
  {
   "cell_type": "code",
   "execution_count": 30,
   "metadata": {},
   "outputs": [
    {
     "name": "stdout",
     "output_type": "stream",
     "text": [
      "[0.0, 1.0, 2.0, 3.0, 4.0, 5.0]\n"
     ]
    }
   ],
   "source": [
    "print(mylist)"
   ]
  },
  {
   "cell_type": "code",
   "execution_count": 31,
   "metadata": {},
   "outputs": [
    {
     "name": "stdout",
     "output_type": "stream",
     "text": [
      "[0.0, 2.0, 4.0, 6.0, 8.0, 10.0]\n"
     ]
    }
   ],
   "source": [
    "for i in range(6):\n",
    "    mylist[i] = mylist[i] + i\n",
    "print(mylist)"
   ]
  },
  {
   "cell_type": "markdown",
   "metadata": {},
   "source": [
    "So, what happened?\n",
    "We first create a list of 6 numbers.\n",
    "Then, we loop over 6 values using the `range()` function and add each value to the existing location in `mylist`.\n",
    "What would happen if we ran this for loop a second time?\n",
    "\n",
    "### Looping over the length of lists\n",
    "\n",
    "One of the drawbacks in the example above is that we need to know the length of the list before running that `for` loop example.\n",
    "However, we already know how to find the length of a list using the `len()` function, and we can take advantage of this knowledge to make our `for` loop more flexible."
   ]
  },
  {
   "cell_type": "code",
   "execution_count": 32,
   "metadata": {},
   "outputs": [
    {
     "name": "stdout",
     "output_type": "stream",
     "text": [
      "[0.0, 3.0, 6.0, 9.0, 12.0, 15.0]\n"
     ]
    }
   ],
   "source": [
    "for i in range(len(mylist)):\n",
    "    mylist[i] = mylist[i] + i\n",
    "print(mylist)"
   ]
  },
  {
   "cell_type": "markdown",
   "metadata": {},
   "source": [
    "We've done exactly what we had done in the previous example, but replaced the known length of the list `6` with use of the `len()` function to provide the list length.\n",
    "Now if we add or remove values in `mylist`, our code will still work as expected."
   ]
  },
  {
   "cell_type": "code",
   "execution_count": 33,
   "metadata": {},
   "outputs": [],
   "source": [
    "mylist.append(18.0)"
   ]
  },
  {
   "cell_type": "code",
   "execution_count": 34,
   "metadata": {},
   "outputs": [],
   "source": [
    "mylist.append(21.0)"
   ]
  },
  {
   "cell_type": "code",
   "execution_count": 35,
   "metadata": {},
   "outputs": [
    {
     "name": "stdout",
     "output_type": "stream",
     "text": [
      "[0.0, 3.0, 6.0, 9.0, 12.0, 15.0, 18.0, 21.0]\n"
     ]
    }
   ],
   "source": [
    "print(mylist)"
   ]
  },
  {
   "cell_type": "code",
   "execution_count": 36,
   "metadata": {},
   "outputs": [
    {
     "name": "stdout",
     "output_type": "stream",
     "text": [
      "[0.0, 4.0, 8.0, 12.0, 16.0, 20.0, 24.0, 28.0]\n"
     ]
    }
   ],
   "source": [
    "for i in range(len(mylist)):\n",
    "    mylist[i] = mylist[i] + i\n",
    "print(mylist)"
   ]
  },
  {
   "cell_type": "markdown",
   "metadata": {},
   "source": [
    "Using the `len()` function with `range()` to perform calcluations using list or array values is an *extremely* common operation in Python.\n",
    "\n",
    "<hr>\n",
    "\n",
    "#### Question pause\n",
    "\n",
    "What output would the following program produce?\n",
    "\n",
    "```python\n",
    "word = 'ice pellets'\n",
    "for i in range(len(word)):\n",
    "    print(word[i])\n",
    "```\n",
    "\n",
    "<hr>"
   ]
  }
 ],
 "metadata": {
  "kernelspec": {
   "display_name": "Python 3",
   "language": "python",
   "name": "python3"
  },
  "language_info": {
   "codemirror_mode": {
    "name": "ipython",
    "version": 3
   },
   "file_extension": ".py",
   "mimetype": "text/x-python",
   "name": "python",
   "nbconvert_exporter": "python",
   "pygments_lexer": "ipython3",
   "version": "3.7.3"
  }
 },
 "nbformat": 4,
 "nbformat_minor": 4
}
