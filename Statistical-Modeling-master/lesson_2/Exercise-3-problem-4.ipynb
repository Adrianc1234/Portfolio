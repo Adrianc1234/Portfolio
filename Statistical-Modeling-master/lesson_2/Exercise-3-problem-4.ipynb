{
 "cells": [
  {
   "cell_type": "markdown",
   "metadata": {},
   "source": [
    "## Extra Problem - Nested `for` loops\n",
    "\n",
    "In addition to having single `for` loops that iterate across some variable range, it is possible to *nest* `for` loops within one another.\n",
    "\n",
    "Consider the example below:\n",
    "\n",
    "```python\n",
    ">>> for char in 'dog':\n",
    "...     for char2 in 'cat':\n",
    "...         print (char, char2)\n",
    "    d c\n",
    "    d a\n",
    "    d t\n",
    "    o c\n",
    "    o a\n",
    "    o t\n",
    "    g c\n",
    "    g a\n",
    "    g t\n",
    "```\n",
    "\n",
    "Here, you can see that in the first pass through the first `for` loop, the value of `char` is `d`.\n",
    "Entering the inner (or nested) loop, `char2` is set to `c`.\n",
    "After this, the output is written to the screen and since there are more letters to loop over in the inner `for` loop, the value of `char2` will be updated upon the next pass.\n",
    "The second time through the inner loop, `char2` is set to `a` while `char` remains `d`.\n",
    "Like this, the inner loop will run through all of the letters in `cat` for each time that `char` is updated in the outer loop.\n",
    "It doesn't take too much imagination to figure out this is a very useful concept.\n",
    "\n",
    "For this problem you should do following:\n",
    "\n",
    "1. Create a variable `star` with text `\"*\"` and an empty string variable `text`. Recall, you can created empty string variables by assigning `\"\"` as their value.\n",
    "2. Use nested `for` loops and the variables above to produce the text formation below when `print(text)` is run at the end of your script.\n",
    "\n",
    "    ```\n",
    "    *******\n",
    "    *******\n",
    "    *******\n",
    "    ```\n",
    "3. Create a variable `line` with text `\"-\"` and an empty string variable `flag`.\n",
    "4. Use nested `for` loops and the variables above to produce the text formation below when `print(flag)` is run at the end of your script. **Note**: You will need to use conditional statements to produce the desired output.\n",
    "\n",
    "    ```\n",
    "    *******------------\n",
    "    *******------------\n",
    "    *******------------\n",
    "    -------------------\n",
    "    -------------------\n",
    "    ```\n"
   ]
  },
  {
   "cell_type": "markdown",
   "metadata": {},
   "source": [
    "- Your code for producing the asterix square:"
   ]
  },
  {
   "cell_type": "code",
   "execution_count": 9,
   "metadata": {},
   "outputs": [
    {
     "name": "stdout",
     "output_type": "stream",
     "text": [
      "*******\n",
      "*******\n",
      "*******\n",
      "\n"
     ]
    }
   ],
   "source": [
    "star=\"*\"\n",
    "text=\"\"\n",
    "#i made a variable to do a variable with \"*\" of 7 of long and 3 times\n",
    "for i in range(3):\n",
    "    for n in range(7):\n",
    "        text=text+star\n",
    "    text=text + \"\\n\"\n",
    "print(text)\n",
    "    \n",
    "    "
   ]
  },
  {
   "cell_type": "markdown",
   "metadata": {},
   "source": [
    "- Your code for producing the flag:"
   ]
  },
  {
   "cell_type": "code",
   "execution_count": 31,
   "metadata": {},
   "outputs": [
    {
     "name": "stdout",
     "output_type": "stream",
     "text": [
      "*******------------\n",
      "*******------------\n",
      "*******------------\n",
      "-------------------\n",
      "-------------------\n",
      "\n"
     ]
    }
   ],
   "source": [
    "star=\"*\"\n",
    "text=\"\"\n",
    "line=\"-\"\n",
    "value=\"\"\n",
    "flag=\"\"\n",
    "#i made the same above but this time after that i finish the 3 times, i made 2 lines with \"-\" and i added it at the first variable to print variable \"flag\" \n",
    "for i in range(3):\n",
    "    for n in range(19):\n",
    "        if n <=6: \n",
    "            text=text+star\n",
    "        if n >6:\n",
    "            text=text+line\n",
    "    text=text + \"\\n\"\n",
    "for i in range(2):\n",
    "    for n in range(19):\n",
    "        value=value+line\n",
    "    value=value +\"\\n\"\n",
    "flag=text+value\n",
    "print(flag)\n",
    "    \n",
    "    \n",
    "\n",
    "\n",
    "        \n",
    "            \n",
    "        \n",
    "       \n",
    "\n",
    "\n",
    "            \n",
    "    \n",
    "\n",
    "    "
   ]
  }
 ],
 "metadata": {
  "kernelspec": {
   "display_name": "Python 3",
   "language": "python",
   "name": "python3"
  },
  "language_info": {
   "codemirror_mode": {
    "name": "ipython",
    "version": 3
   },
   "file_extension": ".py",
   "mimetype": "text/x-python",
   "name": "python",
   "nbconvert_exporter": "python",
   "pygments_lexer": "ipython3",
   "version": "3.7.1"
  }
 },
 "nbformat": 4,
 "nbformat_minor": 4
}
