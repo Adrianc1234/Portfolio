{
 "cells": [
  {
   "cell_type": "markdown",
   "metadata": {},
   "source": [
    "## Problem 2 (*7 points*)\n",
    "\n",
    "In the last week's exercise (Problem 2) we practiced how to classify temperatures into four different classes (*i.e. cold, slippery, comfortable, warm*). Let's continue working with the same idea. Here, you should create a function that accepts a temperature value in Celsius that will be reclassified into integer numbers 0-3 based on following criteria:\n",
    "\n",
    " | Return value | Classification criteria                  |\n",
    " |---|-----------------------------------------------------|\n",
    " | 0 | temperatures below -2 degrees (Celsius)             |\n",
    " | 1 | temperatures equal or higher than -2 up to +2 degrees (Celsius)  |\n",
    " | 2 | temperatures equal or higher than +2 up to +15 degrees (Celsius)  |\n",
    " | 3 | temperatures equal or higher than +15 degrees (Celsius)            |\n",
    "\n",
    "\n",
    "You should do following (also criteria for grading):\n",
    "\n",
    "  - create a new function called `temp_classifier` **(1.0 points)**\n",
    "  - `temp_classifier` should have one parameter called `temp_celsius` **(1 points)**\n",
    "  - your function should reclassify the input temperature based on the criteria on the above table. **(2.0 points)**\n",
    "  - return the reclassified value as an integer number (i.e. number 0, 1, 2, or 3) **(1.0 points)**\n",
    "  - comment your code and add a docstring that explains how to use your `temp_classifier` function (i.e. you should write the purpose of the function, parameters, and return value(s)) **(1.0 points)**\n",
    "  - test and use your newly created function **(1.0 points)**"
   ]
  },
  {
   "cell_type": "code",
   "execution_count": 1,
   "metadata": {},
   "outputs": [
    {
     "name": "stdout",
     "output_type": "stream",
     "text": [
      "17.3\n"
     ]
    },
    {
     "data": {
      "text/plain": [
       "3"
      ]
     },
     "execution_count": 1,
     "metadata": {},
     "output_type": "execute_result"
    }
   ],
   "source": [
    "def temp_classifier(temp_celsius):\n",
    "    if(temp_celsius<-2):\n",
    "        return 0\n",
    "    if(temp_celsius>=-2 and temp_celsius< 2):\n",
    "        return 1\n",
    "    if(temp_celsius>=2 and temp_celsius< 15):\n",
    "        return 2\n",
    "    if(temp_celsius>=15):\n",
    "        return 3\n",
    "temp_celsius=float(input())\n",
    "temp_classifier(temp_celsius)"
   ]
  },
  {
   "cell_type": "markdown",
   "metadata": {},
   "source": [
    "**Test and use** your newly created function by finding the results for following questions (you need to write code that uses your function and returns answers):"
   ]
  },
  {
   "cell_type": "code",
   "execution_count": 2,
   "metadata": {},
   "outputs": [
    {
     "name": "stdout",
     "output_type": "stream",
     "text": [
      "3\n",
      "2\n"
     ]
    }
   ],
   "source": [
    "## 1. What is class value for 16.5 degrees (Celsius)?\n",
    "temp_celsius=16.5\n",
    "print(temp_classifier(temp_celsius))\n",
    "\n",
    "\n",
    "# 2. What is the class value for +2 degrees (Celsius)?\n",
    "temp_celsius=12.08\n",
    "print(temp_classifier(temp_celsius))"
   ]
  }
 ],
 "metadata": {
  "kernelspec": {
   "display_name": "Python 3",
   "language": "python",
   "name": "python3"
  },
  "language_info": {
   "codemirror_mode": {
    "name": "ipython",
    "version": 3
   },
   "file_extension": ".py",
   "mimetype": "text/x-python",
   "name": "python",
   "nbconvert_exporter": "python",
   "pygments_lexer": "ipython3",
   "version": "3.7.1"
  }
 },
 "nbformat": 4,
 "nbformat_minor": 4
}
