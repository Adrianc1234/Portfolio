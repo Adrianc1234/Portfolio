{
 "cells": [
  {
   "cell_type": "markdown",
   "metadata": {},
   "source": [
    "# Exercise 4: Classifying and converting temperatures\n",
    "\n",
    "The exercise for this week is meant to help you to understand how to use functions in Python.\n",
    "In this week's exercise you are asked to create a simple tool that converts temperatures from\n",
    "one temperature-type to another and then classify those temperatures into specific temperature classes.\n",
    "\n",
    "The answers to the questions in this week's exercise should be given by modifying the document in places where asked.\n",
    "\n",
    "- Scores on this exercise are out of 20 points.\n",
    "\n",
    "## Problem 1 - Simple temperature calculator (6 points)\n",
    "\n",
    "In the first problem your aim is to create a function that converts the input temperature from degrees Fahrenheit to degrees Celsius. Follow closely the instructions and use **exactly** the same variable, function, and parameter names as stated in the instructions because we use automatic grading to check your codes.\n",
    "\n",
    "Your code should do following (criteria for grading), :\n",
    "\n",
    "\n",
    "  - Create a function called `fahr_to_celsius` \n",
    "\n",
    "  - The function should have one input parameter called `temp_fahrenheit`\n",
    "\n",
    "  - Inside the function, create a variable called `converted_temp` to which you should assign the conversion result (i.e., the input Fahrenheit temperature converted to Celsius)\n",
    "\n",
    "  - The conversion formula from Fahrenheit to Celsius is:\n",
    "\n",
    "![](img/Fahrenheit_to_Celsius_formula.PNG)\n",
    "\n",
    "\n",
    "  - Return the converted value from the function back to the user\n",
    "  - Comment your code and add a docstring that explains how to use your `fahr_to_celsius` function (i.e., you should write the purpose of the function, parameters, and returned values)\n",
    "\n",
    "If everything in your script is working properly the following test case should work:\n",
    "\n",
    "  ```python\n",
    "  >>> print(\"32 degrees Fahrenheit in Celsius is:\", fahr_to_celsius(32))\n",
    "  32 degrees Fahrenheit in Celsius is: 0.0\n",
    "  ```"
   ]
  },
  {
   "cell_type": "code",
   "execution_count": 3,
   "metadata": {},
   "outputs": [
    {
     "name": "stdout",
     "output_type": "stream",
     "text": [
      "32 degrees Fahrenheit in celsius is: 0.0\n"
     ]
    }
   ],
   "source": [
    "def fahr_to_celsius(temp_farenheit):\n",
    "    \"\"\"\n",
    "    The function use the value of temp_farenheit=</int>\n",
    "    after that, it makes a operation to conver and give us\n",
    "    the result </float>.\n",
    "    \"\"\"\n",
    "    converted_temp=((temp_farenheit-32)/1.8)\n",
    "    return converted_temp\n",
    "\n",
    "#we give the value\n",
    "#we call at the function to use with the value\n",
    "temp_farenheit=32\n",
    "print(\"32 degrees Fahrenheit in celsius is:\",fahr_to_celsius(temp_farenheit))"
   ]
  },
  {
   "cell_type": "markdown",
   "metadata": {},
   "source": [
    "- **Test and use** your newly created function by finding the results for following questions (you need to write code that uses your function and returns answers):"
   ]
  },
  {
   "cell_type": "code",
   "execution_count": 4,
   "metadata": {},
   "outputs": [
    {
     "name": "stdout",
     "output_type": "stream",
     "text": [
      "48 degrees Fahrenheit in celsius is: 8.88888888888889\n",
      "71 degrees Fahrenheit in celsius is: 21.666666666666668\n"
     ]
    }
   ],
   "source": [
    "# 1. What is 48° Fahrenheit in Celsius? \n",
    "temp_farenheit=48\n",
    "print(\"48 degrees Fahrenheit in celsius is:\",fahr_to_celsius(temp_farenheit))\n",
    "\n",
    "# 2. What about 71° Fahrenheit in Celsius?\n",
    "temp_farenheit=71\n",
    "print(\"71 degrees Fahrenheit in celsius is:\",fahr_to_celsius(temp_farenheit))"
   ]
  }
 ],
 "metadata": {
  "kernelspec": {
   "display_name": "Python 3",
   "language": "python",
   "name": "python3"
  },
  "language_info": {
   "codemirror_mode": {
    "name": "ipython",
    "version": 3
   },
   "file_extension": ".py",
   "mimetype": "text/x-python",
   "name": "python",
   "nbconvert_exporter": "python",
   "pygments_lexer": "ipython3",
   "version": "3.7.1"
  }
 },
 "nbformat": 4,
 "nbformat_minor": 4
}
