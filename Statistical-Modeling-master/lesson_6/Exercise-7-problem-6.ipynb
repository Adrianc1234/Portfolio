{
 "cells": [
  {
   "cell_type": "markdown",
   "metadata": {},
   "source": [
    "## Problem 6 - Creating a GIF animation from the figures\n",
    "\n",
    "In Problems 3 to 5 the aim was to plot multiple images representing the temperature anomalies for different years between 1953 and 2016. \n",
    "\n",
    "An optional task was to create an animation out of those figures. Animating the figures generated in Problems 6 is fairly straightforward task to do in Python. All you need to do is to install a module called **`imageio`** and run couple lines of code that I show below.\n",
    "\n",
    "If you are working with your own computer, your first need to install imageio module. Installing the module can be done by running following command from the command prompt / terminal with admin rights:\n",
    "\n",
    "```\n",
    "$ conda install -c conda-forge imageio\n",
    "```\n",
    "\n",
    "### Creating the animation\n",
    "\n",
    "Following commands should produce a nice gif-animation out of your plots. The idea is that you list all the files from the folder where you saved the plots using glob function, and then pass that file list into imageio function called **`imageio.mimsave()**`. A following example shows how to do that.\n",
    "\n",
    "First we list all the files from folder that has **`.png`** file format using glob. The * wildcard character tells to computer that the name of the file can be anything (the purpose of the star). .png after the star tells that the filename should end with .png characters. If there are some other files with other file format than .png, they will be excluded. Finally, we create the animation into the computer.\n",
    "\n",
    "```\n",
    "import glob\n",
    "import imageio\n",
    "\n",
    "# Find all files from given folder that has .png file-format\n",
    "search_criteria = r\"C:\\MyUserName\\Temp_visualizations\\*.png\"\n",
    "\n",
    "# Execute the glob function that returns a list of filepaths\n",
    "figure_paths = glob.glob(search_criteria)\n",
    "\n",
    "# Save the animation to disk with 48 ms durations\n",
    "output_gif_path = r\"C:\\MyUserName\\Temp_animation.gif\"\n",
    "imageio.mimsave(output_gif_path, [imageio.imread(fp) for fp in figure_paths], duration=0.48, subrectangles=True)\n",
    "```\n",
    "\n",
    "With these lines of code you should be able to create a nice animation out of your plots!"
   ]
  },
  {
   "cell_type": "code",
   "execution_count": null,
   "metadata": {},
   "outputs": [],
   "source": []
  }
 ],
 "metadata": {
  "kernelspec": {
   "display_name": "Python 3",
   "language": "python",
   "name": "python3"
  },
  "language_info": {
   "codemirror_mode": {
    "name": "ipython",
    "version": 3
   },
   "file_extension": ".py",
   "mimetype": "text/x-python",
   "name": "python",
   "nbconvert_exporter": "python",
   "pygments_lexer": "ipython3",
   "version": "3.6.8"
  }
 },
 "nbformat": 4,
 "nbformat_minor": 4
}
