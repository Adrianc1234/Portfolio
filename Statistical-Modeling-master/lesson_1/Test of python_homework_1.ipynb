{
 "cells": [
  {
   "cell_type": "markdown",
   "metadata": {},
   "source": [
    "## Adrian Carmona_ Data 3\n"
   ]
  },
  {
   "cell_type": "markdown",
   "metadata": {},
   "source": [
    "## 3 of september"
   ]
  },
  {
   "cell_type": "markdown",
   "metadata": {},
   "source": [
    "## Test_Homework_1"
   ]
  },
  {
   "cell_type": "markdown",
   "metadata": {},
   "source": [
    "#### instruction"
   ]
  },
  {
   "cell_type": "raw",
   "metadata": {},
   "source": [
    "1. Open Jupyter lab and create a new notebook.\n",
    "\n",
    "2. Inside the notebook, create a character string variable called =name= and use it to store your first- and lastname in a single string.\n",
    "\n",
    "3. Create an integer variable called =iceCreamRating= and use it to store a number between 0 and 10 that reflects your general opinion about how much you enjoy eating ice cream.\n",
    "\n",
    "4. Create a float variable called =sleepingIndex= and use it to store a decimal number between 0.0 and 1.0 that reflects your opinion about how much you enjoy sleeping.\n",
    "\n",
    "5. Use your Python skills to generate output on the screen similar to that below using a single command typed into the IPython console.\n",
    "\n",
    "#+BEGIN_EXAMPLE\n",
    "My name is Dave Whipp and I give eating ice cream a score of 9 out of 10!\n",
    "I am Dave Whipp and my sleeping enjoyment index is 0.99 out of 1.0!\n",
    "#+END_EXAMPLE"
   ]
  },
  {
   "cell_type": "code",
   "execution_count": 2,
   "metadata": {},
   "outputs": [
    {
     "name": "stdout",
     "output_type": "stream",
     "text": [
      "please write your name and your last name: Adrian Carmona\n",
      "give me your opinion since 0 until 10, 10 is the better qualification: 8\n",
      "give me a number between 0.0 and 1.0, how much do you like to sleep?: 0.78\n",
      "\n",
      " My name is Adrian Carmona and I give eating ice cream a score of 8 out of 10!\n",
      " I am Adrian Carmona and my sleeping enjoyment index is 0.78 out of 1.0!\n"
     ]
    }
   ],
   "source": [
    "Name = input(\"please write your name and your last name: \")\n",
    "iceCreamRating= int(input(\"give me your opinion since 0 until 10, 10 is the better qualification: \"))\n",
    "sleepingIndex=float(input(\"give me a number between 0.0 and 1.0, how much do you like to sleep?: \"))\n",
    "print(\"\\n My name is \" + Name + \" and I give eating ice cream a score of \"+ str(iceCreamRating) + \" out of 10!\\n\"\n",
    "\" I am \" + Name + \" and my sleeping enjoyment index is \" + str(sleepingIndex) + \" out of 1.0!\")"
   ]
  }
 ],
 "metadata": {
  "kernelspec": {
   "display_name": "Python 3",
   "language": "python",
   "name": "python3"
  },
  "language_info": {
   "codemirror_mode": {
    "name": "ipython",
    "version": 3
   },
   "file_extension": ".py",
   "mimetype": "text/x-python",
   "name": "python",
   "nbconvert_exporter": "python",
   "pygments_lexer": "ipython3",
   "version": "3.7.3"
  }
 },
 "nbformat": 4,
 "nbformat_minor": 2
}
