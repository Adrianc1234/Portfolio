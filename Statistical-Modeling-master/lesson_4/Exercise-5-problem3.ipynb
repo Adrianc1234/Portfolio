{
 "cells": [
  {
   "cell_type": "markdown",
   "metadata": {},
   "source": [
    "## Problem 3 - Data analysis (5 points)\n",
    "\n",
    "In this problem the aim is to understand the differences between temperatures in Helsinki Kumpula and Rovaniemi. First, you need to import the csv files generated in the previous problem for `kumpula` and `rovaniemi`."
   ]
  },
  {
   "cell_type": "code",
   "execution_count": 1,
   "metadata": {},
   "outputs": [
    {
     "name": "stdout",
     "output_type": "stream",
     "text": [
      "      Unnamed: 0   USAF  YR--MODAHRMN  TEMP   MAX   MIN  celsius\n",
      "0           8770  29980  201705010000  37.0   NaN   NaN        3\n",
      "1           8771  29980  201705010100  37.0   NaN   NaN        3\n",
      "2           8772  29980  201705010200  37.0   NaN   NaN        3\n",
      "3           8773  29980  201705010300  37.0   NaN   NaN        3\n",
      "4           8774  29980  201705010400  39.0   NaN   NaN        4\n",
      "5           8775  29980  201705010500  41.0   NaN   NaN        5\n",
      "6           8776  29980  201705010600  44.0  44.0  35.0        7\n",
      "7           8777  29980  201705010700  45.0   NaN   NaN        7\n",
      "8           8778  29980  201705010800  48.0   NaN   NaN        9\n",
      "9           8779  29980  201705010900  51.0   NaN   NaN       11\n",
      "10          8780  29980  201705011000  52.0   NaN   NaN       11\n",
      "11          8781  29980  201705011100  51.0   NaN   NaN       11\n",
      "12          8782  29980  201705011200  54.0   NaN   NaN       12\n",
      "13          8783  29980  201705011300  49.0   NaN   NaN        9\n",
      "14          8784  29980  201705011400  50.0   NaN   NaN       10\n",
      "15          8785  29980  201705011500  52.0   NaN   NaN       11\n",
      "16          8786  29980  201705011600  50.0   NaN   NaN       10\n",
      "17          8787  29980  201705011700  52.0   NaN   NaN       11\n",
      "18          8788  29980  201705011800  48.0  54.0  43.0        9\n",
      "19          8789  29980  201705011900  48.0   NaN   NaN        9\n",
      "20          8790  29980  201705012000  46.0   NaN   NaN        8\n",
      "21          8791  29980  201705012100  44.0   NaN   NaN        7\n",
      "22          8792  29980  201705012200  42.0   NaN   NaN        6\n",
      "23          8793  29980  201705012300  39.0   NaN   NaN        4\n",
      "24          8794  29980  201705020000  38.0   NaN   NaN        3\n",
      "25          8795  29980  201705020100  36.0   NaN   NaN        2\n",
      "26          8796  29980  201705020200  36.0   NaN   NaN        2\n",
      "27          8797  29980  201705020300  35.0   NaN   NaN        2\n",
      "28          8798  29980  201705020400  40.0   NaN   NaN        4\n",
      "29          8799  29980  201705020500  46.0   NaN   NaN        8\n",
      "...          ...    ...           ...   ...   ...   ...      ...\n",
      "2894       11664  29980  201708301800  63.0  67.0  60.0       17\n",
      "2895       11665  29980  201708301900  62.0   NaN   NaN       17\n",
      "2896       11666  29980  201708302000  62.0   NaN   NaN       17\n",
      "2897       11667  29980  201708302100  62.0   NaN   NaN       17\n",
      "2898       11668  29980  201708302200  62.0   NaN   NaN       17\n",
      "2899       11669  29980  201708302300  61.0   NaN   NaN       16\n",
      "2900       11670  29980  201708310000  62.0   NaN   NaN       17\n",
      "2901       11671  29980  201708310100  61.0   NaN   NaN       16\n",
      "2902       11672  29980  201708310200  61.0   NaN   NaN       16\n",
      "2903       11673  29980  201708310300  60.0   NaN   NaN       16\n",
      "2904       11674  29980  201708310400  60.0   NaN   NaN       16\n",
      "2905       11675  29980  201708310500  60.0   NaN   NaN       16\n",
      "2906       11676  29980  201708310600  61.0  63.0  59.0       16\n",
      "2907       11677  29980  201708310700  61.0   NaN   NaN       16\n",
      "2908       11678  29980  201708310800  62.0   NaN   NaN       17\n",
      "2909       11679  29980  201708310900  62.0   NaN   NaN       17\n",
      "2910       11680  29980  201708311000  63.0   NaN   NaN       17\n",
      "2911       11681  29980  201708311100  63.0   NaN   NaN       17\n",
      "2912       11682  29980  201708311200  65.0   NaN   NaN       18\n",
      "2913       11683  29980  201708311300  66.0   NaN   NaN       19\n",
      "2914       11684  29980  201708311400  66.0   NaN   NaN       19\n",
      "2915       11685  29980  201708311500  66.0   NaN   NaN       19\n",
      "2916       11686  29980  201708311600  62.0   NaN   NaN       17\n",
      "2917       11687  29980  201708311700  62.0   NaN   NaN       17\n",
      "2918       11688  29980  201708311800  64.0  66.0  61.0       18\n",
      "2919       11689  29980  201708311900  64.0   NaN   NaN       18\n",
      "2920       11690  29980  201708312000  64.0   NaN   NaN       18\n",
      "2921       11691  29980  201708312100  64.0   NaN   NaN       18\n",
      "2922       11692  29980  201708312200  64.0   NaN   NaN       18\n",
      "2923       11693  29980  201708312300  64.0   NaN   NaN       18\n",
      "\n",
      "[2924 rows x 7 columns]\n",
      "      Unnamed: 0   USAF  YR--MODAHRMN  TEMP   MAX   MIN  celsius\n",
      "0              0  28450  201705010000  31.0   NaN   NaN       -1\n",
      "1              1  28450  201705010020  30.0   NaN   NaN       -1\n",
      "2              2  28450  201705010050  30.0   NaN   NaN       -1\n",
      "3              3  28450  201705010100  31.0   NaN   NaN       -1\n",
      "4              4  28450  201705010120  30.0   NaN   NaN       -1\n",
      "5              5  28450  201705010150  30.0   NaN   NaN       -1\n",
      "6              6  28450  201705010200  31.0   NaN   NaN       -1\n",
      "7              7  28450  201705010220  30.0   NaN   NaN       -1\n",
      "8              8  28450  201705010250  30.0   NaN   NaN       -1\n",
      "9              9  28450  201705010300  31.0   NaN   NaN       -1\n",
      "10            10  28450  201705010320  30.0   NaN   NaN       -1\n",
      "11            11  28450  201705010350  30.0   NaN   NaN       -1\n",
      "12            12  28450  201705010400  31.0   NaN   NaN       -1\n",
      "13            13  28450  201705010420  30.0   NaN   NaN       -1\n",
      "14            14  28450  201705010450  30.0   NaN   NaN       -1\n",
      "15            15  28450  201705010500  31.0   NaN   NaN       -1\n",
      "16            16  28450  201705010520  30.0   NaN   NaN       -1\n",
      "17            17  28450  201705010550  30.0   NaN   NaN       -1\n",
      "18            18  28450  201705010600  31.0  34.0  31.0       -1\n",
      "19            19  28450  201705010620  30.0   NaN   NaN       -1\n",
      "20            20  28450  201705010650  30.0   NaN   NaN       -1\n",
      "21            21  28450  201705010700  30.0   NaN   NaN       -1\n",
      "22            22  28450  201705010720  30.0   NaN   NaN       -1\n",
      "23            23  28450  201705010750  32.0   NaN   NaN        0\n",
      "24            24  28450  201705010800  32.0   NaN   NaN        0\n",
      "25            25  28450  201705010820  32.0   NaN   NaN        0\n",
      "26            26  28450  201705010850  34.0   NaN   NaN        1\n",
      "27            27  28450  201705010900  34.0   NaN   NaN        1\n",
      "28            28  28450  201705010920  34.0   NaN   NaN        1\n",
      "29            29  28450  201705010950  36.0   NaN   NaN        2\n",
      "...          ...    ...           ...   ...   ...   ...      ...\n",
      "8737        8740  28450  201708311400  62.0   NaN   NaN       17\n",
      "8738        8741  28450  201708311420  59.0   NaN   NaN       15\n",
      "8739        8742  28450  201708311450  59.0   NaN   NaN       15\n",
      "8740        8743  28450  201708311500  60.0   NaN   NaN       16\n",
      "8741        8744  28450  201708311520  59.0   NaN   NaN       15\n",
      "8742        8745  28450  201708311550  59.0   NaN   NaN       15\n",
      "8743        8746  28450  201708311600  59.0   NaN   NaN       15\n",
      "8744        8747  28450  201708311620  57.0   NaN   NaN       14\n",
      "8745        8748  28450  201708311650  57.0   NaN   NaN       14\n",
      "8746        8749  28450  201708311700  57.0   NaN   NaN       14\n",
      "8747        8750  28450  201708311720  55.0   NaN   NaN       13\n",
      "8748        8751  28450  201708311750  54.0   NaN   NaN       12\n",
      "8749        8752  28450  201708311800  55.0  63.0  51.0       13\n",
      "8750        8753  28450  201708311820  52.0   NaN   NaN       11\n",
      "8751        8754  28450  201708311850  52.0   NaN   NaN       11\n",
      "8752        8755  28450  201708311900  53.0   NaN   NaN       12\n",
      "8753        8756  28450  201708311920  52.0   NaN   NaN       11\n",
      "8754        8757  28450  201708311950  52.0   NaN   NaN       11\n",
      "8755        8758  28450  201708312000  52.0   NaN   NaN       11\n",
      "8756        8759  28450  201708312020  50.0   NaN   NaN       10\n",
      "8757        8760  28450  201708312050  50.0   NaN   NaN       10\n",
      "8758        8761  28450  201708312100  51.0   NaN   NaN       11\n",
      "8759        8762  28450  201708312120  48.0   NaN   NaN        9\n",
      "8760        8763  28450  201708312150  48.0   NaN   NaN        9\n",
      "8761        8764  28450  201708312200  48.0   NaN   NaN        9\n",
      "8762        8765  28450  201708312220  46.0   NaN   NaN        8\n",
      "8763        8766  28450  201708312250  46.0   NaN   NaN        8\n",
      "8764        8767  28450  201708312300  48.0   NaN   NaN        9\n",
      "8765        8768  28450  201708312320  46.0   NaN   NaN        8\n",
      "8766        8769  28450  201708312350  48.0   NaN   NaN        9\n",
      "\n",
      "[8767 rows x 7 columns]\n"
     ]
    }
   ],
   "source": [
    "# YOUR CODE HERE\n",
    "\"\"\"\n",
    "we use a variable to put inside whatever pandas read and we read the files. \n",
    "\"\"\"\n",
    "import pandas as pd\n",
    "kumpula= pd.read_csv('Kumpula_temps_May_Aug_2017.csv', sep=',' )\n",
    "print(kumpula)\n",
    "rovaniemi= pd.read_csv('Rovaniemi_temps_May_Aug_2017.csv', sep=',' )\n",
    "print(rovaniemi)"
   ]
  },
  {
   "cell_type": "markdown",
   "metadata": {},
   "source": [
    "**What was the median temperature during the observed period in:**\n",
    "  - Helsinki Kumpula? (store the answer in a variable `kumpula_median`)\n",
    "  - Rovaniemi? (store the answer in a variable `rovaniemi_median`)"
   ]
  },
  {
   "cell_type": "code",
   "execution_count": 2,
   "metadata": {},
   "outputs": [],
   "source": [
    "# YOUR CODE HERE\n",
    "\n",
    "\"\"\"\n",
    "we use the function mean to calculate the mean of a specific columns.\n",
    "\"\"\"\n",
    "kumpula_median=kumpula['TEMP'].mean()\n",
    "rovaniemi_median=rovaniemi['TEMP'].mean()\n"
   ]
  },
  {
   "cell_type": "code",
   "execution_count": 3,
   "metadata": {},
   "outputs": [
    {
     "name": "stdout",
     "output_type": "stream",
     "text": [
      "Kumpula median:  57.07079343365253\n",
      "Rovaniemi median:  50.63944336717235\n"
     ]
    }
   ],
   "source": [
    "#Print the answer:\n",
    "\"\"\"\n",
    "we print the answer.\n",
    "\"\"\"\n",
    "print(\"Kumpula median: \", kumpula_median)\n",
    "print(\"Rovaniemi median: \", rovaniemi_median)\n"
   ]
  },
  {
   "cell_type": "markdown",
   "metadata": {},
   "source": [
    "The median temperatures above consider data from quite long period of time (May-Aug), hence the differences might not be so clear.\n",
    "**Let's find out what were the mean temperatures in May and June in Kumpula and Rovaniemi:**\n",
    "\n",
    "- Select from `rovaniemi` and `kumpula` DataFrames such rows where values of the ``YR--MODAHRMN`` column are from May 2017\n",
    "and assign them into variables `rovaniemi_may` and `kumpula_may` (see hints for help)\n",
    "- Repeat the procedure for the month of June and assign those values into variables `rovaniemi_june` and `kumpula_june`\n",
    "\n",
    "\n"
   ]
  },
  {
   "cell_type": "code",
   "execution_count": 15,
   "metadata": {},
   "outputs": [],
   "source": [
    "#Part 2\n",
    "#Take subset of the Kumpula and Rovaniemi data with the 5th and 6th month\n",
    "# YOUR CODE HERE\n",
    "\"\"\"\n",
    "we assign the values of may with the function .loc putting the specific range to select only may for both files.\n",
    "\"\"\"\n",
    "rovaniemi_may=rovaniemi.loc[(rovaniemi['YR--MODAHRMN']>=20170501000) & (rovaniemi['YR--MODAHRMN'] < 201706010000)]\n",
    "kumpula_may=kumpula.loc[(kumpula['YR--MODAHRMN']>=20170501000) & (kumpula['YR--MODAHRMN'] < 201706010000)]\n",
    "\n",
    "\n"
   ]
  },
  {
   "cell_type": "markdown",
   "metadata": {},
   "source": [
    "**Print the mean, min and max temperatures for both places in May and June** using the new subset dataframes (`rovaniemi_may`,`kumpula_may`,`rovaniemi_june` and `kumpula_june`)."
   ]
  },
  {
   "cell_type": "code",
   "execution_count": 27,
   "metadata": {},
   "outputs": [
    {
     "name": "stdout",
     "output_type": "stream",
     "text": [
      "rovaniemi_Mean_may:  37.38513513513514\n",
      "rovaniemi_Max_may:  59.0\n",
      "rovaniemi_Min_may:  20.0 \n",
      "\n",
      "rovaniemi_Mean_june:  44.45548654244306\n",
      "rovaniemi_Max_june:  74.0\n",
      "rovaniemi_Min_june:  20.0\n"
     ]
    }
   ],
   "source": [
    "# YOUR CODE HERE\n",
    "\"\"\"\n",
    "we use the same function(.loc)to check select only may and june in diferentes variable and we use .mean() .max() .min()\n",
    "to check the mean of the row temp and the others to chek the max and the min in the table only in those months.\n",
    "\"\"\"\n",
    "#rovaniemi_may\n",
    "rovaniemi_may=rovaniemi.loc[(rovaniemi['YR--MODAHRMN'] >= 20170501000) & (rovaniemi['YR--MODAHRMN'] < 201706010000)]\n",
    "mean_may=rovaniemi_may['TEMP'].mean()\n",
    "max_may=rovaniemi_may['MAX'].max()\n",
    "min_may=rovaniemi_may['MIN'].min()\n",
    "print(\"rovaniemi_Mean_may: \", mean_may)\n",
    "print(\"rovaniemi_Max_may: \", max_may)\n",
    "print(\"rovaniemi_Min_may: \", min_may, \"\\n\")\n",
    "#rovaniemi_june\n",
    "rovaniemi_june=rovaniemi.loc[(rovaniemi['YR--MODAHRMN']>=20170601000) & (rovaniemi['YR--MODAHRMN'] < 201707010000)]\n",
    "mean_june=rovaniemi_june['TEMP'].mean()\n",
    "max_june=rovaniemi_june['MAX'].max()\n",
    "min_june=rovaniemi_june['MIN'].min()\n",
    "print(\"rovaniemi_Mean_june: \", mean_june)\n",
    "print(\"rovaniemi_Max_june: \", max_june)\n",
    "print(\"rovaniemi_Min_june: \", min_june)"
   ]
  },
  {
   "cell_type": "code",
   "execution_count": 28,
   "metadata": {},
   "outputs": [
    {
     "name": "stdout",
     "output_type": "stream",
     "text": [
      "kumpula_Mean_may:  49.56410256410256\n",
      "kumpula_Max_may:  73.0\n",
      "kumpula_Min_may:  28.0 \n",
      "\n",
      "kumpula_Mean_june:  53.083161512027495\n",
      "kumpula_Max_june:  76.0\n",
      "kumpula_Min_june:  28.0\n"
     ]
    }
   ],
   "source": [
    "#kumpula_may\n",
    "kumpula_may=kumpula.loc[(kumpula['YR--MODAHRMN'] >= 20170501000) & (kumpula['YR--MODAHRMN'] < 201706010000)]\n",
    "mean_may=kumpula_may['TEMP'].mean()\n",
    "max_may=kumpula_may['MAX'].max()\n",
    "min_may=kumpula_may['MIN'].min()\n",
    "print(\"kumpula_Mean_may: \", mean_may)\n",
    "print(\"kumpula_Max_may: \", max_may)\n",
    "print(\"kumpula_Min_may: \", min_may, \"\\n\")\n",
    "#kumpula_june\n",
    "kumpula_june=kumpula.loc[(kumpula['YR--MODAHRMN']>=20170601000) & (kumpula['YR--MODAHRMN'] < 201707010000)]\n",
    "mean_june=kumpula_june['TEMP'].mean()\n",
    "max_june=kumpula_june['MAX'].max()\n",
    "min_june=kumpula_june['MIN'].min()\n",
    "print(\"kumpula_Mean_june: \", mean_june)\n",
    "print(\"kumpula_Max_june: \", max_june)\n",
    "print(\"kumpula_Min_june: \", min_june)"
   ]
  },
  {
   "cell_type": "markdown",
   "metadata": {},
   "source": [
    "In the spirit of [knowledge discovery](http://researcher.ibm.com/researcher/view_group.php?id=144), let's briefly interpret the results of this data analysis. Justify your answers to the following questions based on the data analysis results from this exercise (edit this markdown cell to add your answers):\n",
    "\n",
    "- Does there seem to be large difference in temperatures between the months?\n",
    "- Is Rovaniemi much colder place than Kumpula?\n",
    "\n",
    "Finally:\n",
    "- Check that you have commented your code\n",
    "- Check that you have used the suggested names for variables in this exercise (important for grading!)"
   ]
  },
  {
   "cell_type": "markdown",
   "metadata": {},
   "source": [
    "YOUR ANSWER HERE"
   ]
  }
 ],
 "metadata": {
  "kernelspec": {
   "display_name": "Python 3",
   "language": "python",
   "name": "python3"
  },
  "language_info": {
   "codemirror_mode": {
    "name": "ipython",
    "version": 3
   },
   "file_extension": ".py",
   "mimetype": "text/x-python",
   "name": "python",
   "nbconvert_exporter": "python",
   "pygments_lexer": "ipython3",
   "version": "3.7.1"
  }
 },
 "nbformat": 4,
 "nbformat_minor": 4
}
