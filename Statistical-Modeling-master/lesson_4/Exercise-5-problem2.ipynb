{
 "cells": [
  {
   "cell_type": "markdown",
   "metadata": {},
   "source": [
    "## Problem 2a - Data manipulation (5 points)\n",
    "\n",
    "Similarly as in earlier exercises the temperatures in our data are represented in Fahrenheit, hence,\n",
    "you need to convert the temperatures into Celsius.\n",
    "\n",
    "\n",
    "First, read again  the data from '6153237444115dat.csv' into a varaible `data` (you can copy your code from problem 1 here):"
   ]
  },
  {
   "cell_type": "code",
   "execution_count": 1,
   "metadata": {},
   "outputs": [
    {
     "name": "stdout",
     "output_type": "stream",
     "text": [
      "    USAF   WBAN  YR--MODAHRMN    DIR   SPD   GUS  CLG  SKC   L   M  ...   \\\n",
      "0  28450  99999  201705010000  174.0  10.0  14.0  NaN  NaN NaN NaN  ...    \n",
      "1  28450  99999  201705010020  180.0  10.0   NaN  4.0  NaN NaN NaN  ...    \n",
      "2  28450  99999  201705010050  190.0  10.0   NaN  4.0  NaN NaN NaN  ...    \n",
      "3  28450  99999  201705010100  188.0  12.0  16.0  NaN  NaN NaN NaN  ...    \n",
      "4  28450  99999  201705010120  200.0  13.0   NaN  2.0  OBS NaN NaN  ...    \n",
      "\n",
      "      SLP    ALT    STP  MAX  MIN  PCP01  PCP06  PCP24  PCPXX    SD  \n",
      "0  1009.2    NaN  984.1  NaN  NaN    NaN    NaN    NaN    NaN  35.0  \n",
      "1     NaN  29.74    NaN  NaN  NaN    NaN    NaN    NaN    NaN   NaN  \n",
      "2     NaN  29.74    NaN  NaN  NaN    NaN    NaN    NaN    NaN   NaN  \n",
      "3  1009.1    NaN  984.0  NaN  NaN    NaN    NaN    NaN    NaN  35.0  \n",
      "4     NaN  29.74    NaN  NaN  NaN    NaN    NaN    NaN    NaN   NaN  \n",
      "\n",
      "[5 rows x 33 columns]\n"
     ]
    }
   ],
   "source": [
    "\"\"\"\n",
    "we use read the data with panda.\n",
    "\"\"\"\n",
    "# Import pandas and read in data from csv\n",
    "# YOUR CODE HERE\n",
    "import pandas as pd\n",
    "data= pd.read_csv(\"data/6153237444115dat.csv\", sep=',',na_values=['*', '**', '***', '****', '*****', '******'] )\n",
    "print(data.head())\n"
   ]
  },
  {
   "cell_type": "markdown",
   "metadata": {},
   "source": [
    "**Subset data and remove no data values** (2.5 points)\n",
    "\n",
    "In the codeblock below:\n",
    " - Create a new variable `selected`\n",
    " - Select from the `data` columns `USAF, YR--MODAHRMN, TEMP, MAX, MIN` and assign them into the new variable `selected`\n",
    " - Remove all rows from `selected` that has NoData in column `TEMP` using the `dropna()` -function"
   ]
  },
  {
   "cell_type": "code",
   "execution_count": 4,
   "metadata": {},
   "outputs": [],
   "source": [
    "# YOUR CODE HERE\n",
    "\"\"\"\n",
    "we assign the rows with specific names that you want to put insite of this variable and use subset to delete the values that do not exist\n",
    "\"\"\"\n",
    "selected=data[['USAF', 'YR--MODAHRMN', 'TEMP', 'MAX', 'MIN']]\n",
    "selected=selected.dropna(subset=['TEMP'])"
   ]
  },
  {
   "cell_type": "code",
   "execution_count": 5,
   "metadata": {},
   "outputs": [
    {
     "name": "stdout",
     "output_type": "stream",
     "text": [
      "    USAF  YR--MODAHRMN  TEMP  MAX  MIN\n",
      "0  28450  201705010000  31.0  NaN  NaN\n",
      "1  28450  201705010020  30.0  NaN  NaN\n",
      "2  28450  201705010050  30.0  NaN  NaN\n",
      "3  28450  201705010100  31.0  NaN  NaN\n",
      "4  28450  201705010120  30.0  NaN  NaN\n",
      "11691\n"
     ]
    }
   ],
   "source": [
    "# Check your dataframe (for example using the head() and len() -functions)\n",
    "print(selected.head())\n",
    "print(len(selected))"
   ]
  },
  {
   "cell_type": "markdown",
   "metadata": {},
   "source": [
    "**Convert fahrenheit to celsius** (2.5 points)\n",
    "- Create a new column `Celsius`\n",
    "- Convert the Fahrenheit temperatures from `TEMP` using the conversion formula (below) and store the results in the new `Celsius`column.\n",
    " ![formula](img/Fahrenheit_to_Celsius_formula.PNG)\n",
    " - Round the values in the `Celsius` column to have 0 decimals (**don't** create a new column --> update the current one)\n",
    " - Convert the `Celsius` values into integers (**don't** create a new column --> update the current one)\n",
    "\n"
   ]
  },
  {
   "cell_type": "code",
   "execution_count": 11,
   "metadata": {},
   "outputs": [],
   "source": [
    "# YOUR CODE HERE\n",
    "\"\"\"\n",
    "we use the values of the temp row to do the mathematical operation and after that we put those results in other column.\n",
    "we round the values that are in the new row and we assign for those values the \"int\" type.\n",
    "\"\"\"\n",
    "selected['celsius']=(selected['TEMP']-32)/1.8\n",
    "selected['celsius']=selected['celsius'].round(0).astype(int)"
   ]
  },
  {
   "cell_type": "code",
   "execution_count": 12,
   "metadata": {},
   "outputs": [
    {
     "data": {
      "text/html": [
       "<div>\n",
       "<style scoped>\n",
       "    .dataframe tbody tr th:only-of-type {\n",
       "        vertical-align: middle;\n",
       "    }\n",
       "\n",
       "    .dataframe tbody tr th {\n",
       "        vertical-align: top;\n",
       "    }\n",
       "\n",
       "    .dataframe thead th {\n",
       "        text-align: right;\n",
       "    }\n",
       "</style>\n",
       "<table border=\"1\" class=\"dataframe\">\n",
       "  <thead>\n",
       "    <tr style=\"text-align: right;\">\n",
       "      <th></th>\n",
       "      <th>USAF</th>\n",
       "      <th>YR--MODAHRMN</th>\n",
       "      <th>TEMP</th>\n",
       "      <th>MAX</th>\n",
       "      <th>MIN</th>\n",
       "      <th>celsius</th>\n",
       "    </tr>\n",
       "  </thead>\n",
       "  <tbody>\n",
       "    <tr>\n",
       "      <th>0</th>\n",
       "      <td>28450</td>\n",
       "      <td>201705010000</td>\n",
       "      <td>31.0</td>\n",
       "      <td>NaN</td>\n",
       "      <td>NaN</td>\n",
       "      <td>-1</td>\n",
       "    </tr>\n",
       "    <tr>\n",
       "      <th>1</th>\n",
       "      <td>28450</td>\n",
       "      <td>201705010020</td>\n",
       "      <td>30.0</td>\n",
       "      <td>NaN</td>\n",
       "      <td>NaN</td>\n",
       "      <td>-1</td>\n",
       "    </tr>\n",
       "    <tr>\n",
       "      <th>2</th>\n",
       "      <td>28450</td>\n",
       "      <td>201705010050</td>\n",
       "      <td>30.0</td>\n",
       "      <td>NaN</td>\n",
       "      <td>NaN</td>\n",
       "      <td>-1</td>\n",
       "    </tr>\n",
       "    <tr>\n",
       "      <th>3</th>\n",
       "      <td>28450</td>\n",
       "      <td>201705010100</td>\n",
       "      <td>31.0</td>\n",
       "      <td>NaN</td>\n",
       "      <td>NaN</td>\n",
       "      <td>-1</td>\n",
       "    </tr>\n",
       "    <tr>\n",
       "      <th>4</th>\n",
       "      <td>28450</td>\n",
       "      <td>201705010120</td>\n",
       "      <td>30.0</td>\n",
       "      <td>NaN</td>\n",
       "      <td>NaN</td>\n",
       "      <td>-1</td>\n",
       "    </tr>\n",
       "  </tbody>\n",
       "</table>\n",
       "</div>"
      ],
      "text/plain": [
       "    USAF  YR--MODAHRMN  TEMP  MAX  MIN  celsius\n",
       "0  28450  201705010000  31.0  NaN  NaN       -1\n",
       "1  28450  201705010020  30.0  NaN  NaN       -1\n",
       "2  28450  201705010050  30.0  NaN  NaN       -1\n",
       "3  28450  201705010100  31.0  NaN  NaN       -1\n",
       "4  28450  201705010120  30.0  NaN  NaN       -1"
      ]
     },
     "execution_count": 12,
     "metadata": {},
     "output_type": "execute_result"
    }
   ],
   "source": [
    "# Check your dataframe\n",
    "selected.head()\n"
   ]
  },
  {
   "cell_type": "markdown",
   "metadata": {},
   "source": [
    "## Problem 2b - Data selection (5 points)\n",
    "\n",
    "In this problem you should divide the data into separate subsets for different stations and save those DataFrames into csv files.\n",
    "\n",
    "**Divide the selection into two separate datasets:** (2.5 points)\n",
    "  - Select all rows from `selected` DataFrame into variable called `kumpula` where the `USAF` code is `29980`\n",
    "  - Select all rows from `selected` DataFrame into variable called `rovaniemi` where the `USAF` code is `28450`\n",
    "  \n",
    "Please use the given variable names and write your answer to the codeblock below."
   ]
  },
  {
   "cell_type": "code",
   "execution_count": 17,
   "metadata": {},
   "outputs": [],
   "source": [
    "# YOUR CODE HERE\n",
    "\"\"\"\n",
    "we use the .loc function to select the values that have a specific value, It can be int, float, str.\n",
    "\"\"\"\n",
    "kumpula= selected.loc[selected['USAF']== 29980]\n",
    "rovaniemi= selected.loc[selected['USAF']== 28450]"
   ]
  },
  {
   "cell_type": "code",
   "execution_count": 18,
   "metadata": {},
   "outputs": [
    {
     "name": "stdout",
     "output_type": "stream",
     "text": [
      "Kumpula: \n",
      "        USAF  YR--MODAHRMN  TEMP  MAX  MIN  celsius\n",
      "8770  29980  201705010000  37.0  NaN  NaN        3\n",
      "8771  29980  201705010100  37.0  NaN  NaN        3\n",
      "8772  29980  201705010200  37.0  NaN  NaN        3\n",
      "8773  29980  201705010300  37.0  NaN  NaN        3\n",
      "8774  29980  201705010400  39.0  NaN  NaN        4 \n",
      "\n",
      "Rovaniemi: \n",
      "     USAF  YR--MODAHRMN  TEMP  MAX  MIN  celsius\n",
      "0  28450  201705010000  31.0  NaN  NaN       -1\n",
      "1  28450  201705010020  30.0  NaN  NaN       -1\n",
      "2  28450  201705010050  30.0  NaN  NaN       -1\n",
      "3  28450  201705010100  31.0  NaN  NaN       -1\n",
      "4  28450  201705010120  30.0  NaN  NaN       -1 \n",
      "\n"
     ]
    }
   ],
   "source": [
    "# Check the dataframes (you don't need to modify this cell)\n",
    "print(\"Kumpula: \\n\", kumpula.head(), \"\\n\")\n",
    "print(\"Rovaniemi: \\n\", rovaniemi.head(), \"\\n\")\n"
   ]
  },
  {
   "cell_type": "markdown",
   "metadata": {},
   "source": [
    "**Save selections to csv files** (2.5 points)\n",
    "- Save `kumpula` DataFrame into `Kumpula_temps_May_Aug_2017.csv` file (CSV format) \n",
    "   - separate the columns with  comma (`,`)\n",
    "   - use only 2 decimals in the floating point numbers\n",
    "- Save `rovaniemi` DataFrame into `Rovaniemi_temps_May_Aug_2017.csv` file (CSV format) \n",
    "   - separate the columns with comma (`,`)\n",
    "   - use only 2 decimals in the floating point numbers\n"
   ]
  },
  {
   "cell_type": "code",
   "execution_count": 19,
   "metadata": {},
   "outputs": [],
   "source": [
    "# YOUR CODE HERE\n",
    "\"\"\"\n",
    "we make two files to save ours results.\n",
    "\"\"\"\n",
    "kumpula.to_csv(\"Kumpula_temps_May_Aug_2017.csv\", sep=',')\n",
    "rovaniemi.to_csv(\"Rovaniemi_temps_May_Aug_2017.csv\", sep=',')"
   ]
  }
 ],
 "metadata": {
  "kernelspec": {
   "display_name": "Python 3",
   "language": "python",
   "name": "python3"
  },
  "language_info": {
   "codemirror_mode": {
    "name": "ipython",
    "version": 3
   },
   "file_extension": ".py",
   "mimetype": "text/x-python",
   "name": "python",
   "nbconvert_exporter": "python",
   "pygments_lexer": "ipython3",
   "version": "3.7.3"
  }
 },
 "nbformat": 4,
 "nbformat_minor": 4
}
