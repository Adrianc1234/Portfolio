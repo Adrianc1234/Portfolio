{
 "cells": [
  {
   "cell_type": "code",
   "execution_count": 1,
   "metadata": {},
   "outputs": [
    {
     "name": "stdin",
     "output_type": "stream",
     "text": [
      "Give me the name to register:  Adrian\n",
      "Give me the last name to register:  with_mask\n"
     ]
    },
    {
     "name": "stdout",
     "output_type": "stream",
     "text": [
      "base de datos personal creada:  /home/karatsi/Documents/mini project/db/Adrian_With_mask\n",
      "/home/karatsi/Documents/mini project/db/Adrian_With_mask\n",
      "Lista de personas:  ['Adrian_Carmona', '.ipynb_checkpoints', 'Pablo_Duarte', 'Adrian_With_mask']\n",
      "Leyendo las imágenes of Adrian_Carmona\n",
      "Amount labeled: 1\n",
      "Leyendo las imágenes of .ipynb_checkpoints\n",
      "Amount labeled: 2\n",
      "Leyendo las imágenes of Pablo_Duarte\n",
      "Amount labeled: 3\n",
      "Leyendo las imágenes of Adrian_With_mask\n",
      "Amount labeled: 4\n"
     ]
    }
   ],
   "source": [
    "#code to save pictures and save it.\n",
    "import cv2\n",
    "import os\n",
    "import imutils\n",
    "import shutil\n",
    "import functions as func\n",
    "import numpy as np\n",
    "\n",
    "#making the database folder\n",
    "DataBasePath  = func.make_db()\n",
    "\n",
    "#making name to create the folder\n",
    "personName = func.make_name()\n",
    "\n",
    "#making the folder\n",
    "personPath = func.make_pdb(DataBasePath,personName)\n",
    "print(personPath)\n",
    "\n",
    "#chacking if the folder exist & creating a sample\n",
    "if len(os.listdir(personPath)) == 0 & os.path.exists(personPath) == False:\n",
    "    func.make_sample(personPath)\n",
    "elif os.path.exists(personPath) == True :\n",
    "    print(\"This directory already exist\")\n",
    "    \n",
    "#making the training\n",
    "labels,facesData = func.train(DataBasePath,personPath)"
   ]
  },
  {
   "cell_type": "code",
   "execution_count": 2,
   "metadata": {},
   "outputs": [
    {
     "name": "stdout",
     "output_type": "stream",
     "text": [
      "Entrenando...\n",
      "Modelo almacenado...\n"
     ]
    }
   ],
   "source": [
    "# Métodos para entrenar el reconocedor\n",
    "face_recognizer = cv2.face.EigenFaceRecognizer_create()\n",
    "face_recognizer = cv2.face.FisherFaceRecognizer_create()\n",
    "face_recognizer = cv2.face.LBPHFaceRecognizer_create()\n",
    "\n",
    "# Entrenando el reconocedor de rostros\n",
    "print(\"Entrenando...\")\n",
    "face_recognizer.train(facesData, np.array(labels))\n",
    "\n",
    "# Almacenando el modelo obtenido\n",
    "face_recognizer.write('modeloEigenFace.xml')\n",
    "face_recognizer.write('modeloFisherFace.xml')\n",
    "face_recognizer.write('modeloLBPHFace.xml')\n",
    "print(\"Modelo almacenado...\")"
   ]
  },
  {
   "cell_type": "code",
   "execution_count": 6,
   "metadata": {},
   "outputs": [
    {
     "name": "stdout",
     "output_type": "stream",
     "text": [
      "imagePaths= ['Adrian_Carmona', '.ipynb_checkpoints', 'Pablo_Duarte']\n"
     ]
    }
   ],
   "source": [
    "imagePaths = os.listdir(DataBasePath)\n",
    "print('imagePaths=',imagePaths)\n",
    "#face_recognizer = cv2.face.EigenFaceRecognizer_create()\n",
    "#face_recognizer = cv2.face.FisherFaceRecognizer_create()\n",
    "face_recognizer = cv2.face.LBPHFaceRecognizer_create()\n",
    "\n",
    "# Leyendo el modelo\n",
    "#face_recognizer.read('modeloEigenFace.xml')\n",
    "#face_recognizer.read('modeloFisherFace.xml')\n",
    "face_recognizer.read('modeloLBPHFace.xml')\n",
    "#cap = cv2.VideoCapture(0,cv2.CAP_DSHOW)\n",
    "#cap = cv2.VideoCapture('Video.mp4')\n",
    "cap = cv2.VideoCapture(0)\n",
    "faceClassif = cv2.CascadeClassifier(cv2.data.haarcascades+'haarcascade_frontalface_default.xml')\n",
    "\n",
    "while True:\n",
    "    ret,frame = cap.read()\n",
    "    if ret == False: break\n",
    "    gray = cv2.cvtColor(frame, cv2.COLOR_BGR2GRAY)\n",
    "    auxFrame = gray.copy()\n",
    "    faces = faceClassif.detectMultiScale(gray,1.3,5)\n",
    "    for (x,y,w,h) in faces:\n",
    "        rostro = auxFrame[y:y+h,x:x+w]\n",
    "        rostro = cv2.resize(rostro,(150,150),interpolation= cv2.INTER_CUBIC)\n",
    "        result = face_recognizer.predict(rostro)\n",
    "        cv2.putText(frame,'{}'.format(result),(x,y-5),1,1.3,(255,255,0),1,cv2.LINE_AA)\n",
    "        \n",
    "        '''\n",
    "        #EigenFaces\n",
    "        if result[1] < 5700:\n",
    "            cv2.putText(frame,'{}'.format(imagePaths[result[0]]),(x,y-25),2,1.1,(0,255,0),1,cv2.LINE_AA)\n",
    "            cv2.rectangle(frame, (x,y),(x+w,y+h),(0,255,0),2)\n",
    "        else:\n",
    "            cv2.putText(frame,'Desconocido',(x,y-20),2,0.8,(0,0,255),1,cv2.LINE_AA)\n",
    "            cv2.rectangle(frame, (x,y),(x+w,y+h),(0,0,255),2)\n",
    "        \n",
    "        # FisherFace\n",
    "        if result[1] < 500:\n",
    "            cv2.putText(frame,'{}'.format(imagePaths[result[0]]),(x,y-25),2,1.1,(0,255,0),1,cv2.LINE_AA)\n",
    "            cv2.rectangle(frame, (x,y),(x+w,y+h),(0,255,0),2)\n",
    "        else:\n",
    "            cv2.putText(frame,'Desconocido',(x,y-20),2,0.8,(0,0,255),1,cv2.LINE_AA)\n",
    "            cv2.rectangle(frame, (x,y),(x+w,y+h),(0,0,255),2)\n",
    "        '''\n",
    "        # LBPHFace\n",
    "        if result[1] < 70:\n",
    "            cv2.putText(frame,'{}'.format(imagePaths[result[0]]),(x,y-25),2,1.1,(0,255,0),1,cv2.LINE_AA)\n",
    "            cv2.rectangle(frame, (x,y),(x+w,y+h),(0,255,0),2)\n",
    "        else:\n",
    "            cv2.putText(frame,'Desconocido',(x,y-20),2,0.8,(0,0,255),1,cv2.LINE_AA)\n",
    "            cv2.rectangle(frame, (x,y),(x+w,y+h),(0,0,255),2)\n",
    "        \n",
    "    cv2.imshow('frame',frame)\n",
    "    k = cv2.waitKey(1)\n",
    "    if k == 27:\n",
    "        break\n",
    "cap.release()\n",
    "cv2.destroyAllWindows()"
   ]
  },
  {
   "cell_type": "code",
   "execution_count": null,
   "metadata": {},
   "outputs": [],
   "source": []
  }
 ],
 "metadata": {
  "kernelspec": {
   "display_name": "Python 3 (ipykernel)",
   "language": "python",
   "name": "python3"
  },
  "language_info": {
   "codemirror_mode": {
    "name": "ipython",
    "version": 3
   },
   "file_extension": ".py",
   "mimetype": "text/x-python",
   "name": "python",
   "nbconvert_exporter": "python",
   "pygments_lexer": "ipython3",
   "version": "3.8.10"
  }
 },
 "nbformat": 4,
 "nbformat_minor": 4
}
